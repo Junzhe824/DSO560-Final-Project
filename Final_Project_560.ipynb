{
  "cells": [
    {
      "cell_type": "markdown",
      "metadata": {
        "id": "F_huSaWH0PJZ"
      },
      "source": [
        "### In this notebook, we created some models to identify fake and true news, and labelled the topics of each news. Because the data amount is too large, we used the title of each news for clissification.\n",
        "\n",
        "#### 1. We first executed data cleaning - removed some stopwords and punctuations. etc.\n",
        "#### 2. Then, we executed feature engineering - converted documents into word2ved, and used svd for dimension reduction.\n",
        "#### 3. We created some baseline models(logistic regression, etc) and advanced models(LTSM and RNN) for clissification.\n",
        "#### 4. We executed topic modelling to realize the main topics of fake and true news respectively. "
      ]
    },
    {
      "cell_type": "code",
      "execution_count": 1,
      "metadata": {
        "ExecuteTime": {
          "end_time": "2021-12-17T05:10:27.014229Z",
          "start_time": "2021-12-17T05:10:21.633069Z"
        },
        "id": "zCdtwuOzqQsh"
      },
      "outputs": [],
      "source": [
        "import numpy as np\n",
        "import pandas as pd\n",
        "import seaborn as sns\n",
        "import matplotlib.pyplot as plt\n",
        "import nltk\n",
        "from sklearn.preprocessing import LabelBinarizer\n",
        "from nltk.corpus import stopwords\n",
        "from nltk.stem.porter import PorterStemmer\n",
        "from wordcloud import WordCloud,STOPWORDS\n",
        "from nltk.stem import WordNetLemmatizer\n",
        "from nltk.tokenize import word_tokenize,sent_tokenize\n",
        "from bs4 import BeautifulSoup\n",
        "import re,string,unicodedata\n",
        "from keras.preprocessing import text, sequence\n",
        "from sklearn.metrics import classification_report,confusion_matrix,accuracy_score\n",
        "from sklearn.model_selection import train_test_split\n",
        "from string import punctuation\n",
        "from nltk import pos_tag\n",
        "from nltk.corpus import wordnet\n",
        "import keras\n",
        "from keras.models import Sequential\n",
        "from keras.layers import Dense,Embedding,LSTM,Dropout\n",
        "from keras.callbacks import ReduceLROnPlateau\n",
        "import tensorflow as tf\n",
        "from google.colab import files"
      ]
    },
    {
      "cell_type": "code",
      "execution_count": 2,
      "metadata": {
        "colab": {
          "base_uri": "https://localhost:8080/",
          "height": 73,
          "resources": {
            "http://localhost:8080/nbextensions/google.colab/files.js": {
              "data": "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",
              "headers": [
                [
                  "content-type",
                  "application/javascript"
                ]
              ],
              "ok": true,
              "status": 200,
              "status_text": ""
            }
          }
        },
        "id": "Gv2xoR3usq1L",
        "outputId": "c21d909b-79c0-4813-ac75-52115360944b"
      },
      "outputs": [
        {
          "output_type": "display_data",
          "data": {
            "text/html": [
              "\n",
              "     <input type=\"file\" id=\"files-d1993b04-3a9a-4423-9a49-5752425e8b09\" name=\"files[]\" multiple disabled\n",
              "        style=\"border:none\" />\n",
              "     <output id=\"result-d1993b04-3a9a-4423-9a49-5752425e8b09\">\n",
              "      Upload widget is only available when the cell has been executed in the\n",
              "      current browser session. Please rerun this cell to enable.\n",
              "      </output>\n",
              "      <script src=\"/nbextensions/google.colab/files.js\"></script> "
            ],
            "text/plain": [
              "<IPython.core.display.HTML object>"
            ]
          },
          "metadata": {}
        },
        {
          "output_type": "stream",
          "name": "stdout",
          "text": [
            "Saving True.csv to True.csv\n"
          ]
        }
      ],
      "source": [
        "auploaded = files.upload()"
      ]
    },
    {
      "cell_type": "code",
      "execution_count": 3,
      "metadata": {
        "colab": {
          "base_uri": "https://localhost:8080/",
          "height": 73,
          "resources": {
            "http://localhost:8080/nbextensions/google.colab/files.js": {
              "data": "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",
              "headers": [
                [
                  "content-type",
                  "application/javascript"
                ]
              ],
              "ok": true,
              "status": 200,
              "status_text": ""
            }
          }
        },
        "id": "JzLM6pfbswTr",
        "outputId": "1ee903bd-3b86-415b-d84c-14b3acf07b80"
      },
      "outputs": [
        {
          "output_type": "display_data",
          "data": {
            "text/html": [
              "\n",
              "     <input type=\"file\" id=\"files-ace7e450-d0ba-44cf-9b08-cf1e686fb03a\" name=\"files[]\" multiple disabled\n",
              "        style=\"border:none\" />\n",
              "     <output id=\"result-ace7e450-d0ba-44cf-9b08-cf1e686fb03a\">\n",
              "      Upload widget is only available when the cell has been executed in the\n",
              "      current browser session. Please rerun this cell to enable.\n",
              "      </output>\n",
              "      <script src=\"/nbextensions/google.colab/files.js\"></script> "
            ],
            "text/plain": [
              "<IPython.core.display.HTML object>"
            ]
          },
          "metadata": {}
        },
        {
          "output_type": "stream",
          "name": "stdout",
          "text": [
            "Saving Fake.csv to Fake.csv\n"
          ]
        }
      ],
      "source": [
        "auploaded = files.upload()"
      ]
    },
    {
      "cell_type": "code",
      "execution_count": 71,
      "metadata": {
        "ExecuteTime": {
          "end_time": "2021-12-17T05:10:33.074744Z",
          "start_time": "2021-12-17T05:10:31.402842Z"
        },
        "id": "_mEw3_GyqQsm"
      },
      "outputs": [],
      "source": [
        "data_t = pd.read_csv('True.csv', parse_dates=['date'])\n",
        "data_f = pd.read_csv('Fake.csv', parse_dates=['date'])"
      ]
    },
    {
      "cell_type": "code",
      "execution_count": 28,
      "metadata": {
        "ExecuteTime": {
          "end_time": "2021-12-17T05:10:34.430237Z",
          "start_time": "2021-12-17T05:10:34.400351Z"
        },
        "colab": {
          "base_uri": "https://localhost:8080/",
          "height": 423
        },
        "id": "h-JuNoCHqQsn",
        "outputId": "b708254b-4bec-4a0e-8354-179e10752529"
      },
      "outputs": [
        {
          "output_type": "execute_result",
          "data": {
            "text/html": [
              "\n",
              "  <div id=\"df-1dcf21d7-d006-4229-8e0b-8d5a9e0f765e\">\n",
              "    <div class=\"colab-df-container\">\n",
              "      <div>\n",
              "<style scoped>\n",
              "    .dataframe tbody tr th:only-of-type {\n",
              "        vertical-align: middle;\n",
              "    }\n",
              "\n",
              "    .dataframe tbody tr th {\n",
              "        vertical-align: top;\n",
              "    }\n",
              "\n",
              "    .dataframe thead th {\n",
              "        text-align: right;\n",
              "    }\n",
              "</style>\n",
              "<table border=\"1\" class=\"dataframe\">\n",
              "  <thead>\n",
              "    <tr style=\"text-align: right;\">\n",
              "      <th></th>\n",
              "      <th>title</th>\n",
              "      <th>text</th>\n",
              "      <th>subject</th>\n",
              "      <th>date</th>\n",
              "    </tr>\n",
              "  </thead>\n",
              "  <tbody>\n",
              "    <tr>\n",
              "      <th>0</th>\n",
              "      <td>As U.S. budget fight looms, Republicans flip t...</td>\n",
              "      <td>WASHINGTON (Reuters) - The head of a conservat...</td>\n",
              "      <td>politicsNews</td>\n",
              "      <td>2017-12-31</td>\n",
              "    </tr>\n",
              "    <tr>\n",
              "      <th>1</th>\n",
              "      <td>U.S. military to accept transgender recruits o...</td>\n",
              "      <td>WASHINGTON (Reuters) - Transgender people will...</td>\n",
              "      <td>politicsNews</td>\n",
              "      <td>2017-12-29</td>\n",
              "    </tr>\n",
              "    <tr>\n",
              "      <th>2</th>\n",
              "      <td>Senior U.S. Republican senator: 'Let Mr. Muell...</td>\n",
              "      <td>WASHINGTON (Reuters) - The special counsel inv...</td>\n",
              "      <td>politicsNews</td>\n",
              "      <td>2017-12-31</td>\n",
              "    </tr>\n",
              "    <tr>\n",
              "      <th>3</th>\n",
              "      <td>FBI Russia probe helped by Australian diplomat...</td>\n",
              "      <td>WASHINGTON (Reuters) - Trump campaign adviser ...</td>\n",
              "      <td>politicsNews</td>\n",
              "      <td>2017-12-30</td>\n",
              "    </tr>\n",
              "    <tr>\n",
              "      <th>4</th>\n",
              "      <td>Trump wants Postal Service to charge 'much mor...</td>\n",
              "      <td>SEATTLE/WASHINGTON (Reuters) - President Donal...</td>\n",
              "      <td>politicsNews</td>\n",
              "      <td>2017-12-29</td>\n",
              "    </tr>\n",
              "    <tr>\n",
              "      <th>...</th>\n",
              "      <td>...</td>\n",
              "      <td>...</td>\n",
              "      <td>...</td>\n",
              "      <td>...</td>\n",
              "    </tr>\n",
              "    <tr>\n",
              "      <th>21412</th>\n",
              "      <td>'Fully committed' NATO backs new U.S. approach...</td>\n",
              "      <td>BRUSSELS (Reuters) - NATO allies on Tuesday we...</td>\n",
              "      <td>worldnews</td>\n",
              "      <td>2017-08-22</td>\n",
              "    </tr>\n",
              "    <tr>\n",
              "      <th>21413</th>\n",
              "      <td>LexisNexis withdrew two products from Chinese ...</td>\n",
              "      <td>LONDON (Reuters) - LexisNexis, a provider of l...</td>\n",
              "      <td>worldnews</td>\n",
              "      <td>2017-08-22</td>\n",
              "    </tr>\n",
              "    <tr>\n",
              "      <th>21414</th>\n",
              "      <td>Minsk cultural hub becomes haven from authorities</td>\n",
              "      <td>MINSK (Reuters) - In the shadow of disused Sov...</td>\n",
              "      <td>worldnews</td>\n",
              "      <td>2017-08-22</td>\n",
              "    </tr>\n",
              "    <tr>\n",
              "      <th>21415</th>\n",
              "      <td>Vatican upbeat on possibility of Pope Francis ...</td>\n",
              "      <td>MOSCOW (Reuters) - Vatican Secretary of State ...</td>\n",
              "      <td>worldnews</td>\n",
              "      <td>2017-08-22</td>\n",
              "    </tr>\n",
              "    <tr>\n",
              "      <th>21416</th>\n",
              "      <td>Indonesia to buy $1.14 billion worth of Russia...</td>\n",
              "      <td>JAKARTA (Reuters) - Indonesia will buy 11 Sukh...</td>\n",
              "      <td>worldnews</td>\n",
              "      <td>2017-08-22</td>\n",
              "    </tr>\n",
              "  </tbody>\n",
              "</table>\n",
              "<p>21417 rows × 4 columns</p>\n",
              "</div>\n",
              "      <button class=\"colab-df-convert\" onclick=\"convertToInteractive('df-1dcf21d7-d006-4229-8e0b-8d5a9e0f765e')\"\n",
              "              title=\"Convert this dataframe to an interactive table.\"\n",
              "              style=\"display:none;\">\n",
              "        \n",
              "  <svg xmlns=\"http://www.w3.org/2000/svg\" height=\"24px\"viewBox=\"0 0 24 24\"\n",
              "       width=\"24px\">\n",
              "    <path d=\"M0 0h24v24H0V0z\" fill=\"none\"/>\n",
              "    <path d=\"M18.56 5.44l.94 2.06.94-2.06 2.06-.94-2.06-.94-.94-2.06-.94 2.06-2.06.94zm-11 1L8.5 8.5l.94-2.06 2.06-.94-2.06-.94L8.5 2.5l-.94 2.06-2.06.94zm10 10l.94 2.06.94-2.06 2.06-.94-2.06-.94-.94-2.06-.94 2.06-2.06.94z\"/><path d=\"M17.41 7.96l-1.37-1.37c-.4-.4-.92-.59-1.43-.59-.52 0-1.04.2-1.43.59L10.3 9.45l-7.72 7.72c-.78.78-.78 2.05 0 2.83L4 21.41c.39.39.9.59 1.41.59.51 0 1.02-.2 1.41-.59l7.78-7.78 2.81-2.81c.8-.78.8-2.07 0-2.86zM5.41 20L4 18.59l7.72-7.72 1.47 1.35L5.41 20z\"/>\n",
              "  </svg>\n",
              "      </button>\n",
              "      \n",
              "  <style>\n",
              "    .colab-df-container {\n",
              "      display:flex;\n",
              "      flex-wrap:wrap;\n",
              "      gap: 12px;\n",
              "    }\n",
              "\n",
              "    .colab-df-convert {\n",
              "      background-color: #E8F0FE;\n",
              "      border: none;\n",
              "      border-radius: 50%;\n",
              "      cursor: pointer;\n",
              "      display: none;\n",
              "      fill: #1967D2;\n",
              "      height: 32px;\n",
              "      padding: 0 0 0 0;\n",
              "      width: 32px;\n",
              "    }\n",
              "\n",
              "    .colab-df-convert:hover {\n",
              "      background-color: #E2EBFA;\n",
              "      box-shadow: 0px 1px 2px rgba(60, 64, 67, 0.3), 0px 1px 3px 1px rgba(60, 64, 67, 0.15);\n",
              "      fill: #174EA6;\n",
              "    }\n",
              "\n",
              "    [theme=dark] .colab-df-convert {\n",
              "      background-color: #3B4455;\n",
              "      fill: #D2E3FC;\n",
              "    }\n",
              "\n",
              "    [theme=dark] .colab-df-convert:hover {\n",
              "      background-color: #434B5C;\n",
              "      box-shadow: 0px 1px 3px 1px rgba(0, 0, 0, 0.15);\n",
              "      filter: drop-shadow(0px 1px 2px rgba(0, 0, 0, 0.3));\n",
              "      fill: #FFFFFF;\n",
              "    }\n",
              "  </style>\n",
              "\n",
              "      <script>\n",
              "        const buttonEl =\n",
              "          document.querySelector('#df-1dcf21d7-d006-4229-8e0b-8d5a9e0f765e button.colab-df-convert');\n",
              "        buttonEl.style.display =\n",
              "          google.colab.kernel.accessAllowed ? 'block' : 'none';\n",
              "\n",
              "        async function convertToInteractive(key) {\n",
              "          const element = document.querySelector('#df-1dcf21d7-d006-4229-8e0b-8d5a9e0f765e');\n",
              "          const dataTable =\n",
              "            await google.colab.kernel.invokeFunction('convertToInteractive',\n",
              "                                                     [key], {});\n",
              "          if (!dataTable) return;\n",
              "\n",
              "          const docLinkHtml = 'Like what you see? Visit the ' +\n",
              "            '<a target=\"_blank\" href=https://colab.research.google.com/notebooks/data_table.ipynb>data table notebook</a>'\n",
              "            + ' to learn more about interactive tables.';\n",
              "          element.innerHTML = '';\n",
              "          dataTable['output_type'] = 'display_data';\n",
              "          await google.colab.output.renderOutput(dataTable, element);\n",
              "          const docLink = document.createElement('div');\n",
              "          docLink.innerHTML = docLinkHtml;\n",
              "          element.appendChild(docLink);\n",
              "        }\n",
              "      </script>\n",
              "    </div>\n",
              "  </div>\n",
              "  "
            ],
            "text/plain": [
              "                                                   title  ...       date\n",
              "0      As U.S. budget fight looms, Republicans flip t...  ... 2017-12-31\n",
              "1      U.S. military to accept transgender recruits o...  ... 2017-12-29\n",
              "2      Senior U.S. Republican senator: 'Let Mr. Muell...  ... 2017-12-31\n",
              "3      FBI Russia probe helped by Australian diplomat...  ... 2017-12-30\n",
              "4      Trump wants Postal Service to charge 'much mor...  ... 2017-12-29\n",
              "...                                                  ...  ...        ...\n",
              "21412  'Fully committed' NATO backs new U.S. approach...  ... 2017-08-22\n",
              "21413  LexisNexis withdrew two products from Chinese ...  ... 2017-08-22\n",
              "21414  Minsk cultural hub becomes haven from authorities  ... 2017-08-22\n",
              "21415  Vatican upbeat on possibility of Pope Francis ...  ... 2017-08-22\n",
              "21416  Indonesia to buy $1.14 billion worth of Russia...  ... 2017-08-22\n",
              "\n",
              "[21417 rows x 4 columns]"
            ]
          },
          "metadata": {},
          "execution_count": 28
        }
      ],
      "source": [
        "data_t"
      ]
    },
    {
      "cell_type": "code",
      "execution_count": 6,
      "metadata": {
        "ExecuteTime": {
          "end_time": "2021-12-17T05:10:35.205061Z",
          "start_time": "2021-12-17T05:10:35.181091Z"
        },
        "colab": {
          "base_uri": "https://localhost:8080/",
          "height": 423
        },
        "id": "2uyVh7jKqQso",
        "outputId": "ce5611a9-1e20-4505-b38c-3371c9107923"
      },
      "outputs": [
        {
          "output_type": "execute_result",
          "data": {
            "text/html": [
              "\n",
              "  <div id=\"df-d7b1cc99-4b39-4a11-a84e-ab9f57f5ac7a\">\n",
              "    <div class=\"colab-df-container\">\n",
              "      <div>\n",
              "<style scoped>\n",
              "    .dataframe tbody tr th:only-of-type {\n",
              "        vertical-align: middle;\n",
              "    }\n",
              "\n",
              "    .dataframe tbody tr th {\n",
              "        vertical-align: top;\n",
              "    }\n",
              "\n",
              "    .dataframe thead th {\n",
              "        text-align: right;\n",
              "    }\n",
              "</style>\n",
              "<table border=\"1\" class=\"dataframe\">\n",
              "  <thead>\n",
              "    <tr style=\"text-align: right;\">\n",
              "      <th></th>\n",
              "      <th>title</th>\n",
              "      <th>text</th>\n",
              "      <th>subject</th>\n",
              "      <th>date</th>\n",
              "    </tr>\n",
              "  </thead>\n",
              "  <tbody>\n",
              "    <tr>\n",
              "      <th>0</th>\n",
              "      <td>Donald Trump Sends Out Embarrassing New Year’...</td>\n",
              "      <td>Donald Trump just couldn t wish all Americans ...</td>\n",
              "      <td>News</td>\n",
              "      <td>December 31, 2017</td>\n",
              "    </tr>\n",
              "    <tr>\n",
              "      <th>1</th>\n",
              "      <td>Drunk Bragging Trump Staffer Started Russian ...</td>\n",
              "      <td>House Intelligence Committee Chairman Devin Nu...</td>\n",
              "      <td>News</td>\n",
              "      <td>December 31, 2017</td>\n",
              "    </tr>\n",
              "    <tr>\n",
              "      <th>2</th>\n",
              "      <td>Sheriff David Clarke Becomes An Internet Joke...</td>\n",
              "      <td>On Friday, it was revealed that former Milwauk...</td>\n",
              "      <td>News</td>\n",
              "      <td>December 30, 2017</td>\n",
              "    </tr>\n",
              "    <tr>\n",
              "      <th>3</th>\n",
              "      <td>Trump Is So Obsessed He Even Has Obama’s Name...</td>\n",
              "      <td>On Christmas day, Donald Trump announced that ...</td>\n",
              "      <td>News</td>\n",
              "      <td>December 29, 2017</td>\n",
              "    </tr>\n",
              "    <tr>\n",
              "      <th>4</th>\n",
              "      <td>Pope Francis Just Called Out Donald Trump Dur...</td>\n",
              "      <td>Pope Francis used his annual Christmas Day mes...</td>\n",
              "      <td>News</td>\n",
              "      <td>December 25, 2017</td>\n",
              "    </tr>\n",
              "    <tr>\n",
              "      <th>...</th>\n",
              "      <td>...</td>\n",
              "      <td>...</td>\n",
              "      <td>...</td>\n",
              "      <td>...</td>\n",
              "    </tr>\n",
              "    <tr>\n",
              "      <th>23476</th>\n",
              "      <td>McPain: John McCain Furious That Iran Treated ...</td>\n",
              "      <td>21st Century Wire says As 21WIRE reported earl...</td>\n",
              "      <td>Middle-east</td>\n",
              "      <td>January 16, 2016</td>\n",
              "    </tr>\n",
              "    <tr>\n",
              "      <th>23477</th>\n",
              "      <td>JUSTICE? Yahoo Settles E-mail Privacy Class-ac...</td>\n",
              "      <td>21st Century Wire says It s a familiar theme. ...</td>\n",
              "      <td>Middle-east</td>\n",
              "      <td>January 16, 2016</td>\n",
              "    </tr>\n",
              "    <tr>\n",
              "      <th>23478</th>\n",
              "      <td>Sunnistan: US and Allied ‘Safe Zone’ Plan to T...</td>\n",
              "      <td>Patrick Henningsen  21st Century WireRemember ...</td>\n",
              "      <td>Middle-east</td>\n",
              "      <td>January 15, 2016</td>\n",
              "    </tr>\n",
              "    <tr>\n",
              "      <th>23479</th>\n",
              "      <td>How to Blow $700 Million: Al Jazeera America F...</td>\n",
              "      <td>21st Century Wire says Al Jazeera America will...</td>\n",
              "      <td>Middle-east</td>\n",
              "      <td>January 14, 2016</td>\n",
              "    </tr>\n",
              "    <tr>\n",
              "      <th>23480</th>\n",
              "      <td>10 U.S. Navy Sailors Held by Iranian Military ...</td>\n",
              "      <td>21st Century Wire says As 21WIRE predicted in ...</td>\n",
              "      <td>Middle-east</td>\n",
              "      <td>January 12, 2016</td>\n",
              "    </tr>\n",
              "  </tbody>\n",
              "</table>\n",
              "<p>23481 rows × 4 columns</p>\n",
              "</div>\n",
              "      <button class=\"colab-df-convert\" onclick=\"convertToInteractive('df-d7b1cc99-4b39-4a11-a84e-ab9f57f5ac7a')\"\n",
              "              title=\"Convert this dataframe to an interactive table.\"\n",
              "              style=\"display:none;\">\n",
              "        \n",
              "  <svg xmlns=\"http://www.w3.org/2000/svg\" height=\"24px\"viewBox=\"0 0 24 24\"\n",
              "       width=\"24px\">\n",
              "    <path d=\"M0 0h24v24H0V0z\" fill=\"none\"/>\n",
              "    <path d=\"M18.56 5.44l.94 2.06.94-2.06 2.06-.94-2.06-.94-.94-2.06-.94 2.06-2.06.94zm-11 1L8.5 8.5l.94-2.06 2.06-.94-2.06-.94L8.5 2.5l-.94 2.06-2.06.94zm10 10l.94 2.06.94-2.06 2.06-.94-2.06-.94-.94-2.06-.94 2.06-2.06.94z\"/><path d=\"M17.41 7.96l-1.37-1.37c-.4-.4-.92-.59-1.43-.59-.52 0-1.04.2-1.43.59L10.3 9.45l-7.72 7.72c-.78.78-.78 2.05 0 2.83L4 21.41c.39.39.9.59 1.41.59.51 0 1.02-.2 1.41-.59l7.78-7.78 2.81-2.81c.8-.78.8-2.07 0-2.86zM5.41 20L4 18.59l7.72-7.72 1.47 1.35L5.41 20z\"/>\n",
              "  </svg>\n",
              "      </button>\n",
              "      \n",
              "  <style>\n",
              "    .colab-df-container {\n",
              "      display:flex;\n",
              "      flex-wrap:wrap;\n",
              "      gap: 12px;\n",
              "    }\n",
              "\n",
              "    .colab-df-convert {\n",
              "      background-color: #E8F0FE;\n",
              "      border: none;\n",
              "      border-radius: 50%;\n",
              "      cursor: pointer;\n",
              "      display: none;\n",
              "      fill: #1967D2;\n",
              "      height: 32px;\n",
              "      padding: 0 0 0 0;\n",
              "      width: 32px;\n",
              "    }\n",
              "\n",
              "    .colab-df-convert:hover {\n",
              "      background-color: #E2EBFA;\n",
              "      box-shadow: 0px 1px 2px rgba(60, 64, 67, 0.3), 0px 1px 3px 1px rgba(60, 64, 67, 0.15);\n",
              "      fill: #174EA6;\n",
              "    }\n",
              "\n",
              "    [theme=dark] .colab-df-convert {\n",
              "      background-color: #3B4455;\n",
              "      fill: #D2E3FC;\n",
              "    }\n",
              "\n",
              "    [theme=dark] .colab-df-convert:hover {\n",
              "      background-color: #434B5C;\n",
              "      box-shadow: 0px 1px 3px 1px rgba(0, 0, 0, 0.15);\n",
              "      filter: drop-shadow(0px 1px 2px rgba(0, 0, 0, 0.3));\n",
              "      fill: #FFFFFF;\n",
              "    }\n",
              "  </style>\n",
              "\n",
              "      <script>\n",
              "        const buttonEl =\n",
              "          document.querySelector('#df-d7b1cc99-4b39-4a11-a84e-ab9f57f5ac7a button.colab-df-convert');\n",
              "        buttonEl.style.display =\n",
              "          google.colab.kernel.accessAllowed ? 'block' : 'none';\n",
              "\n",
              "        async function convertToInteractive(key) {\n",
              "          const element = document.querySelector('#df-d7b1cc99-4b39-4a11-a84e-ab9f57f5ac7a');\n",
              "          const dataTable =\n",
              "            await google.colab.kernel.invokeFunction('convertToInteractive',\n",
              "                                                     [key], {});\n",
              "          if (!dataTable) return;\n",
              "\n",
              "          const docLinkHtml = 'Like what you see? Visit the ' +\n",
              "            '<a target=\"_blank\" href=https://colab.research.google.com/notebooks/data_table.ipynb>data table notebook</a>'\n",
              "            + ' to learn more about interactive tables.';\n",
              "          element.innerHTML = '';\n",
              "          dataTable['output_type'] = 'display_data';\n",
              "          await google.colab.output.renderOutput(dataTable, element);\n",
              "          const docLink = document.createElement('div');\n",
              "          docLink.innerHTML = docLinkHtml;\n",
              "          element.appendChild(docLink);\n",
              "        }\n",
              "      </script>\n",
              "    </div>\n",
              "  </div>\n",
              "  "
            ],
            "text/plain": [
              "                                                   title  ...               date\n",
              "0       Donald Trump Sends Out Embarrassing New Year’...  ...  December 31, 2017\n",
              "1       Drunk Bragging Trump Staffer Started Russian ...  ...  December 31, 2017\n",
              "2       Sheriff David Clarke Becomes An Internet Joke...  ...  December 30, 2017\n",
              "3       Trump Is So Obsessed He Even Has Obama’s Name...  ...  December 29, 2017\n",
              "4       Pope Francis Just Called Out Donald Trump Dur...  ...  December 25, 2017\n",
              "...                                                  ...  ...                ...\n",
              "23476  McPain: John McCain Furious That Iran Treated ...  ...   January 16, 2016\n",
              "23477  JUSTICE? Yahoo Settles E-mail Privacy Class-ac...  ...   January 16, 2016\n",
              "23478  Sunnistan: US and Allied ‘Safe Zone’ Plan to T...  ...   January 15, 2016\n",
              "23479  How to Blow $700 Million: Al Jazeera America F...  ...   January 14, 2016\n",
              "23480  10 U.S. Navy Sailors Held by Iranian Military ...  ...   January 12, 2016\n",
              "\n",
              "[23481 rows x 4 columns]"
            ]
          },
          "metadata": {},
          "execution_count": 6
        }
      ],
      "source": [
        "data_f"
      ]
    },
    {
      "cell_type": "markdown",
      "metadata": {
        "id": "k7KRDp5zzwqh"
      },
      "source": [
        "## Data Cleaning"
      ]
    },
    {
      "cell_type": "code",
      "execution_count": 72,
      "metadata": {
        "ExecuteTime": {
          "end_time": "2021-12-17T05:10:37.610273Z",
          "start_time": "2021-12-17T05:10:37.591321Z"
        },
        "id": "UrPnM3HkqQsp"
      },
      "outputs": [],
      "source": [
        "data_f = data_f[['title','text']]\n",
        "data_t = data_t[['title','text']]"
      ]
    },
    {
      "cell_type": "code",
      "execution_count": 73,
      "metadata": {
        "ExecuteTime": {
          "end_time": "2021-12-17T05:10:38.132309Z",
          "start_time": "2021-12-17T05:10:38.109340Z"
        },
        "id": "qe3v5SDZqQsq"
      },
      "outputs": [],
      "source": [
        "data_f['authentic'] = 0\n",
        "data_t['authentic'] = 1"
      ]
    },
    {
      "cell_type": "code",
      "execution_count": 74,
      "metadata": {
        "ExecuteTime": {
          "end_time": "2021-12-17T05:10:38.585048Z",
          "start_time": "2021-12-17T05:10:38.569090Z"
        },
        "id": "QSoUwztRqQsr"
      },
      "outputs": [],
      "source": [
        "data_f = data_f.sample(frac=0.4, replace=True, random_state=1)\n",
        "data_t = data_t.sample(frac=0.4, replace=True, random_state=1)"
      ]
    },
    {
      "cell_type": "code",
      "execution_count": 75,
      "metadata": {
        "ExecuteTime": {
          "end_time": "2021-12-17T05:10:39.088472Z",
          "start_time": "2021-12-17T05:10:39.069478Z"
        },
        "colab": {
          "base_uri": "https://localhost:8080/",
          "height": 423
        },
        "id": "g0itKnEiqQss",
        "outputId": "3cbb1430-21fb-4083-894d-520fa4731225"
      },
      "outputs": [
        {
          "output_type": "execute_result",
          "data": {
            "text/html": [
              "\n",
              "  <div id=\"df-f6a5e9d6-a1dd-4751-9c47-f7ca9205d169\">\n",
              "    <div class=\"colab-df-container\">\n",
              "      <div>\n",
              "<style scoped>\n",
              "    .dataframe tbody tr th:only-of-type {\n",
              "        vertical-align: middle;\n",
              "    }\n",
              "\n",
              "    .dataframe tbody tr th {\n",
              "        vertical-align: top;\n",
              "    }\n",
              "\n",
              "    .dataframe thead th {\n",
              "        text-align: right;\n",
              "    }\n",
              "</style>\n",
              "<table border=\"1\" class=\"dataframe\">\n",
              "  <thead>\n",
              "    <tr style=\"text-align: right;\">\n",
              "      <th></th>\n",
              "      <th>title</th>\n",
              "      <th>text</th>\n",
              "      <th>authentic</th>\n",
              "    </tr>\n",
              "  </thead>\n",
              "  <tbody>\n",
              "    <tr>\n",
              "      <th>235</th>\n",
              "      <td>U.S. House committee 'may reconsider' WHO canc...</td>\n",
              "      <td>LONDON (Reuters) - U.S. congressional committe...</td>\n",
              "      <td>1</td>\n",
              "    </tr>\n",
              "    <tr>\n",
              "      <th>12172</th>\n",
              "      <td>'Congratulations': EU moves to Brexit phase tw...</td>\n",
              "      <td>BRUSSELS (Reuters) - The European Union agreed...</td>\n",
              "      <td>1</td>\n",
              "    </tr>\n",
              "    <tr>\n",
              "      <th>5192</th>\n",
              "      <td>White House aides told to preserve materials i...</td>\n",
              "      <td>WASHINGTON (Reuters) - The White House counsel...</td>\n",
              "      <td>1</td>\n",
              "    </tr>\n",
              "    <tr>\n",
              "      <th>17289</th>\n",
              "      <td>U.S. 'very concerned' by violence around Iraq'...</td>\n",
              "      <td>WASHINGTON (Reuters) - The U.S. State Departme...</td>\n",
              "      <td>1</td>\n",
              "    </tr>\n",
              "    <tr>\n",
              "      <th>10955</th>\n",
              "      <td>Obama's move on gender pay gap seen as first s...</td>\n",
              "      <td>NEW YORK (Reuters) - Advocates fighting to clo...</td>\n",
              "      <td>1</td>\n",
              "    </tr>\n",
              "    <tr>\n",
              "      <th>...</th>\n",
              "      <td>...</td>\n",
              "      <td>...</td>\n",
              "      <td>...</td>\n",
              "    </tr>\n",
              "    <tr>\n",
              "      <th>2108</th>\n",
              "      <td>Trump considering options for new Afghanistan ...</td>\n",
              "      <td>WASHINGTON (Reuters) - President Donald Trump ...</td>\n",
              "      <td>1</td>\n",
              "    </tr>\n",
              "    <tr>\n",
              "      <th>9158</th>\n",
              "      <td>Trump fights release of video testimony in fra...</td>\n",
              "      <td>NEW YORK (Reuters) - Lawyers for Republican pr...</td>\n",
              "      <td>1</td>\n",
              "    </tr>\n",
              "    <tr>\n",
              "      <th>18228</th>\n",
              "      <td>Suicide bombing at southwest Pakistan shrine k...</td>\n",
              "      <td>QUETTA, Pakistan (Reuters) - A suicide bombing...</td>\n",
              "      <td>1</td>\n",
              "    </tr>\n",
              "    <tr>\n",
              "      <th>10884</th>\n",
              "      <td>Republicans Christie, Fiorina drop White House...</td>\n",
              "      <td>WASHINGTON (Reuters) - New Jersey Governor Chr...</td>\n",
              "      <td>1</td>\n",
              "    </tr>\n",
              "    <tr>\n",
              "      <th>18555</th>\n",
              "      <td>New Zealand's 'kingmaker' to start talks with ...</td>\n",
              "      <td>WELLINGTON (Reuters) - The New Zealand First P...</td>\n",
              "      <td>1</td>\n",
              "    </tr>\n",
              "  </tbody>\n",
              "</table>\n",
              "<p>8567 rows × 3 columns</p>\n",
              "</div>\n",
              "      <button class=\"colab-df-convert\" onclick=\"convertToInteractive('df-f6a5e9d6-a1dd-4751-9c47-f7ca9205d169')\"\n",
              "              title=\"Convert this dataframe to an interactive table.\"\n",
              "              style=\"display:none;\">\n",
              "        \n",
              "  <svg xmlns=\"http://www.w3.org/2000/svg\" height=\"24px\"viewBox=\"0 0 24 24\"\n",
              "       width=\"24px\">\n",
              "    <path d=\"M0 0h24v24H0V0z\" fill=\"none\"/>\n",
              "    <path d=\"M18.56 5.44l.94 2.06.94-2.06 2.06-.94-2.06-.94-.94-2.06-.94 2.06-2.06.94zm-11 1L8.5 8.5l.94-2.06 2.06-.94-2.06-.94L8.5 2.5l-.94 2.06-2.06.94zm10 10l.94 2.06.94-2.06 2.06-.94-2.06-.94-.94-2.06-.94 2.06-2.06.94z\"/><path d=\"M17.41 7.96l-1.37-1.37c-.4-.4-.92-.59-1.43-.59-.52 0-1.04.2-1.43.59L10.3 9.45l-7.72 7.72c-.78.78-.78 2.05 0 2.83L4 21.41c.39.39.9.59 1.41.59.51 0 1.02-.2 1.41-.59l7.78-7.78 2.81-2.81c.8-.78.8-2.07 0-2.86zM5.41 20L4 18.59l7.72-7.72 1.47 1.35L5.41 20z\"/>\n",
              "  </svg>\n",
              "      </button>\n",
              "      \n",
              "  <style>\n",
              "    .colab-df-container {\n",
              "      display:flex;\n",
              "      flex-wrap:wrap;\n",
              "      gap: 12px;\n",
              "    }\n",
              "\n",
              "    .colab-df-convert {\n",
              "      background-color: #E8F0FE;\n",
              "      border: none;\n",
              "      border-radius: 50%;\n",
              "      cursor: pointer;\n",
              "      display: none;\n",
              "      fill: #1967D2;\n",
              "      height: 32px;\n",
              "      padding: 0 0 0 0;\n",
              "      width: 32px;\n",
              "    }\n",
              "\n",
              "    .colab-df-convert:hover {\n",
              "      background-color: #E2EBFA;\n",
              "      box-shadow: 0px 1px 2px rgba(60, 64, 67, 0.3), 0px 1px 3px 1px rgba(60, 64, 67, 0.15);\n",
              "      fill: #174EA6;\n",
              "    }\n",
              "\n",
              "    [theme=dark] .colab-df-convert {\n",
              "      background-color: #3B4455;\n",
              "      fill: #D2E3FC;\n",
              "    }\n",
              "\n",
              "    [theme=dark] .colab-df-convert:hover {\n",
              "      background-color: #434B5C;\n",
              "      box-shadow: 0px 1px 3px 1px rgba(0, 0, 0, 0.15);\n",
              "      filter: drop-shadow(0px 1px 2px rgba(0, 0, 0, 0.3));\n",
              "      fill: #FFFFFF;\n",
              "    }\n",
              "  </style>\n",
              "\n",
              "      <script>\n",
              "        const buttonEl =\n",
              "          document.querySelector('#df-f6a5e9d6-a1dd-4751-9c47-f7ca9205d169 button.colab-df-convert');\n",
              "        buttonEl.style.display =\n",
              "          google.colab.kernel.accessAllowed ? 'block' : 'none';\n",
              "\n",
              "        async function convertToInteractive(key) {\n",
              "          const element = document.querySelector('#df-f6a5e9d6-a1dd-4751-9c47-f7ca9205d169');\n",
              "          const dataTable =\n",
              "            await google.colab.kernel.invokeFunction('convertToInteractive',\n",
              "                                                     [key], {});\n",
              "          if (!dataTable) return;\n",
              "\n",
              "          const docLinkHtml = 'Like what you see? Visit the ' +\n",
              "            '<a target=\"_blank\" href=https://colab.research.google.com/notebooks/data_table.ipynb>data table notebook</a>'\n",
              "            + ' to learn more about interactive tables.';\n",
              "          element.innerHTML = '';\n",
              "          dataTable['output_type'] = 'display_data';\n",
              "          await google.colab.output.renderOutput(dataTable, element);\n",
              "          const docLink = document.createElement('div');\n",
              "          docLink.innerHTML = docLinkHtml;\n",
              "          element.appendChild(docLink);\n",
              "        }\n",
              "      </script>\n",
              "    </div>\n",
              "  </div>\n",
              "  "
            ],
            "text/plain": [
              "                                                   title  ... authentic\n",
              "235    U.S. House committee 'may reconsider' WHO canc...  ...         1\n",
              "12172  'Congratulations': EU moves to Brexit phase tw...  ...         1\n",
              "5192   White House aides told to preserve materials i...  ...         1\n",
              "17289  U.S. 'very concerned' by violence around Iraq'...  ...         1\n",
              "10955  Obama's move on gender pay gap seen as first s...  ...         1\n",
              "...                                                  ...  ...       ...\n",
              "2108   Trump considering options for new Afghanistan ...  ...         1\n",
              "9158   Trump fights release of video testimony in fra...  ...         1\n",
              "18228  Suicide bombing at southwest Pakistan shrine k...  ...         1\n",
              "10884  Republicans Christie, Fiorina drop White House...  ...         1\n",
              "18555  New Zealand's 'kingmaker' to start talks with ...  ...         1\n",
              "\n",
              "[8567 rows x 3 columns]"
            ]
          },
          "metadata": {},
          "execution_count": 75
        }
      ],
      "source": [
        "data_t"
      ]
    },
    {
      "cell_type": "code",
      "execution_count": 76,
      "metadata": {
        "ExecuteTime": {
          "end_time": "2021-12-17T05:10:39.842054Z",
          "start_time": "2021-12-17T05:10:39.827095Z"
        },
        "colab": {
          "base_uri": "https://localhost:8080/",
          "height": 423
        },
        "id": "rVraWlWyqQst",
        "outputId": "d6615f7f-b164-4156-9acd-4e665b92a428"
      },
      "outputs": [
        {
          "output_type": "execute_result",
          "data": {
            "text/html": [
              "\n",
              "  <div id=\"df-4558c188-076d-40e6-9190-b76e549c17fc\">\n",
              "    <div class=\"colab-df-container\">\n",
              "      <div>\n",
              "<style scoped>\n",
              "    .dataframe tbody tr th:only-of-type {\n",
              "        vertical-align: middle;\n",
              "    }\n",
              "\n",
              "    .dataframe tbody tr th {\n",
              "        vertical-align: top;\n",
              "    }\n",
              "\n",
              "    .dataframe thead th {\n",
              "        text-align: right;\n",
              "    }\n",
              "</style>\n",
              "<table border=\"1\" class=\"dataframe\">\n",
              "  <thead>\n",
              "    <tr style=\"text-align: right;\">\n",
              "      <th></th>\n",
              "      <th>title</th>\n",
              "      <th>text</th>\n",
              "      <th>authentic</th>\n",
              "    </tr>\n",
              "  </thead>\n",
              "  <tbody>\n",
              "    <tr>\n",
              "      <th>235</th>\n",
              "      <td>GOP Lawmaker: Republicans Are Freaking Out Ab...</td>\n",
              "      <td>Sen. Bob Corker (R-TN) is being defended by on...</td>\n",
              "      <td>0</td>\n",
              "    </tr>\n",
              "    <tr>\n",
              "      <th>12172</th>\n",
              "      <td>JUDGE JEANINE TELLS THE LEFT TO KNOCK IT OFF: ...</td>\n",
              "      <td>Judge Jeanine Pirro has had it with the left a...</td>\n",
              "      <td>0</td>\n",
              "    </tr>\n",
              "    <tr>\n",
              "      <th>5192</th>\n",
              "      <td>D’oh!: Trump Tells Crowd In Richest County In...</td>\n",
              "      <td>While in Virginia, GOP presidential nominee Do...</td>\n",
              "      <td>0</td>\n",
              "    </tr>\n",
              "    <tr>\n",
              "      <th>17289</th>\n",
              "      <td>UNREAL! IRS USED ‘HUNDREDS OF LAWYERS’ TO HIDE...</td>\n",
              "      <td>So much for the promise of transparency from O...</td>\n",
              "      <td>0</td>\n",
              "    </tr>\n",
              "    <tr>\n",
              "      <th>10955</th>\n",
              "      <td>NAIVE NEWS ANCHOR Reporting On “Refugees” Gets...</td>\n",
              "      <td>This is so disturbing but such a wake up call ...</td>\n",
              "      <td>0</td>\n",
              "    </tr>\n",
              "    <tr>\n",
              "      <th>...</th>\n",
              "      <td>...</td>\n",
              "      <td>...</td>\n",
              "      <td>...</td>\n",
              "    </tr>\n",
              "    <tr>\n",
              "      <th>22843</th>\n",
              "      <td>Have the US, Trump Really Abandoned ‘Regime Ch...</td>\n",
              "      <td>Member of the US-backed Free Syrian Army, Ale...</td>\n",
              "      <td>0</td>\n",
              "    </tr>\n",
              "    <tr>\n",
              "      <th>11906</th>\n",
              "      <td>YES! JUDGE JEANINE HAMMERS Hollywood Lefty Ros...</td>\n",
              "      <td></td>\n",
              "      <td>0</td>\n",
              "    </tr>\n",
              "    <tr>\n",
              "      <th>10136</th>\n",
              "      <td>THE PURGE: NYC Mayor De Blasio to Review ‘All ...</td>\n",
              "      <td>THE PURGE CONTINUES THE NYC MAYOR has just ope...</td>\n",
              "      <td>0</td>\n",
              "    </tr>\n",
              "    <tr>\n",
              "      <th>5285</th>\n",
              "      <td>Trump Admits Democrats Are Hurting His Feelin...</td>\n",
              "      <td>Everyone knows Donald Trump is a thin-skinned ...</td>\n",
              "      <td>0</td>\n",
              "    </tr>\n",
              "    <tr>\n",
              "      <th>7510</th>\n",
              "      <td>Billionaire Liberal Governor Boosted State’s ...</td>\n",
              "      <td>Many Republicans often argue raising the minim...</td>\n",
              "      <td>0</td>\n",
              "    </tr>\n",
              "  </tbody>\n",
              "</table>\n",
              "<p>9392 rows × 3 columns</p>\n",
              "</div>\n",
              "      <button class=\"colab-df-convert\" onclick=\"convertToInteractive('df-4558c188-076d-40e6-9190-b76e549c17fc')\"\n",
              "              title=\"Convert this dataframe to an interactive table.\"\n",
              "              style=\"display:none;\">\n",
              "        \n",
              "  <svg xmlns=\"http://www.w3.org/2000/svg\" height=\"24px\"viewBox=\"0 0 24 24\"\n",
              "       width=\"24px\">\n",
              "    <path d=\"M0 0h24v24H0V0z\" fill=\"none\"/>\n",
              "    <path d=\"M18.56 5.44l.94 2.06.94-2.06 2.06-.94-2.06-.94-.94-2.06-.94 2.06-2.06.94zm-11 1L8.5 8.5l.94-2.06 2.06-.94-2.06-.94L8.5 2.5l-.94 2.06-2.06.94zm10 10l.94 2.06.94-2.06 2.06-.94-2.06-.94-.94-2.06-.94 2.06-2.06.94z\"/><path d=\"M17.41 7.96l-1.37-1.37c-.4-.4-.92-.59-1.43-.59-.52 0-1.04.2-1.43.59L10.3 9.45l-7.72 7.72c-.78.78-.78 2.05 0 2.83L4 21.41c.39.39.9.59 1.41.59.51 0 1.02-.2 1.41-.59l7.78-7.78 2.81-2.81c.8-.78.8-2.07 0-2.86zM5.41 20L4 18.59l7.72-7.72 1.47 1.35L5.41 20z\"/>\n",
              "  </svg>\n",
              "      </button>\n",
              "      \n",
              "  <style>\n",
              "    .colab-df-container {\n",
              "      display:flex;\n",
              "      flex-wrap:wrap;\n",
              "      gap: 12px;\n",
              "    }\n",
              "\n",
              "    .colab-df-convert {\n",
              "      background-color: #E8F0FE;\n",
              "      border: none;\n",
              "      border-radius: 50%;\n",
              "      cursor: pointer;\n",
              "      display: none;\n",
              "      fill: #1967D2;\n",
              "      height: 32px;\n",
              "      padding: 0 0 0 0;\n",
              "      width: 32px;\n",
              "    }\n",
              "\n",
              "    .colab-df-convert:hover {\n",
              "      background-color: #E2EBFA;\n",
              "      box-shadow: 0px 1px 2px rgba(60, 64, 67, 0.3), 0px 1px 3px 1px rgba(60, 64, 67, 0.15);\n",
              "      fill: #174EA6;\n",
              "    }\n",
              "\n",
              "    [theme=dark] .colab-df-convert {\n",
              "      background-color: #3B4455;\n",
              "      fill: #D2E3FC;\n",
              "    }\n",
              "\n",
              "    [theme=dark] .colab-df-convert:hover {\n",
              "      background-color: #434B5C;\n",
              "      box-shadow: 0px 1px 3px 1px rgba(0, 0, 0, 0.15);\n",
              "      filter: drop-shadow(0px 1px 2px rgba(0, 0, 0, 0.3));\n",
              "      fill: #FFFFFF;\n",
              "    }\n",
              "  </style>\n",
              "\n",
              "      <script>\n",
              "        const buttonEl =\n",
              "          document.querySelector('#df-4558c188-076d-40e6-9190-b76e549c17fc button.colab-df-convert');\n",
              "        buttonEl.style.display =\n",
              "          google.colab.kernel.accessAllowed ? 'block' : 'none';\n",
              "\n",
              "        async function convertToInteractive(key) {\n",
              "          const element = document.querySelector('#df-4558c188-076d-40e6-9190-b76e549c17fc');\n",
              "          const dataTable =\n",
              "            await google.colab.kernel.invokeFunction('convertToInteractive',\n",
              "                                                     [key], {});\n",
              "          if (!dataTable) return;\n",
              "\n",
              "          const docLinkHtml = 'Like what you see? Visit the ' +\n",
              "            '<a target=\"_blank\" href=https://colab.research.google.com/notebooks/data_table.ipynb>data table notebook</a>'\n",
              "            + ' to learn more about interactive tables.';\n",
              "          element.innerHTML = '';\n",
              "          dataTable['output_type'] = 'display_data';\n",
              "          await google.colab.output.renderOutput(dataTable, element);\n",
              "          const docLink = document.createElement('div');\n",
              "          docLink.innerHTML = docLinkHtml;\n",
              "          element.appendChild(docLink);\n",
              "        }\n",
              "      </script>\n",
              "    </div>\n",
              "  </div>\n",
              "  "
            ],
            "text/plain": [
              "                                                   title  ... authentic\n",
              "235     GOP Lawmaker: Republicans Are Freaking Out Ab...  ...         0\n",
              "12172  JUDGE JEANINE TELLS THE LEFT TO KNOCK IT OFF: ...  ...         0\n",
              "5192    D’oh!: Trump Tells Crowd In Richest County In...  ...         0\n",
              "17289  UNREAL! IRS USED ‘HUNDREDS OF LAWYERS’ TO HIDE...  ...         0\n",
              "10955  NAIVE NEWS ANCHOR Reporting On “Refugees” Gets...  ...         0\n",
              "...                                                  ...  ...       ...\n",
              "22843  Have the US, Trump Really Abandoned ‘Regime Ch...  ...         0\n",
              "11906  YES! JUDGE JEANINE HAMMERS Hollywood Lefty Ros...  ...         0\n",
              "10136  THE PURGE: NYC Mayor De Blasio to Review ‘All ...  ...         0\n",
              "5285    Trump Admits Democrats Are Hurting His Feelin...  ...         0\n",
              "7510    Billionaire Liberal Governor Boosted State’s ...  ...         0\n",
              "\n",
              "[9392 rows x 3 columns]"
            ]
          },
          "metadata": {},
          "execution_count": 76
        }
      ],
      "source": [
        "data_f"
      ]
    },
    {
      "cell_type": "code",
      "execution_count": 77,
      "metadata": {
        "ExecuteTime": {
          "end_time": "2021-12-17T05:10:40.471980Z",
          "start_time": "2021-12-17T05:10:40.456021Z"
        },
        "colab": {
          "base_uri": "https://localhost:8080/",
          "height": 423
        },
        "id": "ZSsT5a32qQst",
        "outputId": "cfdafa7e-a473-48d3-e8f4-d5f07e3bb7a2"
      },
      "outputs": [
        {
          "output_type": "execute_result",
          "data": {
            "text/html": [
              "\n",
              "  <div id=\"df-6d0d045b-1e53-4f89-8b39-91f01efcc38e\">\n",
              "    <div class=\"colab-df-container\">\n",
              "      <div>\n",
              "<style scoped>\n",
              "    .dataframe tbody tr th:only-of-type {\n",
              "        vertical-align: middle;\n",
              "    }\n",
              "\n",
              "    .dataframe tbody tr th {\n",
              "        vertical-align: top;\n",
              "    }\n",
              "\n",
              "    .dataframe thead th {\n",
              "        text-align: right;\n",
              "    }\n",
              "</style>\n",
              "<table border=\"1\" class=\"dataframe\">\n",
              "  <thead>\n",
              "    <tr style=\"text-align: right;\">\n",
              "      <th></th>\n",
              "      <th>title</th>\n",
              "      <th>text</th>\n",
              "      <th>authentic</th>\n",
              "    </tr>\n",
              "  </thead>\n",
              "  <tbody>\n",
              "    <tr>\n",
              "      <th>235</th>\n",
              "      <td>U.S. House committee 'may reconsider' WHO canc...</td>\n",
              "      <td>LONDON (Reuters) - U.S. congressional committe...</td>\n",
              "      <td>1</td>\n",
              "    </tr>\n",
              "    <tr>\n",
              "      <th>12172</th>\n",
              "      <td>'Congratulations': EU moves to Brexit phase tw...</td>\n",
              "      <td>BRUSSELS (Reuters) - The European Union agreed...</td>\n",
              "      <td>1</td>\n",
              "    </tr>\n",
              "    <tr>\n",
              "      <th>5192</th>\n",
              "      <td>White House aides told to preserve materials i...</td>\n",
              "      <td>WASHINGTON (Reuters) - The White House counsel...</td>\n",
              "      <td>1</td>\n",
              "    </tr>\n",
              "    <tr>\n",
              "      <th>17289</th>\n",
              "      <td>U.S. 'very concerned' by violence around Iraq'...</td>\n",
              "      <td>WASHINGTON (Reuters) - The U.S. State Departme...</td>\n",
              "      <td>1</td>\n",
              "    </tr>\n",
              "    <tr>\n",
              "      <th>10955</th>\n",
              "      <td>Obama's move on gender pay gap seen as first s...</td>\n",
              "      <td>NEW YORK (Reuters) - Advocates fighting to clo...</td>\n",
              "      <td>1</td>\n",
              "    </tr>\n",
              "    <tr>\n",
              "      <th>...</th>\n",
              "      <td>...</td>\n",
              "      <td>...</td>\n",
              "      <td>...</td>\n",
              "    </tr>\n",
              "    <tr>\n",
              "      <th>2108</th>\n",
              "      <td>Trump considering options for new Afghanistan ...</td>\n",
              "      <td>WASHINGTON (Reuters) - President Donald Trump ...</td>\n",
              "      <td>1</td>\n",
              "    </tr>\n",
              "    <tr>\n",
              "      <th>9158</th>\n",
              "      <td>Trump fights release of video testimony in fra...</td>\n",
              "      <td>NEW YORK (Reuters) - Lawyers for Republican pr...</td>\n",
              "      <td>1</td>\n",
              "    </tr>\n",
              "    <tr>\n",
              "      <th>18228</th>\n",
              "      <td>Suicide bombing at southwest Pakistan shrine k...</td>\n",
              "      <td>QUETTA, Pakistan (Reuters) - A suicide bombing...</td>\n",
              "      <td>1</td>\n",
              "    </tr>\n",
              "    <tr>\n",
              "      <th>10884</th>\n",
              "      <td>Republicans Christie, Fiorina drop White House...</td>\n",
              "      <td>WASHINGTON (Reuters) - New Jersey Governor Chr...</td>\n",
              "      <td>1</td>\n",
              "    </tr>\n",
              "    <tr>\n",
              "      <th>18555</th>\n",
              "      <td>New Zealand's 'kingmaker' to start talks with ...</td>\n",
              "      <td>WELLINGTON (Reuters) - The New Zealand First P...</td>\n",
              "      <td>1</td>\n",
              "    </tr>\n",
              "  </tbody>\n",
              "</table>\n",
              "<p>8567 rows × 3 columns</p>\n",
              "</div>\n",
              "      <button class=\"colab-df-convert\" onclick=\"convertToInteractive('df-6d0d045b-1e53-4f89-8b39-91f01efcc38e')\"\n",
              "              title=\"Convert this dataframe to an interactive table.\"\n",
              "              style=\"display:none;\">\n",
              "        \n",
              "  <svg xmlns=\"http://www.w3.org/2000/svg\" height=\"24px\"viewBox=\"0 0 24 24\"\n",
              "       width=\"24px\">\n",
              "    <path d=\"M0 0h24v24H0V0z\" fill=\"none\"/>\n",
              "    <path d=\"M18.56 5.44l.94 2.06.94-2.06 2.06-.94-2.06-.94-.94-2.06-.94 2.06-2.06.94zm-11 1L8.5 8.5l.94-2.06 2.06-.94-2.06-.94L8.5 2.5l-.94 2.06-2.06.94zm10 10l.94 2.06.94-2.06 2.06-.94-2.06-.94-.94-2.06-.94 2.06-2.06.94z\"/><path d=\"M17.41 7.96l-1.37-1.37c-.4-.4-.92-.59-1.43-.59-.52 0-1.04.2-1.43.59L10.3 9.45l-7.72 7.72c-.78.78-.78 2.05 0 2.83L4 21.41c.39.39.9.59 1.41.59.51 0 1.02-.2 1.41-.59l7.78-7.78 2.81-2.81c.8-.78.8-2.07 0-2.86zM5.41 20L4 18.59l7.72-7.72 1.47 1.35L5.41 20z\"/>\n",
              "  </svg>\n",
              "      </button>\n",
              "      \n",
              "  <style>\n",
              "    .colab-df-container {\n",
              "      display:flex;\n",
              "      flex-wrap:wrap;\n",
              "      gap: 12px;\n",
              "    }\n",
              "\n",
              "    .colab-df-convert {\n",
              "      background-color: #E8F0FE;\n",
              "      border: none;\n",
              "      border-radius: 50%;\n",
              "      cursor: pointer;\n",
              "      display: none;\n",
              "      fill: #1967D2;\n",
              "      height: 32px;\n",
              "      padding: 0 0 0 0;\n",
              "      width: 32px;\n",
              "    }\n",
              "\n",
              "    .colab-df-convert:hover {\n",
              "      background-color: #E2EBFA;\n",
              "      box-shadow: 0px 1px 2px rgba(60, 64, 67, 0.3), 0px 1px 3px 1px rgba(60, 64, 67, 0.15);\n",
              "      fill: #174EA6;\n",
              "    }\n",
              "\n",
              "    [theme=dark] .colab-df-convert {\n",
              "      background-color: #3B4455;\n",
              "      fill: #D2E3FC;\n",
              "    }\n",
              "\n",
              "    [theme=dark] .colab-df-convert:hover {\n",
              "      background-color: #434B5C;\n",
              "      box-shadow: 0px 1px 3px 1px rgba(0, 0, 0, 0.15);\n",
              "      filter: drop-shadow(0px 1px 2px rgba(0, 0, 0, 0.3));\n",
              "      fill: #FFFFFF;\n",
              "    }\n",
              "  </style>\n",
              "\n",
              "      <script>\n",
              "        const buttonEl =\n",
              "          document.querySelector('#df-6d0d045b-1e53-4f89-8b39-91f01efcc38e button.colab-df-convert');\n",
              "        buttonEl.style.display =\n",
              "          google.colab.kernel.accessAllowed ? 'block' : 'none';\n",
              "\n",
              "        async function convertToInteractive(key) {\n",
              "          const element = document.querySelector('#df-6d0d045b-1e53-4f89-8b39-91f01efcc38e');\n",
              "          const dataTable =\n",
              "            await google.colab.kernel.invokeFunction('convertToInteractive',\n",
              "                                                     [key], {});\n",
              "          if (!dataTable) return;\n",
              "\n",
              "          const docLinkHtml = 'Like what you see? Visit the ' +\n",
              "            '<a target=\"_blank\" href=https://colab.research.google.com/notebooks/data_table.ipynb>data table notebook</a>'\n",
              "            + ' to learn more about interactive tables.';\n",
              "          element.innerHTML = '';\n",
              "          dataTable['output_type'] = 'display_data';\n",
              "          await google.colab.output.renderOutput(dataTable, element);\n",
              "          const docLink = document.createElement('div');\n",
              "          docLink.innerHTML = docLinkHtml;\n",
              "          element.appendChild(docLink);\n",
              "        }\n",
              "      </script>\n",
              "    </div>\n",
              "  </div>\n",
              "  "
            ],
            "text/plain": [
              "                                                   title  ... authentic\n",
              "235    U.S. House committee 'may reconsider' WHO canc...  ...         1\n",
              "12172  'Congratulations': EU moves to Brexit phase tw...  ...         1\n",
              "5192   White House aides told to preserve materials i...  ...         1\n",
              "17289  U.S. 'very concerned' by violence around Iraq'...  ...         1\n",
              "10955  Obama's move on gender pay gap seen as first s...  ...         1\n",
              "...                                                  ...  ...       ...\n",
              "2108   Trump considering options for new Afghanistan ...  ...         1\n",
              "9158   Trump fights release of video testimony in fra...  ...         1\n",
              "18228  Suicide bombing at southwest Pakistan shrine k...  ...         1\n",
              "10884  Republicans Christie, Fiorina drop White House...  ...         1\n",
              "18555  New Zealand's 'kingmaker' to start talks with ...  ...         1\n",
              "\n",
              "[8567 rows x 3 columns]"
            ]
          },
          "metadata": {},
          "execution_count": 77
        }
      ],
      "source": [
        "data_t"
      ]
    },
    {
      "cell_type": "code",
      "execution_count": 78,
      "metadata": {
        "ExecuteTime": {
          "end_time": "2021-12-17T05:10:41.259749Z",
          "start_time": "2021-12-17T05:10:41.243760Z"
        },
        "id": "g_wkPQ_mqQsu"
      },
      "outputs": [],
      "source": [
        "frame = [data_t,data_f]"
      ]
    },
    {
      "cell_type": "code",
      "execution_count": 79,
      "metadata": {
        "ExecuteTime": {
          "end_time": "2021-12-17T05:10:42.013798Z",
          "start_time": "2021-12-17T05:10:42.000830Z"
        },
        "id": "6jKd-mtTqQsv"
      },
      "outputs": [],
      "source": [
        "data = pd.concat(frame,ignore_index = True)"
      ]
    },
    {
      "cell_type": "code",
      "execution_count": 80,
      "metadata": {
        "ExecuteTime": {
          "end_time": "2021-12-17T05:10:42.753103Z",
          "start_time": "2021-12-17T05:10:42.724215Z"
        },
        "colab": {
          "base_uri": "https://localhost:8080/",
          "height": 423
        },
        "id": "TCI-2ceiqQsv",
        "outputId": "88535e2f-ce3f-4f45-aea7-2adc23cfa886"
      },
      "outputs": [
        {
          "output_type": "execute_result",
          "data": {
            "text/html": [
              "\n",
              "  <div id=\"df-c61b91bd-efc9-418a-a9af-7bb181485440\">\n",
              "    <div class=\"colab-df-container\">\n",
              "      <div>\n",
              "<style scoped>\n",
              "    .dataframe tbody tr th:only-of-type {\n",
              "        vertical-align: middle;\n",
              "    }\n",
              "\n",
              "    .dataframe tbody tr th {\n",
              "        vertical-align: top;\n",
              "    }\n",
              "\n",
              "    .dataframe thead th {\n",
              "        text-align: right;\n",
              "    }\n",
              "</style>\n",
              "<table border=\"1\" class=\"dataframe\">\n",
              "  <thead>\n",
              "    <tr style=\"text-align: right;\">\n",
              "      <th></th>\n",
              "      <th>title</th>\n",
              "      <th>text</th>\n",
              "      <th>authentic</th>\n",
              "    </tr>\n",
              "  </thead>\n",
              "  <tbody>\n",
              "    <tr>\n",
              "      <th>0</th>\n",
              "      <td>U.S. House committee 'may reconsider' WHO canc...</td>\n",
              "      <td>LONDON (Reuters) - U.S. congressional committe...</td>\n",
              "      <td>1</td>\n",
              "    </tr>\n",
              "    <tr>\n",
              "      <th>1</th>\n",
              "      <td>'Congratulations': EU moves to Brexit phase tw...</td>\n",
              "      <td>BRUSSELS (Reuters) - The European Union agreed...</td>\n",
              "      <td>1</td>\n",
              "    </tr>\n",
              "    <tr>\n",
              "      <th>2</th>\n",
              "      <td>White House aides told to preserve materials i...</td>\n",
              "      <td>WASHINGTON (Reuters) - The White House counsel...</td>\n",
              "      <td>1</td>\n",
              "    </tr>\n",
              "    <tr>\n",
              "      <th>3</th>\n",
              "      <td>U.S. 'very concerned' by violence around Iraq'...</td>\n",
              "      <td>WASHINGTON (Reuters) - The U.S. State Departme...</td>\n",
              "      <td>1</td>\n",
              "    </tr>\n",
              "    <tr>\n",
              "      <th>4</th>\n",
              "      <td>Obama's move on gender pay gap seen as first s...</td>\n",
              "      <td>NEW YORK (Reuters) - Advocates fighting to clo...</td>\n",
              "      <td>1</td>\n",
              "    </tr>\n",
              "    <tr>\n",
              "      <th>...</th>\n",
              "      <td>...</td>\n",
              "      <td>...</td>\n",
              "      <td>...</td>\n",
              "    </tr>\n",
              "    <tr>\n",
              "      <th>17954</th>\n",
              "      <td>Have the US, Trump Really Abandoned ‘Regime Ch...</td>\n",
              "      <td>Member of the US-backed Free Syrian Army, Ale...</td>\n",
              "      <td>0</td>\n",
              "    </tr>\n",
              "    <tr>\n",
              "      <th>17955</th>\n",
              "      <td>YES! JUDGE JEANINE HAMMERS Hollywood Lefty Ros...</td>\n",
              "      <td></td>\n",
              "      <td>0</td>\n",
              "    </tr>\n",
              "    <tr>\n",
              "      <th>17956</th>\n",
              "      <td>THE PURGE: NYC Mayor De Blasio to Review ‘All ...</td>\n",
              "      <td>THE PURGE CONTINUES THE NYC MAYOR has just ope...</td>\n",
              "      <td>0</td>\n",
              "    </tr>\n",
              "    <tr>\n",
              "      <th>17957</th>\n",
              "      <td>Trump Admits Democrats Are Hurting His Feelin...</td>\n",
              "      <td>Everyone knows Donald Trump is a thin-skinned ...</td>\n",
              "      <td>0</td>\n",
              "    </tr>\n",
              "    <tr>\n",
              "      <th>17958</th>\n",
              "      <td>Billionaire Liberal Governor Boosted State’s ...</td>\n",
              "      <td>Many Republicans often argue raising the minim...</td>\n",
              "      <td>0</td>\n",
              "    </tr>\n",
              "  </tbody>\n",
              "</table>\n",
              "<p>17959 rows × 3 columns</p>\n",
              "</div>\n",
              "      <button class=\"colab-df-convert\" onclick=\"convertToInteractive('df-c61b91bd-efc9-418a-a9af-7bb181485440')\"\n",
              "              title=\"Convert this dataframe to an interactive table.\"\n",
              "              style=\"display:none;\">\n",
              "        \n",
              "  <svg xmlns=\"http://www.w3.org/2000/svg\" height=\"24px\"viewBox=\"0 0 24 24\"\n",
              "       width=\"24px\">\n",
              "    <path d=\"M0 0h24v24H0V0z\" fill=\"none\"/>\n",
              "    <path d=\"M18.56 5.44l.94 2.06.94-2.06 2.06-.94-2.06-.94-.94-2.06-.94 2.06-2.06.94zm-11 1L8.5 8.5l.94-2.06 2.06-.94-2.06-.94L8.5 2.5l-.94 2.06-2.06.94zm10 10l.94 2.06.94-2.06 2.06-.94-2.06-.94-.94-2.06-.94 2.06-2.06.94z\"/><path d=\"M17.41 7.96l-1.37-1.37c-.4-.4-.92-.59-1.43-.59-.52 0-1.04.2-1.43.59L10.3 9.45l-7.72 7.72c-.78.78-.78 2.05 0 2.83L4 21.41c.39.39.9.59 1.41.59.51 0 1.02-.2 1.41-.59l7.78-7.78 2.81-2.81c.8-.78.8-2.07 0-2.86zM5.41 20L4 18.59l7.72-7.72 1.47 1.35L5.41 20z\"/>\n",
              "  </svg>\n",
              "      </button>\n",
              "      \n",
              "  <style>\n",
              "    .colab-df-container {\n",
              "      display:flex;\n",
              "      flex-wrap:wrap;\n",
              "      gap: 12px;\n",
              "    }\n",
              "\n",
              "    .colab-df-convert {\n",
              "      background-color: #E8F0FE;\n",
              "      border: none;\n",
              "      border-radius: 50%;\n",
              "      cursor: pointer;\n",
              "      display: none;\n",
              "      fill: #1967D2;\n",
              "      height: 32px;\n",
              "      padding: 0 0 0 0;\n",
              "      width: 32px;\n",
              "    }\n",
              "\n",
              "    .colab-df-convert:hover {\n",
              "      background-color: #E2EBFA;\n",
              "      box-shadow: 0px 1px 2px rgba(60, 64, 67, 0.3), 0px 1px 3px 1px rgba(60, 64, 67, 0.15);\n",
              "      fill: #174EA6;\n",
              "    }\n",
              "\n",
              "    [theme=dark] .colab-df-convert {\n",
              "      background-color: #3B4455;\n",
              "      fill: #D2E3FC;\n",
              "    }\n",
              "\n",
              "    [theme=dark] .colab-df-convert:hover {\n",
              "      background-color: #434B5C;\n",
              "      box-shadow: 0px 1px 3px 1px rgba(0, 0, 0, 0.15);\n",
              "      filter: drop-shadow(0px 1px 2px rgba(0, 0, 0, 0.3));\n",
              "      fill: #FFFFFF;\n",
              "    }\n",
              "  </style>\n",
              "\n",
              "      <script>\n",
              "        const buttonEl =\n",
              "          document.querySelector('#df-c61b91bd-efc9-418a-a9af-7bb181485440 button.colab-df-convert');\n",
              "        buttonEl.style.display =\n",
              "          google.colab.kernel.accessAllowed ? 'block' : 'none';\n",
              "\n",
              "        async function convertToInteractive(key) {\n",
              "          const element = document.querySelector('#df-c61b91bd-efc9-418a-a9af-7bb181485440');\n",
              "          const dataTable =\n",
              "            await google.colab.kernel.invokeFunction('convertToInteractive',\n",
              "                                                     [key], {});\n",
              "          if (!dataTable) return;\n",
              "\n",
              "          const docLinkHtml = 'Like what you see? Visit the ' +\n",
              "            '<a target=\"_blank\" href=https://colab.research.google.com/notebooks/data_table.ipynb>data table notebook</a>'\n",
              "            + ' to learn more about interactive tables.';\n",
              "          element.innerHTML = '';\n",
              "          dataTable['output_type'] = 'display_data';\n",
              "          await google.colab.output.renderOutput(dataTable, element);\n",
              "          const docLink = document.createElement('div');\n",
              "          docLink.innerHTML = docLinkHtml;\n",
              "          element.appendChild(docLink);\n",
              "        }\n",
              "      </script>\n",
              "    </div>\n",
              "  </div>\n",
              "  "
            ],
            "text/plain": [
              "                                                   title  ... authentic\n",
              "0      U.S. House committee 'may reconsider' WHO canc...  ...         1\n",
              "1      'Congratulations': EU moves to Brexit phase tw...  ...         1\n",
              "2      White House aides told to preserve materials i...  ...         1\n",
              "3      U.S. 'very concerned' by violence around Iraq'...  ...         1\n",
              "4      Obama's move on gender pay gap seen as first s...  ...         1\n",
              "...                                                  ...  ...       ...\n",
              "17954  Have the US, Trump Really Abandoned ‘Regime Ch...  ...         0\n",
              "17955  YES! JUDGE JEANINE HAMMERS Hollywood Lefty Ros...  ...         0\n",
              "17956  THE PURGE: NYC Mayor De Blasio to Review ‘All ...  ...         0\n",
              "17957   Trump Admits Democrats Are Hurting His Feelin...  ...         0\n",
              "17958   Billionaire Liberal Governor Boosted State’s ...  ...         0\n",
              "\n",
              "[17959 rows x 3 columns]"
            ]
          },
          "metadata": {},
          "execution_count": 80
        }
      ],
      "source": [
        "data"
      ]
    },
    {
      "cell_type": "code",
      "execution_count": 36,
      "metadata": {
        "ExecuteTime": {
          "end_time": "2021-12-17T05:10:43.479551Z",
          "start_time": "2021-12-17T05:10:43.381926Z"
        },
        "colab": {
          "base_uri": "https://localhost:8080/"
        },
        "id": "2Uht1qpaqQsw",
        "outputId": "08ddc866-46c2-4594-ff4d-dd6511052ff2"
      },
      "outputs": [
        {
          "output_type": "stream",
          "name": "stdout",
          "text": [
            "[nltk_data] Downloading package stopwords to /root/nltk_data...\n",
            "[nltk_data]   Package stopwords is already up-to-date!\n"
          ]
        },
        {
          "output_type": "execute_result",
          "data": {
            "text/plain": [
              "True"
            ]
          },
          "metadata": {},
          "execution_count": 36
        }
      ],
      "source": [
        "import re\n",
        "import nltk\n",
        "nltk.download(\"stopwords\")"
      ]
    },
    {
      "cell_type": "code",
      "execution_count": 37,
      "metadata": {
        "ExecuteTime": {
          "end_time": "2021-12-17T05:10:45.237601Z",
          "start_time": "2021-12-17T05:10:45.225600Z"
        },
        "id": "KJauvz2qqQsw"
      },
      "outputs": [],
      "source": [
        "from nltk.corpus import stopwords\n",
        "from nltk.stem.porter import PorterStemmer\n",
        "from nltk.stem import WordNetLemmatizer"
      ]
    },
    {
      "cell_type": "code",
      "execution_count": 38,
      "metadata": {
        "ExecuteTime": {
          "end_time": "2021-12-17T05:10:48.875963Z",
          "start_time": "2021-12-17T05:10:45.840595Z"
        },
        "id": "qHOUN8yjqQsw"
      },
      "outputs": [],
      "source": [
        "# substitute U.S. to united states,remove\"'s\",website link https and .com,puctuations, and lower case all of them\n",
        "data['title']=data['title'].apply(lambda x: re.sub('U.S.',\"united states\",x))\\\n",
        ".apply(lambda x: re.sub(r\"\\b's\\b\",'',x))\\\n",
        ".apply(lambda x: re.sub(r\"http\\S+\",'',x))\\\n",
        ".apply(lambda x: re.sub(r\"[\\S]+\\.com([\\S]+)?\",'',x))\\\n",
        ".apply(lambda x: re.sub(r'[^A-Za-z0-9]',' ',x)).str.lower()\n",
        "\n",
        "data['text']=data['text'].apply(lambda x: re.sub('U.S.',\"united states\",x))\\\n",
        ".apply(lambda x: re.sub(r\"\\b's\\b\",'',x))\\\n",
        ".apply(lambda x: re.sub(r\"http\\S+\",'',x))\\\n",
        ".apply(lambda x: re.sub(r\"[\\S]+\\.com([\\S]+)?\",'',x))\\\n",
        ".apply(lambda x: re.sub(r'[^A-Za-z0-9]',' ',x)).str.lower()"
      ]
    },
    {
      "cell_type": "code",
      "execution_count": 39,
      "metadata": {
        "ExecuteTime": {
          "end_time": "2021-12-17T05:10:48.938758Z",
          "start_time": "2021-12-17T05:10:48.879797Z"
        },
        "colab": {
          "base_uri": "https://localhost:8080/"
        },
        "id": "IpUezbq9x43h",
        "outputId": "74d7aada-4be3-486d-d1ff-e25fbd364837"
      },
      "outputs": [
        {
          "output_type": "stream",
          "name": "stdout",
          "text": [
            "[nltk_data] Downloading package punkt to /root/nltk_data...\n",
            "[nltk_data]   Package punkt is already up-to-date!\n"
          ]
        },
        {
          "output_type": "execute_result",
          "data": {
            "text/plain": [
              "True"
            ]
          },
          "metadata": {},
          "execution_count": 39
        }
      ],
      "source": [
        "import nltk\n",
        "nltk.download('punkt')"
      ]
    },
    {
      "cell_type": "code",
      "execution_count": 40,
      "metadata": {
        "ExecuteTime": {
          "end_time": "2021-12-17T05:10:49.461416Z",
          "start_time": "2021-12-17T05:10:49.438477Z"
        },
        "id": "MxzRfP--zGcn"
      },
      "outputs": [],
      "source": [
        "stopwords = set(stopwords.words('english'))\n",
        "\n",
        "stopwords_remove = ['not', \"aren't\", \"couldn't\", 'didn', \"didn't\", 'doesn', \"doesn't\",'don', \"don't\", \"hadn't\", 'hadn',\n",
        "                      'hasn', \"hasn't\", 'haven', \"haven't\", 'isn', \"isn't\", 'mightn', \"mightn't\", 'mustn', \"mustn't\", 'needn',\n",
        "                      \"needn't\", 'shan', \"shan't\", 'shouldn', \"shouldn't\", 'wasn', \"wasn't\", 'weren', \"weren't\", 'won', \"won't\",\n",
        "                      'wouldn', \"wouldn't\",]\n",
        "\n",
        "stopwords = set(stopwords).difference(set(stopwords_remove))\n",
        "\n",
        "added_stopwords = [\"I'm\", \"These\", \"there\", \"Those\", \"those\", 'My', \"my\",\"I've\", \"It's\", 'I', 'It', 'it', 'As', 'they', 'A', 'a',\n",
        "                   'They', 'You', 'He', 'She', 'There', 'there', 'those', 'Those', 'This',\n",
        "                  'this', 'That', 'she', 'it', 'that', 'We', 'the', 'The', '&', 'i','I','us', 'Us', 'is',\"I'd\", \"I'll\", 'in', 'on', 'In', 'On', 'To', 'to', 'for', 'For']\n",
        "\n",
        "stopwords = list(stopwords) + added_stopwords"
      ]
    },
    {
      "cell_type": "code",
      "source": [
        "import nltk\n",
        "nltk.download('wordnet')"
      ],
      "metadata": {
        "colab": {
          "base_uri": "https://localhost:8080/"
        },
        "id": "hBSKgOdRd-6v",
        "outputId": "a06c6c77-4c3d-4900-c354-9cd210736bd8"
      },
      "execution_count": 41,
      "outputs": [
        {
          "output_type": "stream",
          "name": "stdout",
          "text": [
            "[nltk_data] Downloading package wordnet to /root/nltk_data...\n",
            "[nltk_data]   Package wordnet is already up-to-date!\n"
          ]
        },
        {
          "output_type": "execute_result",
          "data": {
            "text/plain": [
              "True"
            ]
          },
          "metadata": {},
          "execution_count": 41
        }
      ]
    },
    {
      "cell_type": "code",
      "execution_count": 42,
      "metadata": {
        "ExecuteTime": {
          "end_time": "2021-12-17T05:12:43.816352Z",
          "start_time": "2021-12-17T05:10:50.366080Z"
        },
        "id": "xgp2mqiZqQsx"
      },
      "outputs": [],
      "source": [
        "# stemming and stopwords removal\n",
        "stemmer = PorterStemmer()\n",
        "lemmatizer = WordNetLemmatizer()\n",
        "\n",
        "data['title'] = data['title'].apply(nltk.word_tokenize)\\\n",
        ".apply(lambda x:[stemmer.stem(word) for word in x if not word in stopwords])\n",
        "\n",
        "data['text'] = data['text'].apply(nltk.word_tokenize)\\\n",
        ".apply(lambda x:[lemmatizer.lemmatize(word) for word in x if not word in stopwords])"
      ]
    },
    {
      "cell_type": "code",
      "execution_count": 43,
      "metadata": {
        "ExecuteTime": {
          "end_time": "2021-12-17T05:12:44.070671Z",
          "start_time": "2021-12-17T05:12:43.831311Z"
        },
        "id": "ersU5IHbqQsy"
      },
      "outputs": [],
      "source": [
        "# \n",
        "data['title'] = data['title'].apply(\" \".join)\n",
        "data['text'] = data['text'].apply(\" \".join)"
      ]
    },
    {
      "cell_type": "code",
      "execution_count": 44,
      "metadata": {
        "ExecuteTime": {
          "end_time": "2021-12-17T05:12:44.100590Z",
          "start_time": "2021-12-17T05:12:44.074660Z"
        },
        "colab": {
          "base_uri": "https://localhost:8080/"
        },
        "id": "3Kd0VbGLqQsy",
        "outputId": "5d588308-5a21-43c2-b117-19f029ee52d2"
      },
      "outputs": [
        {
          "output_type": "execute_result",
          "data": {
            "text/plain": [
              "0       unit state hous committe may reconsid cancer a...\n",
              "1           congratul eu move brexit phase two warn tough\n",
              "2       white hous aid told preserv materi russia prob...\n",
              "3       unit state concern violenc around iraq kirkuk ...\n",
              "4       obama move gender pay gap seen first step uphi...\n",
              "                              ...                        \n",
              "8974    death alton sterl polic kill 114 black men far...\n",
              "8975    horrif nation anthem sung trump ralli pianist ...\n",
              "8976    conserv invent conspiraci theori blame white o...\n",
              "8977             trump fan drive jeep crowd protest video\n",
              "8978           beyonc let know true feel polic not apolog\n",
              "Name: title, Length: 8979, dtype: object"
            ]
          },
          "metadata": {},
          "execution_count": 44
        }
      ],
      "source": [
        "data['title']"
      ]
    },
    {
      "cell_type": "code",
      "execution_count": 45,
      "metadata": {
        "ExecuteTime": {
          "end_time": "2021-12-17T05:12:44.116548Z",
          "start_time": "2021-12-17T05:12:44.104581Z"
        },
        "colab": {
          "base_uri": "https://localhost:8080/"
        },
        "id": "bGLrDpmoYP39",
        "outputId": "3e331d5b-3239-46f5-f682-9af7229fcea5"
      },
      "outputs": [
        {
          "output_type": "execute_result",
          "data": {
            "text/plain": [
              "0       london reuters united state congressional comm...\n",
              "1       brunited statesls reuters european union agree...\n",
              "2       washington reuters white house counsel office ...\n",
              "3       washington reuters united state state departme...\n",
              "4       new york reuters advocate fighting close unite...\n",
              "                              ...                        \n",
              "8974    outraged protester taken street baton rouge lo...\n",
              "8975    not nice criticize people per se attempting si...\n",
              "8976    even crankiest section america right wing star...\n",
              "8977    saturday afternoon group protester gathered ma...\n",
              "8978    beyonc released song formation performed super...\n",
              "Name: text, Length: 8979, dtype: object"
            ]
          },
          "metadata": {},
          "execution_count": 45
        }
      ],
      "source": [
        "data['text']"
      ]
    },
    {
      "cell_type": "code",
      "execution_count": 46,
      "metadata": {
        "ExecuteTime": {
          "end_time": "2021-12-17T05:12:44.148463Z",
          "start_time": "2021-12-17T05:12:44.119541Z"
        },
        "colab": {
          "base_uri": "https://localhost:8080/",
          "height": 423
        },
        "id": "ckQBjKP0qQsy",
        "outputId": "fd0d5081-ea13-4407-83cb-e3d464e91007"
      },
      "outputs": [
        {
          "output_type": "execute_result",
          "data": {
            "text/html": [
              "\n",
              "  <div id=\"df-31352847-f445-40ac-b94c-728f2126004e\">\n",
              "    <div class=\"colab-df-container\">\n",
              "      <div>\n",
              "<style scoped>\n",
              "    .dataframe tbody tr th:only-of-type {\n",
              "        vertical-align: middle;\n",
              "    }\n",
              "\n",
              "    .dataframe tbody tr th {\n",
              "        vertical-align: top;\n",
              "    }\n",
              "\n",
              "    .dataframe thead th {\n",
              "        text-align: right;\n",
              "    }\n",
              "</style>\n",
              "<table border=\"1\" class=\"dataframe\">\n",
              "  <thead>\n",
              "    <tr style=\"text-align: right;\">\n",
              "      <th></th>\n",
              "      <th>title</th>\n",
              "      <th>text</th>\n",
              "      <th>authentic</th>\n",
              "    </tr>\n",
              "  </thead>\n",
              "  <tbody>\n",
              "    <tr>\n",
              "      <th>0</th>\n",
              "      <td>unit state hous committe may reconsid cancer a...</td>\n",
              "      <td>london reuters united state congressional comm...</td>\n",
              "      <td>1</td>\n",
              "    </tr>\n",
              "    <tr>\n",
              "      <th>1</th>\n",
              "      <td>congratul eu move brexit phase two warn tough</td>\n",
              "      <td>brunited statesls reuters european union agree...</td>\n",
              "      <td>1</td>\n",
              "    </tr>\n",
              "    <tr>\n",
              "      <th>2</th>\n",
              "      <td>white hous aid told preserv materi russia prob...</td>\n",
              "      <td>washington reuters white house counsel office ...</td>\n",
              "      <td>1</td>\n",
              "    </tr>\n",
              "    <tr>\n",
              "      <th>3</th>\n",
              "      <td>unit state concern violenc around iraq kirkuk ...</td>\n",
              "      <td>washington reuters united state state departme...</td>\n",
              "      <td>1</td>\n",
              "    </tr>\n",
              "    <tr>\n",
              "      <th>4</th>\n",
              "      <td>obama move gender pay gap seen first step uphi...</td>\n",
              "      <td>new york reuters advocate fighting close unite...</td>\n",
              "      <td>1</td>\n",
              "    </tr>\n",
              "    <tr>\n",
              "      <th>...</th>\n",
              "      <td>...</td>\n",
              "      <td>...</td>\n",
              "      <td>...</td>\n",
              "    </tr>\n",
              "    <tr>\n",
              "      <th>8974</th>\n",
              "      <td>death alton sterl polic kill 114 black men far...</td>\n",
              "      <td>outraged protester taken street baton rouge lo...</td>\n",
              "      <td>0</td>\n",
              "    </tr>\n",
              "    <tr>\n",
              "      <th>8975</th>\n",
              "      <td>horrif nation anthem sung trump ralli pianist ...</td>\n",
              "      <td>not nice criticize people per se attempting si...</td>\n",
              "      <td>0</td>\n",
              "    </tr>\n",
              "    <tr>\n",
              "      <th>8976</th>\n",
              "      <td>conserv invent conspiraci theori blame white o...</td>\n",
              "      <td>even crankiest section america right wing star...</td>\n",
              "      <td>0</td>\n",
              "    </tr>\n",
              "    <tr>\n",
              "      <th>8977</th>\n",
              "      <td>trump fan drive jeep crowd protest video</td>\n",
              "      <td>saturday afternoon group protester gathered ma...</td>\n",
              "      <td>0</td>\n",
              "    </tr>\n",
              "    <tr>\n",
              "      <th>8978</th>\n",
              "      <td>beyonc let know true feel polic not apolog</td>\n",
              "      <td>beyonc released song formation performed super...</td>\n",
              "      <td>0</td>\n",
              "    </tr>\n",
              "  </tbody>\n",
              "</table>\n",
              "<p>8979 rows × 3 columns</p>\n",
              "</div>\n",
              "      <button class=\"colab-df-convert\" onclick=\"convertToInteractive('df-31352847-f445-40ac-b94c-728f2126004e')\"\n",
              "              title=\"Convert this dataframe to an interactive table.\"\n",
              "              style=\"display:none;\">\n",
              "        \n",
              "  <svg xmlns=\"http://www.w3.org/2000/svg\" height=\"24px\"viewBox=\"0 0 24 24\"\n",
              "       width=\"24px\">\n",
              "    <path d=\"M0 0h24v24H0V0z\" fill=\"none\"/>\n",
              "    <path d=\"M18.56 5.44l.94 2.06.94-2.06 2.06-.94-2.06-.94-.94-2.06-.94 2.06-2.06.94zm-11 1L8.5 8.5l.94-2.06 2.06-.94-2.06-.94L8.5 2.5l-.94 2.06-2.06.94zm10 10l.94 2.06.94-2.06 2.06-.94-2.06-.94-.94-2.06-.94 2.06-2.06.94z\"/><path d=\"M17.41 7.96l-1.37-1.37c-.4-.4-.92-.59-1.43-.59-.52 0-1.04.2-1.43.59L10.3 9.45l-7.72 7.72c-.78.78-.78 2.05 0 2.83L4 21.41c.39.39.9.59 1.41.59.51 0 1.02-.2 1.41-.59l7.78-7.78 2.81-2.81c.8-.78.8-2.07 0-2.86zM5.41 20L4 18.59l7.72-7.72 1.47 1.35L5.41 20z\"/>\n",
              "  </svg>\n",
              "      </button>\n",
              "      \n",
              "  <style>\n",
              "    .colab-df-container {\n",
              "      display:flex;\n",
              "      flex-wrap:wrap;\n",
              "      gap: 12px;\n",
              "    }\n",
              "\n",
              "    .colab-df-convert {\n",
              "      background-color: #E8F0FE;\n",
              "      border: none;\n",
              "      border-radius: 50%;\n",
              "      cursor: pointer;\n",
              "      display: none;\n",
              "      fill: #1967D2;\n",
              "      height: 32px;\n",
              "      padding: 0 0 0 0;\n",
              "      width: 32px;\n",
              "    }\n",
              "\n",
              "    .colab-df-convert:hover {\n",
              "      background-color: #E2EBFA;\n",
              "      box-shadow: 0px 1px 2px rgba(60, 64, 67, 0.3), 0px 1px 3px 1px rgba(60, 64, 67, 0.15);\n",
              "      fill: #174EA6;\n",
              "    }\n",
              "\n",
              "    [theme=dark] .colab-df-convert {\n",
              "      background-color: #3B4455;\n",
              "      fill: #D2E3FC;\n",
              "    }\n",
              "\n",
              "    [theme=dark] .colab-df-convert:hover {\n",
              "      background-color: #434B5C;\n",
              "      box-shadow: 0px 1px 3px 1px rgba(0, 0, 0, 0.15);\n",
              "      filter: drop-shadow(0px 1px 2px rgba(0, 0, 0, 0.3));\n",
              "      fill: #FFFFFF;\n",
              "    }\n",
              "  </style>\n",
              "\n",
              "      <script>\n",
              "        const buttonEl =\n",
              "          document.querySelector('#df-31352847-f445-40ac-b94c-728f2126004e button.colab-df-convert');\n",
              "        buttonEl.style.display =\n",
              "          google.colab.kernel.accessAllowed ? 'block' : 'none';\n",
              "\n",
              "        async function convertToInteractive(key) {\n",
              "          const element = document.querySelector('#df-31352847-f445-40ac-b94c-728f2126004e');\n",
              "          const dataTable =\n",
              "            await google.colab.kernel.invokeFunction('convertToInteractive',\n",
              "                                                     [key], {});\n",
              "          if (!dataTable) return;\n",
              "\n",
              "          const docLinkHtml = 'Like what you see? Visit the ' +\n",
              "            '<a target=\"_blank\" href=https://colab.research.google.com/notebooks/data_table.ipynb>data table notebook</a>'\n",
              "            + ' to learn more about interactive tables.';\n",
              "          element.innerHTML = '';\n",
              "          dataTable['output_type'] = 'display_data';\n",
              "          await google.colab.output.renderOutput(dataTable, element);\n",
              "          const docLink = document.createElement('div');\n",
              "          docLink.innerHTML = docLinkHtml;\n",
              "          element.appendChild(docLink);\n",
              "        }\n",
              "      </script>\n",
              "    </div>\n",
              "  </div>\n",
              "  "
            ],
            "text/plain": [
              "                                                  title  ... authentic\n",
              "0     unit state hous committe may reconsid cancer a...  ...         1\n",
              "1         congratul eu move brexit phase two warn tough  ...         1\n",
              "2     white hous aid told preserv materi russia prob...  ...         1\n",
              "3     unit state concern violenc around iraq kirkuk ...  ...         1\n",
              "4     obama move gender pay gap seen first step uphi...  ...         1\n",
              "...                                                 ...  ...       ...\n",
              "8974  death alton sterl polic kill 114 black men far...  ...         0\n",
              "8975  horrif nation anthem sung trump ralli pianist ...  ...         0\n",
              "8976  conserv invent conspiraci theori blame white o...  ...         0\n",
              "8977           trump fan drive jeep crowd protest video  ...         0\n",
              "8978         beyonc let know true feel polic not apolog  ...         0\n",
              "\n",
              "[8979 rows x 3 columns]"
            ]
          },
          "metadata": {},
          "execution_count": 46
        }
      ],
      "source": [
        "data"
      ]
    },
    {
      "cell_type": "markdown",
      "metadata": {
        "id": "7rrTwxi3z25m"
      },
      "source": [
        "## Feature engineering："
      ]
    },
    {
      "cell_type": "code",
      "execution_count": 47,
      "metadata": {
        "ExecuteTime": {
          "end_time": "2021-12-17T05:12:45.839348Z",
          "start_time": "2021-12-17T05:12:44.152454Z"
        },
        "id": "fOgBsx-H22sM"
      },
      "outputs": [],
      "source": [
        "import pandas as pd\n",
        "import numpy as np\n",
        "import seaborn as sns\n",
        "import matplotlib.pyplot as plt\n",
        "from spacy.matcher import Matcher\n",
        "from collections import Counter\n",
        "import spacy\n",
        "from spacy import displacy\n",
        "from sklearn.metrics.pairwise import cosine_similarity\n",
        "from itertools import product\n",
        "import en_core_web_sm\n",
        "from scipy.spatial.distance import cosine\n",
        "import re\n",
        "from spacy.tokens import Span \n",
        "from sklearn.feature_extraction.text import CountVectorizer\n",
        "from sklearn.decomposition import TruncatedSVD\n",
        "from sklearn.feature_extraction.text import TfidfVectorizer\n",
        "from nltk.corpus import stopwords\n",
        "from nltk.collocations import BigramCollocationFinder, BigramAssocMeasures\n",
        "from nltk.stem import WordNetLemmatizer\n",
        "from nltk import word_tokenize\n",
        "import math\n",
        "from sklearn.metrics import roc_auc_score\n",
        "from sklearn.linear_model import LogisticRegression\n",
        "from sklearn.model_selection import train_test_split\n",
        "from sklearn.model_selection import cross_validate\n",
        "from random import sample\n",
        "import random"
      ]
    },
    {
      "cell_type": "markdown",
      "metadata": {
        "id": "BywO48Xh4Z8M"
      },
      "source": [
        "### word2vec"
      ]
    },
    {
      "cell_type": "code",
      "execution_count": 48,
      "metadata": {
        "ExecuteTime": {
          "end_time": "2021-12-17T05:18:12.143949Z",
          "start_time": "2021-12-17T05:18:07.928367Z"
        },
        "colab": {
          "base_uri": "https://localhost:8080/"
        },
        "id": "GtNjTPHHqVXm",
        "outputId": "c05db8ec-acad-49d4-fa6e-cbd4002495d7"
      },
      "outputs": [
        {
          "output_type": "stream",
          "name": "stdout",
          "text": [
            "\u001b[38;5;2m✔ Download and installation successful\u001b[0m\n",
            "You can now load the model via spacy.load('en_core_web_md')\n"
          ]
        }
      ],
      "source": [
        "import spacy.cli\n",
        "spacy.cli.download(\"en_core_web_md\")\n",
        "import en_core_web_md"
      ]
    },
    {
      "cell_type": "code",
      "execution_count": 49,
      "metadata": {
        "ExecuteTime": {
          "end_time": "2021-12-17T05:18:14.160491Z",
          "start_time": "2021-12-17T05:18:12.562696Z"
        },
        "id": "lADRtrQKqVaC"
      },
      "outputs": [],
      "source": [
        "nlp = spacy.load(\"en_core_web_md\")"
      ]
    },
    {
      "cell_type": "code",
      "execution_count": 50,
      "metadata": {
        "ExecuteTime": {
          "end_time": "2021-12-17T05:18:15.117838Z",
          "start_time": "2021-12-17T05:18:15.093872Z"
        },
        "colab": {
          "base_uri": "https://localhost:8080/",
          "height": 112
        },
        "id": "XmAwJG2IqVcd",
        "outputId": "22f47dcc-604b-40e8-c447-8aae4a1afeb5"
      },
      "outputs": [
        {
          "output_type": "execute_result",
          "data": {
            "text/html": [
              "\n",
              "  <div id=\"df-b6b80ccd-9cae-401f-ac18-3acde7a45240\">\n",
              "    <div class=\"colab-df-container\">\n",
              "      <div>\n",
              "<style scoped>\n",
              "    .dataframe tbody tr th:only-of-type {\n",
              "        vertical-align: middle;\n",
              "    }\n",
              "\n",
              "    .dataframe tbody tr th {\n",
              "        vertical-align: top;\n",
              "    }\n",
              "\n",
              "    .dataframe thead th {\n",
              "        text-align: right;\n",
              "    }\n",
              "</style>\n",
              "<table border=\"1\" class=\"dataframe\">\n",
              "  <thead>\n",
              "    <tr style=\"text-align: right;\">\n",
              "      <th></th>\n",
              "      <th>title</th>\n",
              "      <th>text</th>\n",
              "      <th>authentic</th>\n",
              "    </tr>\n",
              "  </thead>\n",
              "  <tbody>\n",
              "    <tr>\n",
              "      <th>0</th>\n",
              "      <td>unit state hous committe may reconsid cancer a...</td>\n",
              "      <td>london reuters united state congressional comm...</td>\n",
              "      <td>1</td>\n",
              "    </tr>\n",
              "    <tr>\n",
              "      <th>1</th>\n",
              "      <td>congratul eu move brexit phase two warn tough</td>\n",
              "      <td>brunited statesls reuters european union agree...</td>\n",
              "      <td>1</td>\n",
              "    </tr>\n",
              "  </tbody>\n",
              "</table>\n",
              "</div>\n",
              "      <button class=\"colab-df-convert\" onclick=\"convertToInteractive('df-b6b80ccd-9cae-401f-ac18-3acde7a45240')\"\n",
              "              title=\"Convert this dataframe to an interactive table.\"\n",
              "              style=\"display:none;\">\n",
              "        \n",
              "  <svg xmlns=\"http://www.w3.org/2000/svg\" height=\"24px\"viewBox=\"0 0 24 24\"\n",
              "       width=\"24px\">\n",
              "    <path d=\"M0 0h24v24H0V0z\" fill=\"none\"/>\n",
              "    <path d=\"M18.56 5.44l.94 2.06.94-2.06 2.06-.94-2.06-.94-.94-2.06-.94 2.06-2.06.94zm-11 1L8.5 8.5l.94-2.06 2.06-.94-2.06-.94L8.5 2.5l-.94 2.06-2.06.94zm10 10l.94 2.06.94-2.06 2.06-.94-2.06-.94-.94-2.06-.94 2.06-2.06.94z\"/><path d=\"M17.41 7.96l-1.37-1.37c-.4-.4-.92-.59-1.43-.59-.52 0-1.04.2-1.43.59L10.3 9.45l-7.72 7.72c-.78.78-.78 2.05 0 2.83L4 21.41c.39.39.9.59 1.41.59.51 0 1.02-.2 1.41-.59l7.78-7.78 2.81-2.81c.8-.78.8-2.07 0-2.86zM5.41 20L4 18.59l7.72-7.72 1.47 1.35L5.41 20z\"/>\n",
              "  </svg>\n",
              "      </button>\n",
              "      \n",
              "  <style>\n",
              "    .colab-df-container {\n",
              "      display:flex;\n",
              "      flex-wrap:wrap;\n",
              "      gap: 12px;\n",
              "    }\n",
              "\n",
              "    .colab-df-convert {\n",
              "      background-color: #E8F0FE;\n",
              "      border: none;\n",
              "      border-radius: 50%;\n",
              "      cursor: pointer;\n",
              "      display: none;\n",
              "      fill: #1967D2;\n",
              "      height: 32px;\n",
              "      padding: 0 0 0 0;\n",
              "      width: 32px;\n",
              "    }\n",
              "\n",
              "    .colab-df-convert:hover {\n",
              "      background-color: #E2EBFA;\n",
              "      box-shadow: 0px 1px 2px rgba(60, 64, 67, 0.3), 0px 1px 3px 1px rgba(60, 64, 67, 0.15);\n",
              "      fill: #174EA6;\n",
              "    }\n",
              "\n",
              "    [theme=dark] .colab-df-convert {\n",
              "      background-color: #3B4455;\n",
              "      fill: #D2E3FC;\n",
              "    }\n",
              "\n",
              "    [theme=dark] .colab-df-convert:hover {\n",
              "      background-color: #434B5C;\n",
              "      box-shadow: 0px 1px 3px 1px rgba(0, 0, 0, 0.15);\n",
              "      filter: drop-shadow(0px 1px 2px rgba(0, 0, 0, 0.3));\n",
              "      fill: #FFFFFF;\n",
              "    }\n",
              "  </style>\n",
              "\n",
              "      <script>\n",
              "        const buttonEl =\n",
              "          document.querySelector('#df-b6b80ccd-9cae-401f-ac18-3acde7a45240 button.colab-df-convert');\n",
              "        buttonEl.style.display =\n",
              "          google.colab.kernel.accessAllowed ? 'block' : 'none';\n",
              "\n",
              "        async function convertToInteractive(key) {\n",
              "          const element = document.querySelector('#df-b6b80ccd-9cae-401f-ac18-3acde7a45240');\n",
              "          const dataTable =\n",
              "            await google.colab.kernel.invokeFunction('convertToInteractive',\n",
              "                                                     [key], {});\n",
              "          if (!dataTable) return;\n",
              "\n",
              "          const docLinkHtml = 'Like what you see? Visit the ' +\n",
              "            '<a target=\"_blank\" href=https://colab.research.google.com/notebooks/data_table.ipynb>data table notebook</a>'\n",
              "            + ' to learn more about interactive tables.';\n",
              "          element.innerHTML = '';\n",
              "          dataTable['output_type'] = 'display_data';\n",
              "          await google.colab.output.renderOutput(dataTable, element);\n",
              "          const docLink = document.createElement('div');\n",
              "          docLink.innerHTML = docLinkHtml;\n",
              "          element.appendChild(docLink);\n",
              "        }\n",
              "      </script>\n",
              "    </div>\n",
              "  </div>\n",
              "  "
            ],
            "text/plain": [
              "                                               title  ... authentic\n",
              "0  unit state hous committe may reconsid cancer a...  ...         1\n",
              "1      congratul eu move brexit phase two warn tough  ...         1\n",
              "\n",
              "[2 rows x 3 columns]"
            ]
          },
          "metadata": {},
          "execution_count": 50
        }
      ],
      "source": [
        "data.head(2)"
      ]
    },
    {
      "cell_type": "code",
      "execution_count": 51,
      "metadata": {
        "ExecuteTime": {
          "end_time": "2021-12-17T05:18:23.388455Z",
          "start_time": "2021-12-17T05:18:23.367547Z"
        },
        "id": "LJAaykZdqVev"
      },
      "outputs": [],
      "source": [
        "text = data['text'].to_list()"
      ]
    },
    {
      "cell_type": "code",
      "execution_count": 52,
      "metadata": {
        "ExecuteTime": {
          "end_time": "2021-12-17T05:19:35.633531Z",
          "start_time": "2021-12-17T05:18:24.101136Z"
        },
        "id": "0n0O8oCzqVg-"
      },
      "outputs": [],
      "source": [
        "cleaned_text = []\n",
        "\n",
        "for review in text:\n",
        "    cleaned_doc = list(nlp(review).vector)\n",
        "    cleaned_text.append(cleaned_doc)"
      ]
    },
    {
      "cell_type": "markdown",
      "metadata": {
        "id": "wu4WUyKc-90Q"
      },
      "source": [
        "### Dimension Reduction - SVD"
      ]
    },
    {
      "cell_type": "code",
      "execution_count": 53,
      "metadata": {
        "id": "yOXJQr-5qVlo"
      },
      "outputs": [],
      "source": [
        "from scipy.linalg import svd\n",
        "from sklearn.decomposition import TruncatedSVD"
      ]
    },
    {
      "cell_type": "code",
      "execution_count": 54,
      "metadata": {
        "colab": {
          "base_uri": "https://localhost:8080/"
        },
        "id": "es0iNN4AqVn-",
        "outputId": "7858a5e2-f773-4982-f6b2-ec44fc5ff757"
      },
      "outputs": [
        {
          "output_type": "execute_result",
          "data": {
            "text/plain": [
              "array([[ 2.65101147e+00, -4.23371881e-01, -3.68385464e-01, ...,\n",
              "        -2.80733407e-02, -5.54507934e-02,  4.94381040e-02],\n",
              "       [ 2.77236223e+00, -7.16954544e-02, -3.16572905e-01, ...,\n",
              "        -4.49279658e-02, -5.20683825e-02,  3.82959507e-02],\n",
              "       [ 2.90644932e+00, -6.14970982e-01,  2.71581709e-01, ...,\n",
              "         1.12392548e-02, -1.01359226e-01,  8.64021108e-02],\n",
              "       ...,\n",
              "       [ 2.93758368e+00,  1.20161690e-01, -1.41243383e-01, ...,\n",
              "        -3.07902973e-02,  7.35158920e-02,  2.53284187e-03],\n",
              "       [ 2.81576729e+00,  4.50105876e-01, -3.69753122e-01, ...,\n",
              "         2.43089925e-02, -3.21504921e-02,  1.22159077e-02],\n",
              "       [ 2.99025249e+00,  6.52623594e-01, -4.51611876e-01, ...,\n",
              "         5.20319380e-02,  4.26695123e-02,  1.14674062e-01]], dtype=float32)"
            ]
          },
          "metadata": {},
          "execution_count": 54
        }
      ],
      "source": [
        "svd = TruncatedSVD(n_components=50)\n",
        "reduced_svd_features = svd.fit_transform(cleaned_text)\n",
        "reduced_svd_features"
      ]
    },
    {
      "cell_type": "code",
      "execution_count": 55,
      "metadata": {
        "id": "S47xX1b9qVqX"
      },
      "outputs": [],
      "source": [
        "df_w2v = pd.DataFrame()"
      ]
    },
    {
      "cell_type": "code",
      "execution_count": 56,
      "metadata": {
        "id": "dZzjuAHnqVs5"
      },
      "outputs": [],
      "source": [
        "for i in range(len(cleaned_text)):\n",
        "    df_w2v[i] = reduced_svd_features[i]"
      ]
    },
    {
      "cell_type": "code",
      "execution_count": 57,
      "metadata": {
        "id": "ZMCAM7hhAMTF"
      },
      "outputs": [],
      "source": [
        "df_w2v = df_w2v.T"
      ]
    },
    {
      "cell_type": "code",
      "execution_count": 58,
      "metadata": {
        "id": "gvOBmgmKqVvR"
      },
      "outputs": [],
      "source": [
        "df_w2v['authentic'] = data['authentic']"
      ]
    },
    {
      "cell_type": "code",
      "execution_count": 59,
      "metadata": {
        "colab": {
          "base_uri": "https://localhost:8080/",
          "height": 270
        },
        "id": "6UJgDorIqVyC",
        "outputId": "abc5433f-3452-4ee5-860e-462baa5213b7"
      },
      "outputs": [
        {
          "output_type": "execute_result",
          "data": {
            "text/html": [
              "\n",
              "  <div id=\"df-71614778-0c88-4f4e-aff6-3ad383388ff0\">\n",
              "    <div class=\"colab-df-container\">\n",
              "      <div>\n",
              "<style scoped>\n",
              "    .dataframe tbody tr th:only-of-type {\n",
              "        vertical-align: middle;\n",
              "    }\n",
              "\n",
              "    .dataframe tbody tr th {\n",
              "        vertical-align: top;\n",
              "    }\n",
              "\n",
              "    .dataframe thead th {\n",
              "        text-align: right;\n",
              "    }\n",
              "</style>\n",
              "<table border=\"1\" class=\"dataframe\">\n",
              "  <thead>\n",
              "    <tr style=\"text-align: right;\">\n",
              "      <th></th>\n",
              "      <th>0</th>\n",
              "      <th>1</th>\n",
              "      <th>2</th>\n",
              "      <th>3</th>\n",
              "      <th>4</th>\n",
              "      <th>5</th>\n",
              "      <th>6</th>\n",
              "      <th>7</th>\n",
              "      <th>8</th>\n",
              "      <th>9</th>\n",
              "      <th>10</th>\n",
              "      <th>11</th>\n",
              "      <th>12</th>\n",
              "      <th>13</th>\n",
              "      <th>14</th>\n",
              "      <th>15</th>\n",
              "      <th>16</th>\n",
              "      <th>17</th>\n",
              "      <th>18</th>\n",
              "      <th>19</th>\n",
              "      <th>20</th>\n",
              "      <th>21</th>\n",
              "      <th>22</th>\n",
              "      <th>23</th>\n",
              "      <th>24</th>\n",
              "      <th>25</th>\n",
              "      <th>26</th>\n",
              "      <th>27</th>\n",
              "      <th>28</th>\n",
              "      <th>29</th>\n",
              "      <th>authentic</th>\n",
              "    </tr>\n",
              "  </thead>\n",
              "  <tbody>\n",
              "    <tr>\n",
              "      <th>0</th>\n",
              "      <td>2.651011</td>\n",
              "      <td>-0.423372</td>\n",
              "      <td>-0.368385</td>\n",
              "      <td>-0.188740</td>\n",
              "      <td>0.049016</td>\n",
              "      <td>-0.186625</td>\n",
              "      <td>0.321142</td>\n",
              "      <td>0.117379</td>\n",
              "      <td>-0.005716</td>\n",
              "      <td>0.125955</td>\n",
              "      <td>0.046099</td>\n",
              "      <td>-0.040472</td>\n",
              "      <td>0.033013</td>\n",
              "      <td>-0.221142</td>\n",
              "      <td>-0.062730</td>\n",
              "      <td>0.135097</td>\n",
              "      <td>-0.013973</td>\n",
              "      <td>-0.063196</td>\n",
              "      <td>-0.074204</td>\n",
              "      <td>-0.035731</td>\n",
              "      <td>0.000250</td>\n",
              "      <td>-0.020883</td>\n",
              "      <td>0.034327</td>\n",
              "      <td>-0.043631</td>\n",
              "      <td>0.098853</td>\n",
              "      <td>0.041139</td>\n",
              "      <td>-0.074200</td>\n",
              "      <td>-0.028073</td>\n",
              "      <td>-0.055451</td>\n",
              "      <td>0.049438</td>\n",
              "      <td>1</td>\n",
              "    </tr>\n",
              "    <tr>\n",
              "      <th>1</th>\n",
              "      <td>2.772362</td>\n",
              "      <td>-0.071695</td>\n",
              "      <td>-0.316573</td>\n",
              "      <td>0.034497</td>\n",
              "      <td>0.039515</td>\n",
              "      <td>0.278533</td>\n",
              "      <td>0.060765</td>\n",
              "      <td>0.233510</td>\n",
              "      <td>0.164275</td>\n",
              "      <td>-0.101954</td>\n",
              "      <td>0.082602</td>\n",
              "      <td>0.080954</td>\n",
              "      <td>-0.087191</td>\n",
              "      <td>-0.017635</td>\n",
              "      <td>0.041052</td>\n",
              "      <td>0.017412</td>\n",
              "      <td>-0.145560</td>\n",
              "      <td>-0.009922</td>\n",
              "      <td>-0.096119</td>\n",
              "      <td>-0.075208</td>\n",
              "      <td>-0.053012</td>\n",
              "      <td>-0.045825</td>\n",
              "      <td>-0.017976</td>\n",
              "      <td>0.027591</td>\n",
              "      <td>-0.008668</td>\n",
              "      <td>-0.107076</td>\n",
              "      <td>-0.005436</td>\n",
              "      <td>-0.044928</td>\n",
              "      <td>-0.052068</td>\n",
              "      <td>0.038296</td>\n",
              "      <td>1</td>\n",
              "    </tr>\n",
              "    <tr>\n",
              "      <th>2</th>\n",
              "      <td>2.906449</td>\n",
              "      <td>-0.614971</td>\n",
              "      <td>0.271582</td>\n",
              "      <td>-0.310778</td>\n",
              "      <td>-0.100192</td>\n",
              "      <td>-0.423467</td>\n",
              "      <td>0.357248</td>\n",
              "      <td>0.217411</td>\n",
              "      <td>-0.151170</td>\n",
              "      <td>0.021935</td>\n",
              "      <td>-0.032314</td>\n",
              "      <td>0.028351</td>\n",
              "      <td>0.058667</td>\n",
              "      <td>-0.079015</td>\n",
              "      <td>-0.032539</td>\n",
              "      <td>-0.180255</td>\n",
              "      <td>-0.023485</td>\n",
              "      <td>0.105960</td>\n",
              "      <td>0.098010</td>\n",
              "      <td>-0.032156</td>\n",
              "      <td>0.067808</td>\n",
              "      <td>0.014001</td>\n",
              "      <td>0.009026</td>\n",
              "      <td>-0.067679</td>\n",
              "      <td>-0.055885</td>\n",
              "      <td>0.034900</td>\n",
              "      <td>-0.043069</td>\n",
              "      <td>0.011239</td>\n",
              "      <td>-0.101359</td>\n",
              "      <td>0.086402</td>\n",
              "      <td>1</td>\n",
              "    </tr>\n",
              "    <tr>\n",
              "      <th>3</th>\n",
              "      <td>3.055506</td>\n",
              "      <td>-0.791440</td>\n",
              "      <td>0.320771</td>\n",
              "      <td>0.380504</td>\n",
              "      <td>0.042908</td>\n",
              "      <td>-0.158092</td>\n",
              "      <td>0.163061</td>\n",
              "      <td>-0.190455</td>\n",
              "      <td>-0.133109</td>\n",
              "      <td>0.039338</td>\n",
              "      <td>-0.257116</td>\n",
              "      <td>0.114862</td>\n",
              "      <td>0.259488</td>\n",
              "      <td>-0.125517</td>\n",
              "      <td>-0.006773</td>\n",
              "      <td>0.062990</td>\n",
              "      <td>0.204793</td>\n",
              "      <td>0.039086</td>\n",
              "      <td>-0.065665</td>\n",
              "      <td>0.031607</td>\n",
              "      <td>-0.037301</td>\n",
              "      <td>0.142566</td>\n",
              "      <td>-0.144489</td>\n",
              "      <td>-0.056194</td>\n",
              "      <td>0.057844</td>\n",
              "      <td>0.114014</td>\n",
              "      <td>0.049428</td>\n",
              "      <td>0.164070</td>\n",
              "      <td>0.017250</td>\n",
              "      <td>0.193990</td>\n",
              "      <td>1</td>\n",
              "    </tr>\n",
              "    <tr>\n",
              "      <th>4</th>\n",
              "      <td>2.941297</td>\n",
              "      <td>-0.194100</td>\n",
              "      <td>-0.801621</td>\n",
              "      <td>-0.218201</td>\n",
              "      <td>-0.001583</td>\n",
              "      <td>0.083773</td>\n",
              "      <td>0.167783</td>\n",
              "      <td>-0.060153</td>\n",
              "      <td>0.062050</td>\n",
              "      <td>-0.079091</td>\n",
              "      <td>0.156428</td>\n",
              "      <td>-0.195837</td>\n",
              "      <td>0.109958</td>\n",
              "      <td>0.000603</td>\n",
              "      <td>-0.049465</td>\n",
              "      <td>-0.050323</td>\n",
              "      <td>0.008536</td>\n",
              "      <td>0.154049</td>\n",
              "      <td>-0.070748</td>\n",
              "      <td>0.108263</td>\n",
              "      <td>-0.240337</td>\n",
              "      <td>0.021543</td>\n",
              "      <td>-0.040656</td>\n",
              "      <td>0.014627</td>\n",
              "      <td>0.008257</td>\n",
              "      <td>-0.008124</td>\n",
              "      <td>0.106391</td>\n",
              "      <td>-0.058028</td>\n",
              "      <td>-0.011466</td>\n",
              "      <td>0.062033</td>\n",
              "      <td>1</td>\n",
              "    </tr>\n",
              "  </tbody>\n",
              "</table>\n",
              "</div>\n",
              "      <button class=\"colab-df-convert\" onclick=\"convertToInteractive('df-71614778-0c88-4f4e-aff6-3ad383388ff0')\"\n",
              "              title=\"Convert this dataframe to an interactive table.\"\n",
              "              style=\"display:none;\">\n",
              "        \n",
              "  <svg xmlns=\"http://www.w3.org/2000/svg\" height=\"24px\"viewBox=\"0 0 24 24\"\n",
              "       width=\"24px\">\n",
              "    <path d=\"M0 0h24v24H0V0z\" fill=\"none\"/>\n",
              "    <path d=\"M18.56 5.44l.94 2.06.94-2.06 2.06-.94-2.06-.94-.94-2.06-.94 2.06-2.06.94zm-11 1L8.5 8.5l.94-2.06 2.06-.94-2.06-.94L8.5 2.5l-.94 2.06-2.06.94zm10 10l.94 2.06.94-2.06 2.06-.94-2.06-.94-.94-2.06-.94 2.06-2.06.94z\"/><path d=\"M17.41 7.96l-1.37-1.37c-.4-.4-.92-.59-1.43-.59-.52 0-1.04.2-1.43.59L10.3 9.45l-7.72 7.72c-.78.78-.78 2.05 0 2.83L4 21.41c.39.39.9.59 1.41.59.51 0 1.02-.2 1.41-.59l7.78-7.78 2.81-2.81c.8-.78.8-2.07 0-2.86zM5.41 20L4 18.59l7.72-7.72 1.47 1.35L5.41 20z\"/>\n",
              "  </svg>\n",
              "      </button>\n",
              "      \n",
              "  <style>\n",
              "    .colab-df-container {\n",
              "      display:flex;\n",
              "      flex-wrap:wrap;\n",
              "      gap: 12px;\n",
              "    }\n",
              "\n",
              "    .colab-df-convert {\n",
              "      background-color: #E8F0FE;\n",
              "      border: none;\n",
              "      border-radius: 50%;\n",
              "      cursor: pointer;\n",
              "      display: none;\n",
              "      fill: #1967D2;\n",
              "      height: 32px;\n",
              "      padding: 0 0 0 0;\n",
              "      width: 32px;\n",
              "    }\n",
              "\n",
              "    .colab-df-convert:hover {\n",
              "      background-color: #E2EBFA;\n",
              "      box-shadow: 0px 1px 2px rgba(60, 64, 67, 0.3), 0px 1px 3px 1px rgba(60, 64, 67, 0.15);\n",
              "      fill: #174EA6;\n",
              "    }\n",
              "\n",
              "    [theme=dark] .colab-df-convert {\n",
              "      background-color: #3B4455;\n",
              "      fill: #D2E3FC;\n",
              "    }\n",
              "\n",
              "    [theme=dark] .colab-df-convert:hover {\n",
              "      background-color: #434B5C;\n",
              "      box-shadow: 0px 1px 3px 1px rgba(0, 0, 0, 0.15);\n",
              "      filter: drop-shadow(0px 1px 2px rgba(0, 0, 0, 0.3));\n",
              "      fill: #FFFFFF;\n",
              "    }\n",
              "  </style>\n",
              "\n",
              "      <script>\n",
              "        const buttonEl =\n",
              "          document.querySelector('#df-71614778-0c88-4f4e-aff6-3ad383388ff0 button.colab-df-convert');\n",
              "        buttonEl.style.display =\n",
              "          google.colab.kernel.accessAllowed ? 'block' : 'none';\n",
              "\n",
              "        async function convertToInteractive(key) {\n",
              "          const element = document.querySelector('#df-71614778-0c88-4f4e-aff6-3ad383388ff0');\n",
              "          const dataTable =\n",
              "            await google.colab.kernel.invokeFunction('convertToInteractive',\n",
              "                                                     [key], {});\n",
              "          if (!dataTable) return;\n",
              "\n",
              "          const docLinkHtml = 'Like what you see? Visit the ' +\n",
              "            '<a target=\"_blank\" href=https://colab.research.google.com/notebooks/data_table.ipynb>data table notebook</a>'\n",
              "            + ' to learn more about interactive tables.';\n",
              "          element.innerHTML = '';\n",
              "          dataTable['output_type'] = 'display_data';\n",
              "          await google.colab.output.renderOutput(dataTable, element);\n",
              "          const docLink = document.createElement('div');\n",
              "          docLink.innerHTML = docLinkHtml;\n",
              "          element.appendChild(docLink);\n",
              "        }\n",
              "      </script>\n",
              "    </div>\n",
              "  </div>\n",
              "  "
            ],
            "text/plain": [
              "          0         1         2  ...        28        29  authentic\n",
              "0  2.651011 -0.423372 -0.368385  ... -0.055451  0.049438          1\n",
              "1  2.772362 -0.071695 -0.316573  ... -0.052068  0.038296          1\n",
              "2  2.906449 -0.614971  0.271582  ... -0.101359  0.086402          1\n",
              "3  3.055506 -0.791440  0.320771  ...  0.017250  0.193990          1\n",
              "4  2.941297 -0.194100 -0.801621  ... -0.011466  0.062033          1\n",
              "\n",
              "[5 rows x 31 columns]"
            ]
          },
          "metadata": {},
          "execution_count": 59
        }
      ],
      "source": [
        "df_w2v.head()"
      ]
    },
    {
      "cell_type": "code",
      "execution_count": null,
      "metadata": {
        "colab": {
          "base_uri": "https://localhost:8080/",
          "height": 17
        },
        "id": "A5mEcqlHSImK",
        "outputId": "f83dcf43-1ca7-4d4e-a36f-f56458f35706"
      },
      "outputs": [
        {
          "data": {
            "application/javascript": [
              "\n",
              "    async function download(id, filename, size) {\n",
              "      if (!google.colab.kernel.accessAllowed) {\n",
              "        return;\n",
              "      }\n",
              "      const div = document.createElement('div');\n",
              "      const label = document.createElement('label');\n",
              "      label.textContent = `Downloading \"${filename}\": `;\n",
              "      div.appendChild(label);\n",
              "      const progress = document.createElement('progress');\n",
              "      progress.max = size;\n",
              "      div.appendChild(progress);\n",
              "      document.body.appendChild(div);\n",
              "\n",
              "      const buffers = [];\n",
              "      let downloaded = 0;\n",
              "\n",
              "      const channel = await google.colab.kernel.comms.open(id);\n",
              "      // Send a message to notify the kernel that we're ready.\n",
              "      channel.send({})\n",
              "\n",
              "      for await (const message of channel.messages) {\n",
              "        // Send a message to notify the kernel that we're ready.\n",
              "        channel.send({})\n",
              "        if (message.buffers) {\n",
              "          for (const buffer of message.buffers) {\n",
              "            buffers.push(buffer);\n",
              "            downloaded += buffer.byteLength;\n",
              "            progress.value = downloaded;\n",
              "          }\n",
              "        }\n",
              "      }\n",
              "      const blob = new Blob(buffers, {type: 'application/binary'});\n",
              "      const a = document.createElement('a');\n",
              "      a.href = window.URL.createObjectURL(blob);\n",
              "      a.download = filename;\n",
              "      div.appendChild(a);\n",
              "      a.click();\n",
              "      div.remove();\n",
              "    }\n",
              "  "
            ],
            "text/plain": [
              "<IPython.core.display.Javascript object>"
            ]
          },
          "metadata": {},
          "output_type": "display_data"
        },
        {
          "data": {
            "application/javascript": [
              "download(\"download_d86da1e8-2503-40f4-a8e1-b9321583f9b5\", \"df_w2v.csv\", 3258308)"
            ],
            "text/plain": [
              "<IPython.core.display.Javascript object>"
            ]
          },
          "metadata": {},
          "output_type": "display_data"
        }
      ],
      "source": [
        "# df_w2v.to_csv('df_w2v.csv') \n",
        "# files.download('df_w2v.csv')"
      ]
    },
    {
      "cell_type": "markdown",
      "metadata": {
        "id": "eC5bJIZe_1b3"
      },
      "source": [
        "## Modelling:"
      ]
    },
    {
      "cell_type": "markdown",
      "metadata": {
        "id": "z2oS5Llo_5dV"
      },
      "source": [
        "### Baseline models:"
      ]
    },
    {
      "cell_type": "code",
      "execution_count": null,
      "metadata": {
        "id": "B2YpdkERqV0H"
      },
      "outputs": [],
      "source": [
        "### Logistic Regression:"
      ]
    },
    {
      "cell_type": "code",
      "execution_count": null,
      "metadata": {
        "id": "TNhdwt4VqV2N"
      },
      "outputs": [],
      "source": [
        "X = df_w2v.iloc[:,:-1]\n",
        "y = df_w2v.iloc[:,-1]"
      ]
    },
    {
      "cell_type": "code",
      "execution_count": null,
      "metadata": {
        "id": "ud6MJI7GqV4p"
      },
      "outputs": [],
      "source": [
        "from sklearn.model_selection import train_test_split\n",
        "X_train, X_test, y_train, y_test = train_test_split(X, y, test_size=0.3)"
      ]
    },
    {
      "cell_type": "code",
      "execution_count": null,
      "metadata": {
        "colab": {
          "base_uri": "https://localhost:8080/"
        },
        "id": "nDNufFcMqV6-",
        "outputId": "13920997-d70e-4ea8-bb4c-8d2565c6394f"
      },
      "outputs": [
        {
          "name": "stdout",
          "output_type": "stream",
          "text": [
            "Accuracy is 0.951\n",
            "Roc_auc score of prediction is 0.952.\n"
          ]
        }
      ],
      "source": [
        "lr = LogisticRegression()\n",
        "\n",
        "lr.fit(X_train, y_train)\n",
        "\n",
        "y_pred = lr.predict(X_test)\n",
        "\n",
        "print(f'Accuracy is {round(np.mean(y_pred == y_test),3)}')\n",
        "print( f'Roc_auc score of prediction is {round(roc_auc_score(y_test, y_pred),3)}.')"
      ]
    },
    {
      "cell_type": "code",
      "execution_count": null,
      "metadata": {
        "id": "G8lRQTI7qV9s"
      },
      "outputs": [],
      "source": [
        "### Random Forest:"
      ]
    },
    {
      "cell_type": "code",
      "execution_count": null,
      "metadata": {
        "id": "olblPmXLqV_7"
      },
      "outputs": [],
      "source": [
        "from sklearn.ensemble import RandomForestClassifier\n",
        "from sklearn.model_selection import GridSearchCV\n",
        "from sklearn.model_selection import cross_validate"
      ]
    },
    {
      "cell_type": "code",
      "execution_count": null,
      "metadata": {
        "id": "IPeq0_BaqWCb"
      },
      "outputs": [],
      "source": [
        "num_cross_val = 5"
      ]
    },
    {
      "cell_type": "code",
      "execution_count": null,
      "metadata": {
        "id": "au74hV7iqWFH"
      },
      "outputs": [],
      "source": [
        "def clf_score(clf, x_train, y_train, label, train_scores, test_scores, cv=num_cross_val, n_jobs=-1):\n",
        "    score = cross_validate(clf, x_train, y_train, scoring = 'r2', cv=cv, n_jobs=n_jobs,\n",
        "                           return_train_score=True, return_estimator=True)\n",
        "    train_scores.append(score['train_score'])\n",
        "    test_scores.append(score['test_score'])\n",
        "    labels.append(label)\n",
        "    print(np.mean(score['test_score']))"
      ]
    },
    {
      "cell_type": "code",
      "execution_count": null,
      "metadata": {
        "id": "kj1Y3dfuqWHc"
      },
      "outputs": [],
      "source": [
        "labels = []\n",
        "train_scores = []\n",
        "test_scores = []"
      ]
    },
    {
      "cell_type": "code",
      "execution_count": null,
      "metadata": {
        "colab": {
          "base_uri": "https://localhost:8080/"
        },
        "id": "D9HRsrNTqWKK",
        "outputId": "df5950db-ecb7-4bdd-cbbf-172639777112"
      },
      "outputs": [
        {
          "data": {
            "text/plain": [
              "GridSearchCV(cv=10, estimator=RandomForestClassifier(),\n",
              "             param_grid={'max_depth': [3, 5, 7, 9],\n",
              "                         'min_samples_leaf': [3, 5, 8, 10],\n",
              "                         'n_estimators': [100]})"
            ]
          },
          "execution_count": 53,
          "metadata": {},
          "output_type": "execute_result"
        }
      ],
      "source": [
        "rf = RandomForestClassifier()\n",
        "param_grid = { \n",
        "    'max_depth': [3,5,7,9],\n",
        "    'min_samples_leaf': [3,5,8,10],\n",
        "    'n_estimators': [100]\n",
        "}\n",
        "CV_rf = GridSearchCV(estimator=rf, param_grid=param_grid, cv= 10)\n",
        "CV_rf.fit(X, y)"
      ]
    },
    {
      "cell_type": "code",
      "execution_count": null,
      "metadata": {
        "colab": {
          "base_uri": "https://localhost:8080/"
        },
        "id": "OZ7JnoOtqWMp",
        "outputId": "85f0f241-f01e-4a3d-cc43-cb950f018893"
      },
      "outputs": [
        {
          "data": {
            "text/plain": [
              "{'max_depth': 9, 'min_samples_leaf': 3, 'n_estimators': 100}"
            ]
          },
          "execution_count": 54,
          "metadata": {},
          "output_type": "execute_result"
        }
      ],
      "source": [
        "CV_rf.best_params_"
      ]
    },
    {
      "cell_type": "code",
      "execution_count": null,
      "metadata": {
        "colab": {
          "base_uri": "https://localhost:8080/"
        },
        "id": "Wi6i33SPqWPG",
        "outputId": "4d42b773-1d20-4a8f-b570-ad7036d622fe"
      },
      "outputs": [
        {
          "name": "stdout",
          "output_type": "stream",
          "text": [
            "0.7098261427647926\n"
          ]
        }
      ],
      "source": [
        "rf = RandomForestClassifier(max_depth = 9, min_samples_leaf = 5, n_estimators = 100) \n",
        "clf_score(rf, X, y, 'RF1', train_scores, test_scores, n_jobs=-1)"
      ]
    },
    {
      "cell_type": "code",
      "execution_count": null,
      "metadata": {
        "colab": {
          "base_uri": "https://localhost:8080/"
        },
        "id": "F2nA6MeuqWRo",
        "outputId": "1b3f1bc5-32d3-4139-d55c-a18d576d56c0"
      },
      "outputs": [
        {
          "name": "stdout",
          "output_type": "stream",
          "text": [
            "Accuracy is 0.927\n",
            "Roc_auc score of prediction is 0.927.\n"
          ]
        }
      ],
      "source": [
        "rf.fit(X_train, y_train)\n",
        "\n",
        "y_pred = rf.predict(X_test)\n",
        "\n",
        "print(f'Accuracy is {round(np.mean(y_pred == y_test),3)}')\n",
        "print( f'Roc_auc score of prediction is {round(roc_auc_score(y_test, y_pred),3)}.')"
      ]
    },
    {
      "cell_type": "markdown",
      "metadata": {
        "id": "R-uRRzBhEGBv"
      },
      "source": [
        "### Advenced models(LSTM and RNN):"
      ]
    },
    {
      "cell_type": "markdown",
      "metadata": {
        "id": "uaIR-WziYP4F"
      },
      "source": [
        "#### Use 'title' column for modeling\n",
        "- For this section, we only use 'title' column for modeling.\n",
        "- We tried both RNN and LSTM, but the result of using 'title' column for modeling is not good. Our baseline logistic regression model gives us 0.95 accuracy; however, this part can only give us about 0.91 accuracy. Therefore, we decided to use 'text' column (article itself) for modeling."
      ]
    },
    {
      "cell_type": "code",
      "execution_count": null,
      "metadata": {
        "ExecuteTime": {
          "end_time": "2021-12-17T05:13:53.454710Z",
          "start_time": "2021-12-17T05:13:53.442743Z"
        },
        "id": "jVxBXxg2qWUT",
        "outputId": "e306c92d-2f90-4830-ef0d-5b1ab7f1766f"
      },
      "outputs": [
        {
          "data": {
            "text/html": [
              "<div>\n",
              "<style scoped>\n",
              "    .dataframe tbody tr th:only-of-type {\n",
              "        vertical-align: middle;\n",
              "    }\n",
              "\n",
              "    .dataframe tbody tr th {\n",
              "        vertical-align: top;\n",
              "    }\n",
              "\n",
              "    .dataframe thead th {\n",
              "        text-align: right;\n",
              "    }\n",
              "</style>\n",
              "<table border=\"1\" class=\"dataframe\">\n",
              "  <thead>\n",
              "    <tr style=\"text-align: right;\">\n",
              "      <th></th>\n",
              "      <th>title</th>\n",
              "      <th>text</th>\n",
              "      <th>authentic</th>\n",
              "    </tr>\n",
              "  </thead>\n",
              "  <tbody>\n",
              "    <tr>\n",
              "      <th>0</th>\n",
              "      <td>unit state hous committe may reconsid cancer a...</td>\n",
              "      <td>london reuter unit state congression committe ...</td>\n",
              "      <td>1</td>\n",
              "    </tr>\n",
              "    <tr>\n",
              "      <th>1</th>\n",
              "      <td>congratul eu move brexit phase two warn tough</td>\n",
              "      <td>brunit statesl reuter european union agre frid...</td>\n",
              "      <td>1</td>\n",
              "    </tr>\n",
              "    <tr>\n",
              "      <th>2</th>\n",
              "      <td>white hous aid told preserv materi russia prob...</td>\n",
              "      <td>washington reuter white hous counsel offic sen...</td>\n",
              "      <td>1</td>\n",
              "    </tr>\n",
              "    <tr>\n",
              "      <th>3</th>\n",
              "      <td>unit state concern violenc around iraq kirkuk ...</td>\n",
              "      <td>washington reuter unit state state depart said...</td>\n",
              "      <td>1</td>\n",
              "    </tr>\n",
              "    <tr>\n",
              "      <th>4</th>\n",
              "      <td>obama move gender pay gap seen first step uphi...</td>\n",
              "      <td>new york reuter advoc fight close unit state g...</td>\n",
              "      <td>1</td>\n",
              "    </tr>\n",
              "    <tr>\n",
              "      <th>...</th>\n",
              "      <td>...</td>\n",
              "      <td>...</td>\n",
              "      <td>...</td>\n",
              "    </tr>\n",
              "    <tr>\n",
              "      <th>8974</th>\n",
              "      <td>death alton sterl polic kill 114 black men far...</td>\n",
              "      <td>outrag protest taken street baton roug lousian...</td>\n",
              "      <td>0</td>\n",
              "    </tr>\n",
              "    <tr>\n",
              "      <th>8975</th>\n",
              "      <td>horrif nation anthem sung trump ralli pianist ...</td>\n",
              "      <td>not nice critic peopl per se attempt sing one ...</td>\n",
              "      <td>0</td>\n",
              "    </tr>\n",
              "    <tr>\n",
              "      <th>8976</th>\n",
              "      <td>conserv invent conspiraci theori blame white o...</td>\n",
              "      <td>even crankiest section america right wing star...</td>\n",
              "      <td>0</td>\n",
              "    </tr>\n",
              "    <tr>\n",
              "      <th>8977</th>\n",
              "      <td>trump fan drive jeep crowd protest video</td>\n",
              "      <td>saturday afternoon group protest gather main r...</td>\n",
              "      <td>0</td>\n",
              "    </tr>\n",
              "    <tr>\n",
              "      <th>8978</th>\n",
              "      <td>beyonc let know true feel polic not apolog</td>\n",
              "      <td>beyonc releas song format perform super bowl l...</td>\n",
              "      <td>0</td>\n",
              "    </tr>\n",
              "  </tbody>\n",
              "</table>\n",
              "<p>8979 rows × 3 columns</p>\n",
              "</div>"
            ],
            "text/plain": [
              "                                                  title  \\\n",
              "0     unit state hous committe may reconsid cancer a...   \n",
              "1         congratul eu move brexit phase two warn tough   \n",
              "2     white hous aid told preserv materi russia prob...   \n",
              "3     unit state concern violenc around iraq kirkuk ...   \n",
              "4     obama move gender pay gap seen first step uphi...   \n",
              "...                                                 ...   \n",
              "8974  death alton sterl polic kill 114 black men far...   \n",
              "8975  horrif nation anthem sung trump ralli pianist ...   \n",
              "8976  conserv invent conspiraci theori blame white o...   \n",
              "8977           trump fan drive jeep crowd protest video   \n",
              "8978         beyonc let know true feel polic not apolog   \n",
              "\n",
              "                                                   text  authentic  \n",
              "0     london reuter unit state congression committe ...          1  \n",
              "1     brunit statesl reuter european union agre frid...          1  \n",
              "2     washington reuter white hous counsel offic sen...          1  \n",
              "3     washington reuter unit state state depart said...          1  \n",
              "4     new york reuter advoc fight close unit state g...          1  \n",
              "...                                                 ...        ...  \n",
              "8974  outrag protest taken street baton roug lousian...          0  \n",
              "8975  not nice critic peopl per se attempt sing one ...          0  \n",
              "8976  even crankiest section america right wing star...          0  \n",
              "8977  saturday afternoon group protest gather main r...          0  \n",
              "8978  beyonc releas song format perform super bowl l...          0  \n",
              "\n",
              "[8979 rows x 3 columns]"
            ]
          },
          "execution_count": 27,
          "metadata": {},
          "output_type": "execute_result"
        }
      ],
      "source": [
        "data"
      ]
    },
    {
      "cell_type": "code",
      "execution_count": null,
      "metadata": {
        "ExecuteTime": {
          "end_time": "2021-12-17T05:13:54.097392Z",
          "start_time": "2021-12-17T05:13:54.091441Z"
        },
        "id": "BXcE7U8uqWWw"
      },
      "outputs": [],
      "source": [
        "from random import randint\n",
        "from numpy import array, argmax, asarray, zeros\n",
        "from keras.models import Sequential\n",
        "from keras.layers import Dense\n",
        "from keras.layers import Embedding"
      ]
    },
    {
      "cell_type": "code",
      "execution_count": null,
      "metadata": {
        "ExecuteTime": {
          "end_time": "2021-12-17T05:13:55.233005Z",
          "start_time": "2021-12-17T05:13:55.217015Z"
        },
        "id": "J_EWv5rDqWZh"
      },
      "outputs": [],
      "source": [
        "# apply the word count function\n",
        "from collections import Counter\n",
        "\n",
        "def count_words(lines, delimiter=\" \"):\n",
        "    \n",
        "    words = Counter() # instantiate a Counter object called words\n",
        "    for line in lines:\n",
        "        for word in line.split(delimiter):\n",
        "            words[word] += 1 # increment count for word\n",
        "    return words\n",
        "\n",
        "# apply the histograme function\n",
        "def make_histogram(values, title=None,xlabel=None,ylabel=None, bins=30, x_size=15, y_size=6):\n",
        "    plt.rcParams[\"figure.figsize\"] = (x_size,y_size)\n",
        "    plt.hist(values, bins=bins)\n",
        "    \n",
        "    if title:\n",
        "        plt.title(title) # give the plot a title\n",
        "        \n",
        "    if xlabel:\n",
        "        plt.xlabel(xlabel) # label the X axis\n",
        "        \n",
        "    if ylabel:\n",
        "        plt.ylabel(ylabel) # label the Y axis\n",
        "        \n",
        "    plt.show() "
      ]
    },
    {
      "cell_type": "code",
      "execution_count": null,
      "metadata": {
        "ExecuteTime": {
          "end_time": "2021-12-17T05:13:56.110022Z",
          "start_time": "2021-12-17T05:13:56.053173Z"
        },
        "id": "nozf1MtGqWb9",
        "outputId": "d0f7e076-10d3-4fba-b911-b5045b73e123"
      },
      "outputs": [
        {
          "data": {
            "text/plain": [
              "[('trump', 3071),\n",
              " ('video', 1685),\n",
              " ('state', 1116),\n",
              " ('unit', 887),\n",
              " ('say', 802),\n",
              " ('obama', 653),\n",
              " ('hillari', 487),\n",
              " ('hous', 413),\n",
              " ('watch', 406),\n",
              " ('presid', 400),\n",
              " ('clinton', 399),\n",
              " ('not', 373),\n",
              " ('republican', 369),\n",
              " ('white', 362),\n",
              " ('new', 346),\n",
              " ('senat', 327),\n",
              " ('call', 306),\n",
              " ('democrat', 303),\n",
              " ('elect', 276),\n",
              " ('vote', 276)]"
            ]
          },
          "execution_count": 30,
          "metadata": {},
          "output_type": "execute_result"
        }
      ],
      "source": [
        "counter = count_words(data['title'])\n",
        "counter.most_common(20)"
      ]
    },
    {
      "cell_type": "code",
      "execution_count": null,
      "metadata": {
        "ExecuteTime": {
          "end_time": "2021-12-17T05:13:56.964789Z",
          "start_time": "2021-12-17T05:13:56.712462Z"
        },
        "id": "zo9P_54dqWeJ",
        "outputId": "db7991ac-0cc2-499e-eb1b-01920a815b4e"
      },
      "outputs": [
        {
          "data": {
            "image/png": "[encoded data removed]",
            "text/plain": [
              "<Figure size 1080x432 with 1 Axes>"
            ]
          },
          "metadata": {
            "needs_background": "light"
          },
          "output_type": "display_data"
        }
      ],
      "source": [
        "import matplotlib.pyplot as plt\n",
        "make_histogram(counter.values(), \n",
        "               title=\"Distribution of Word Count in title\",\n",
        "               xlabel=\"Number of Times Word Appears\",\n",
        "               ylabel=\"Number of Unique Words\")"
      ]
    },
    {
      "cell_type": "code",
      "execution_count": null,
      "metadata": {
        "ExecuteTime": {
          "end_time": "2021-12-17T05:13:57.261748Z",
          "start_time": "2021-12-17T05:13:57.242759Z"
        },
        "id": "QSCZ1txWqWgs",
        "outputId": "b34ac51f-dd70-498b-c769-40feaabcb328"
      },
      "outputs": [
        {
          "data": {
            "text/plain": [
              "7912"
            ]
          },
          "execution_count": 32,
          "metadata": {},
          "output_type": "execute_result"
        }
      ],
      "source": [
        "len(counter)"
      ]
    },
    {
      "cell_type": "code",
      "execution_count": null,
      "metadata": {
        "ExecuteTime": {
          "end_time": "2021-12-17T05:13:58.693520Z",
          "start_time": "2021-12-17T05:13:58.670550Z"
        },
        "id": "-le9U92YYP4G",
        "outputId": "38906848-d5bb-46b4-901d-6e518287ebd7"
      },
      "outputs": [
        {
          "data": {
            "text/plain": [
              "28"
            ]
          },
          "execution_count": 33,
          "metadata": {},
          "output_type": "execute_result"
        }
      ],
      "source": [
        "from keras.preprocessing.text import text_to_word_sequence\n",
        "from typing import List\n",
        "def get_max_token_length_per_doc(docs: List[List[str]])-> int:\n",
        "    return max(list(map(lambda x: len(x.split()), docs)))\n",
        "\n",
        "# get the max length in terms of token length\n",
        "max_length = get_max_token_length_per_doc(data['title'])\n",
        "max_length"
      ]
    },
    {
      "cell_type": "code",
      "execution_count": null,
      "metadata": {
        "ExecuteTime": {
          "end_time": "2021-12-17T05:13:59.417974Z",
          "start_time": "2021-12-17T05:13:59.225969Z"
        },
        "id": "zqadNXawqWi3"
      },
      "outputs": [],
      "source": [
        "from keras.preprocessing.text import Tokenizer\n",
        "tokenizer = Tokenizer(num_words=8000, oov_token=\"UNKNOWN_TOKEN\")\n",
        "tokenizer.fit_on_texts(data['title'])"
      ]
    },
    {
      "cell_type": "code",
      "execution_count": null,
      "metadata": {
        "ExecuteTime": {
          "end_time": "2021-12-17T05:13:59.918718Z",
          "start_time": "2021-12-17T05:13:59.904710Z"
        },
        "id": "dNbwtRtDqWlb"
      },
      "outputs": [],
      "source": [
        "VOCAB_SIZE = int(len(tokenizer.word_index) * 1.1)\n",
        "MAX_SEQUENCE_LENGTH = 28"
      ]
    },
    {
      "cell_type": "code",
      "execution_count": null,
      "metadata": {
        "ExecuteTime": {
          "end_time": "2021-12-17T05:14:00.724750Z",
          "start_time": "2021-12-17T05:14:00.441786Z"
        },
        "id": "hr9itcruYP4H"
      },
      "outputs": [],
      "source": [
        "def integer_encode_documents(docs, tokenizer):\n",
        "    return tokenizer.texts_to_sequences(docs)\n",
        "\n",
        "from tensorflow.keras.preprocessing.sequence import pad_sequences\n",
        "# integer encode the documents\n",
        "encoded_docs = integer_encode_documents(data['title'], tokenizer)\n",
        "\n",
        "padded_docs = pad_sequences(encoded_docs, maxlen=MAX_SEQUENCE_LENGTH, padding='post')"
      ]
    },
    {
      "cell_type": "code",
      "execution_count": null,
      "metadata": {
        "ExecuteTime": {
          "end_time": "2021-12-17T05:14:00.974498Z",
          "start_time": "2021-12-17T05:14:00.963527Z"
        },
        "id": "7odiHkZPYP4H",
        "outputId": "9db24d56-83d2-485c-d3db-ee5efd496511"
      },
      "outputs": [
        {
          "data": {
            "text/plain": [
              "array([1, 1, 1, ..., 0, 0, 0], dtype=int64)"
            ]
          },
          "execution_count": 37,
          "metadata": {},
          "output_type": "execute_result"
        }
      ],
      "source": [
        "from numpy import array\n",
        "labels = array(data['authentic'])\n",
        "labels"
      ]
    },
    {
      "cell_type": "code",
      "execution_count": null,
      "metadata": {
        "ExecuteTime": {
          "end_time": "2021-12-17T05:14:16.569394Z",
          "start_time": "2021-12-17T05:14:01.579299Z"
        },
        "id": "om9DbCR_qWnL",
        "outputId": "6c2775a0-aa1d-43f5-eb09-c839a68e651a"
      },
      "outputs": [
        {
          "name": "stdout",
          "output_type": "stream",
          "text": [
            "Loaded 400000 word vectors.\n"
          ]
        }
      ],
      "source": [
        "def load_glove_vectors():\n",
        "    embeddings_index = {}\n",
        "    with open('glove.6B.100d.txt', encoding='utf-8') as f:\n",
        "        for line in f:\n",
        "            values = line.split()\n",
        "            word = values[0]\n",
        "            coefs = asarray(values[1:], dtype='float32')\n",
        "            embeddings_index[word] = coefs\n",
        "    print('Loaded %s word vectors.' % len(embeddings_index))\n",
        "    return embeddings_index\n",
        "\n",
        "\n",
        "embeddings_index = load_glove_vectors()"
      ]
    },
    {
      "cell_type": "code",
      "execution_count": null,
      "metadata": {
        "ExecuteTime": {
          "end_time": "2021-12-17T05:14:16.601358Z",
          "start_time": "2021-12-17T05:14:16.572388Z"
        },
        "id": "40sX0GG9qWpj"
      },
      "outputs": [],
      "source": [
        "# create a weight matrix for words in training docs\n",
        "embedding_matrix = zeros((VOCAB_SIZE, 100))\n",
        "for word, i in tokenizer.word_index.items():\n",
        "    embedding_vector = embeddings_index.get(word)\n",
        "    if embedding_vector is not None: # check that it is an actual word that we have embeddings for\n",
        "        embedding_matrix[i] = embedding_vector"
      ]
    },
    {
      "cell_type": "code",
      "execution_count": null,
      "metadata": {
        "ExecuteTime": {
          "end_time": "2021-12-17T05:14:16.633224Z",
          "start_time": "2021-12-17T05:14:16.604303Z"
        },
        "id": "dJtEr2ieqWro"
      },
      "outputs": [],
      "source": [
        "from keras.layers.recurrent import SimpleRNN, LSTM\n",
        "from keras.layers import Flatten, Masking\n",
        "# define model\n",
        "\n",
        "def make_binary_classification_rnn_model(plot=False):\n",
        "    model = Sequential()\n",
        "    model.add(Embedding(VOCAB_SIZE, 100, weights=[embedding_matrix], input_length=MAX_SEQUENCE_LENGTH, trainable=False))\n",
        "    model.add(Masking(mask_value=0.0)) # masking layer, masks any words that don't have an embedding as 0s.\n",
        "    model.add(SimpleRNN(units=128, input_shape=(1, MAX_SEQUENCE_LENGTH)))\n",
        "    model.add(Dense(16))\n",
        "    model.add(Dense(2, activation='softmax'))\n",
        "    \n",
        "    # Compile the model\n",
        "    model.compile(\n",
        "    optimizer='adam', loss='sparse_categorical_crossentropy', metrics=['accuracy'])\n",
        "    # summarize the model\n",
        "    model.summary()\n",
        "    \n",
        "    if plot:\n",
        "        plot_model(model, to_file='model.png', show_shapes=True)\n",
        "    return model\n",
        "\n",
        "def make_lstm_classification_model(plot=False):\n",
        "    model = Sequential()\n",
        "    model.add(Embedding(VOCAB_SIZE, 100, weights=[embedding_matrix], input_length=MAX_SEQUENCE_LENGTH, trainable=False))\n",
        "    model.add(Masking(mask_value=0.0)) # masking layer, masks any words that don't have an embedding as 0s.\n",
        "    model.add(LSTM(units=64, input_shape=(1, MAX_SEQUENCE_LENGTH)))\n",
        "    model.add(Dense(16))\n",
        "    model.add(Dense(2, activation='softmax'))\n",
        "    \n",
        "    # Compile the model\n",
        "    model.compile(\n",
        "    optimizer='adam', loss='sparse_categorical_crossentropy', metrics=['accuracy'])\n",
        "    # summarize the model\n",
        "    model.summary()\n",
        "    \n",
        "    if plot:\n",
        "        plot_model(model, to_file='model.png', show_shapes=True)\n",
        "    return model"
      ]
    },
    {
      "cell_type": "code",
      "execution_count": null,
      "metadata": {
        "ExecuteTime": {
          "end_time": "2021-12-17T04:03:34.964707Z",
          "start_time": "2021-12-17T04:03:34.820095Z"
        },
        "id": "zI-izdUOEMGU",
        "outputId": "67458639-dcd9-4d9f-ef10-00030487bf0f"
      },
      "outputs": [
        {
          "name": "stdout",
          "output_type": "stream",
          "text": [
            "Model: \"sequential_4\"\n",
            "_________________________________________________________________\n",
            " Layer (type)                Output Shape              Param #   \n",
            "=================================================================\n",
            " embedding_3 (Embedding)     (None, 28, 100)           870300    \n",
            "                                                                 \n",
            " masking_3 (Masking)         (None, 28, 100)           0         \n",
            "                                                                 \n",
            " simple_rnn_3 (SimpleRNN)    (None, 128)               29312     \n",
            "                                                                 \n",
            " dense_6 (Dense)             (None, 16)                2064      \n",
            "                                                                 \n",
            " dense_7 (Dense)             (None, 2)                 34        \n",
            "                                                                 \n",
            "=================================================================\n",
            "Total params: 901,710\n",
            "Trainable params: 31,410\n",
            "Non-trainable params: 870,300\n",
            "_________________________________________________________________\n"
          ]
        }
      ],
      "source": [
        "rnn_model = make_binary_classification_rnn_model()"
      ]
    },
    {
      "cell_type": "code",
      "execution_count": null,
      "metadata": {
        "ExecuteTime": {
          "end_time": "2021-12-17T04:04:30.166558Z",
          "start_time": "2021-12-17T04:04:29.966000Z"
        },
        "id": "gMw8uAfTYP4I",
        "outputId": "076f5566-ca15-4d49-8172-9c093122585c"
      },
      "outputs": [
        {
          "name": "stdout",
          "output_type": "stream",
          "text": [
            "Model: \"sequential_5\"\n",
            "_________________________________________________________________\n",
            " Layer (type)                Output Shape              Param #   \n",
            "=================================================================\n",
            " embedding_4 (Embedding)     (None, 28, 100)           870300    \n",
            "                                                                 \n",
            " masking_4 (Masking)         (None, 28, 100)           0         \n",
            "                                                                 \n",
            " lstm (LSTM)                 (None, 64)                42240     \n",
            "                                                                 \n",
            " dense_8 (Dense)             (None, 16)                1040      \n",
            "                                                                 \n",
            " dense_9 (Dense)             (None, 2)                 34        \n",
            "                                                                 \n",
            "=================================================================\n",
            "Total params: 913,614\n",
            "Trainable params: 43,314\n",
            "Non-trainable params: 870,300\n",
            "_________________________________________________________________\n"
          ]
        }
      ],
      "source": [
        "lstm_model = make_lstm_classification_model()"
      ]
    },
    {
      "cell_type": "code",
      "execution_count": null,
      "metadata": {
        "ExecuteTime": {
          "end_time": "2021-12-17T04:03:35.576857Z",
          "start_time": "2021-12-17T04:03:35.563892Z"
        },
        "id": "-grrT6FMEMIm"
      },
      "outputs": [],
      "source": [
        "from sklearn.model_selection import train_test_split\n",
        "X_train, X_test, y_train, y_test = train_test_split(padded_docs, labels, test_size=0.3)"
      ]
    },
    {
      "cell_type": "code",
      "execution_count": null,
      "metadata": {
        "ExecuteTime": {
          "end_time": "2021-12-17T04:03:55.216689Z",
          "start_time": "2021-12-17T04:03:36.539786Z"
        },
        "id": "Sy66TZsxEMK9",
        "outputId": "4edf7bcf-a7ac-4815-f005-e619d5d2a05c"
      },
      "outputs": [
        {
          "name": "stdout",
          "output_type": "stream",
          "text": [
            "Epoch 1/10\n",
            "138/138 [==============================] - 3s 13ms/step - loss: 0.3807 - accuracy: 0.8238 - val_loss: 0.3147 - val_accuracy: 0.8568\n",
            "Epoch 2/10\n",
            "138/138 [==============================] - 2s 11ms/step - loss: 0.2522 - accuracy: 0.8918 - val_loss: 0.2893 - val_accuracy: 0.8733\n",
            "Epoch 3/10\n",
            "138/138 [==============================] - 2s 11ms/step - loss: 0.2269 - accuracy: 0.9093 - val_loss: 0.3139 - val_accuracy: 0.8627\n",
            "Epoch 4/10\n",
            "138/138 [==============================] - 2s 11ms/step - loss: 0.1823 - accuracy: 0.9266 - val_loss: 0.3238 - val_accuracy: 0.8818\n",
            "Epoch 5/10\n",
            "138/138 [==============================] - 2s 11ms/step - loss: 0.1461 - accuracy: 0.9475 - val_loss: 0.3579 - val_accuracy: 0.8749\n",
            "Epoch 6/10\n",
            "138/138 [==============================] - 2s 12ms/step - loss: 0.1056 - accuracy: 0.9577 - val_loss: 0.3633 - val_accuracy: 0.8796\n",
            "Epoch 7/10\n",
            "138/138 [==============================] - 2s 14ms/step - loss: 0.0813 - accuracy: 0.9698 - val_loss: 0.6139 - val_accuracy: 0.8420\n",
            "Epoch 8/10\n",
            "138/138 [==============================] - 2s 14ms/step - loss: 0.0728 - accuracy: 0.9723 - val_loss: 0.4774 - val_accuracy: 0.8738\n",
            "Epoch 9/10\n",
            "138/138 [==============================] - 2s 14ms/step - loss: 0.0447 - accuracy: 0.9834 - val_loss: 0.5104 - val_accuracy: 0.8701\n",
            "Epoch 10/10\n",
            "138/138 [==============================] - 2s 14ms/step - loss: 0.0241 - accuracy: 0.9925 - val_loss: 0.5698 - val_accuracy: 0.8759\n"
          ]
        },
        {
          "data": {
            "text/plain": [
              "<keras.callbacks.History at 0x25547442c10>"
            ]
          },
          "execution_count": 67,
          "metadata": {},
          "output_type": "execute_result"
        }
      ],
      "source": [
        "rnn_model.fit(X_train, y_train, validation_split=0.3, epochs=10)"
      ]
    },
    {
      "cell_type": "code",
      "execution_count": null,
      "metadata": {
        "ExecuteTime": {
          "end_time": "2021-12-17T04:05:27.010915Z",
          "start_time": "2021-12-17T04:04:39.943998Z"
        },
        "id": "Q0g9eRBxEMNA",
        "outputId": "d372308f-185b-4860-aa9f-a28703c8e5fd"
      },
      "outputs": [
        {
          "name": "stdout",
          "output_type": "stream",
          "text": [
            "Epoch 1/10\n",
            "138/138 [==============================] - 7s 29ms/step - loss: 0.3694 - accuracy: 0.8341 - val_loss: 0.2825 - val_accuracy: 0.8759\n",
            "Epoch 2/10\n",
            "138/138 [==============================] - 5s 34ms/step - loss: 0.2584 - accuracy: 0.8868 - val_loss: 0.2603 - val_accuracy: 0.8887\n",
            "Epoch 3/10\n",
            "138/138 [==============================] - 5s 33ms/step - loss: 0.2209 - accuracy: 0.9027 - val_loss: 0.2632 - val_accuracy: 0.8940\n",
            "Epoch 4/10\n",
            "138/138 [==============================] - 4s 32ms/step - loss: 0.1824 - accuracy: 0.9236 - val_loss: 0.2447 - val_accuracy: 0.9030\n",
            "Epoch 5/10\n",
            "138/138 [==============================] - 5s 33ms/step - loss: 0.1491 - accuracy: 0.9407 - val_loss: 0.2568 - val_accuracy: 0.9051\n",
            "Epoch 6/10\n",
            "138/138 [==============================] - 4s 32ms/step - loss: 0.1255 - accuracy: 0.9509 - val_loss: 0.2595 - val_accuracy: 0.9035\n",
            "Epoch 7/10\n",
            "138/138 [==============================] - 5s 35ms/step - loss: 0.1058 - accuracy: 0.9614 - val_loss: 0.2658 - val_accuracy: 0.9072\n",
            "Epoch 8/10\n",
            "138/138 [==============================] - 4s 30ms/step - loss: 0.0752 - accuracy: 0.9727 - val_loss: 0.2783 - val_accuracy: 0.9130\n",
            "Epoch 9/10\n",
            "138/138 [==============================] - 5s 33ms/step - loss: 0.0650 - accuracy: 0.9775 - val_loss: 0.2893 - val_accuracy: 0.9157\n",
            "Epoch 10/10\n",
            "138/138 [==============================] - 4s 31ms/step - loss: 0.0352 - accuracy: 0.9902 - val_loss: 0.3818 - val_accuracy: 0.9030\n"
          ]
        },
        {
          "data": {
            "text/plain": [
              "<keras.callbacks.History at 0x25549c51850>"
            ]
          },
          "execution_count": 69,
          "metadata": {},
          "output_type": "execute_result"
        }
      ],
      "source": [
        "lstm_model.fit(X_train, y_train, validation_split=0.3, epochs=10)"
      ]
    },
    {
      "cell_type": "markdown",
      "metadata": {
        "id": "Kinj7KADYP4J"
      },
      "source": [
        "- The result of using 'title' column for modeling is not good. Our baseline logistic regression model gives us 0.95 accuracy; however, this part can only give us about 0.91 accuracy. Therefore, we decided to use 'text' column (article itself) for modeling."
      ]
    },
    {
      "cell_type": "markdown",
      "metadata": {
        "ExecuteTime": {
          "end_time": "2021-12-17T04:12:10.701336Z",
          "start_time": "2021-12-17T04:12:10.695354Z"
        },
        "id": "BpG51BX6YP4J"
      },
      "source": [
        "#### Use 'text' column for modeling\n",
        "- For this section, we used 'text' column for modeling.\n",
        "- For RNN and LSTM models' parameters, we tried several combinations in testing and picked the most stable one for the final modeling.\n",
        "- For Epoch, we first ran the model by setting epoch = 10. If we saw overfitting problem, we will decrease epoch number and chose the number shows the highest cross validation accuracy.\n",
        "- In all attempts, LSTM shows a better result than RNN. Therefore, we decided to use LSTM."
      ]
    },
    {
      "cell_type": "code",
      "execution_count": null,
      "metadata": {
        "ExecuteTime": {
          "end_time": "2021-12-17T05:15:46.077410Z",
          "start_time": "2021-12-17T05:15:45.046456Z"
        },
        "id": "11-MOs7mEMPR",
        "outputId": "8b2fa6b4-184e-4a9d-ee3c-aa920d0cb5aa"
      },
      "outputs": [
        {
          "data": {
            "text/plain": [
              "[('trump', 27445),\n",
              " ('said', 26511),\n",
              " ('state', 22076),\n",
              " ('not', 16910),\n",
              " ('unit', 14832),\n",
              " ('presid', 12256),\n",
              " ('would', 11093),\n",
              " ('peopl', 8442),\n",
              " ('year', 8271),\n",
              " ('republican', 8153),\n",
              " ('one', 7863),\n",
              " ('say', 7499),\n",
              " ('elect', 6400),\n",
              " ('new', 6242),\n",
              " ('govern', 6239),\n",
              " ('clinton', 6164),\n",
              " ('hous', 6083),\n",
              " ('like', 6054),\n",
              " ('also', 6052),\n",
              " ('reuter', 5920)]"
            ]
          },
          "execution_count": 42,
          "metadata": {},
          "output_type": "execute_result"
        }
      ],
      "source": [
        "counter = count_words(data['text'])\n",
        "counter.most_common(20)"
      ]
    },
    {
      "cell_type": "code",
      "execution_count": null,
      "metadata": {
        "ExecuteTime": {
          "end_time": "2021-12-17T05:15:46.092373Z",
          "start_time": "2021-12-17T05:15:46.079406Z"
        },
        "id": "d1m0IuqLEMRP",
        "outputId": "7815d9c9-0315-4d09-96c0-e75db3b523f8"
      },
      "outputs": [
        {
          "data": {
            "text/plain": [
              "40563"
            ]
          },
          "execution_count": 43,
          "metadata": {},
          "output_type": "execute_result"
        }
      ],
      "source": [
        "len(counter)"
      ]
    },
    {
      "cell_type": "code",
      "execution_count": null,
      "metadata": {
        "ExecuteTime": {
          "end_time": "2021-12-17T05:15:46.968920Z",
          "start_time": "2021-12-17T05:15:46.786412Z"
        },
        "id": "T4spYJx3EMTl",
        "outputId": "1e83b371-c116-4557-8e87-3e82a00c7061"
      },
      "outputs": [
        {
          "data": {
            "text/plain": [
              "4889"
            ]
          },
          "execution_count": 44,
          "metadata": {},
          "output_type": "execute_result"
        }
      ],
      "source": [
        "# get the max length in terms of token length\n",
        "max_length = get_max_token_length_per_doc(data['text'])\n",
        "max_length"
      ]
    },
    {
      "cell_type": "code",
      "execution_count": null,
      "metadata": {
        "ExecuteTime": {
          "end_time": "2021-12-17T06:32:19.247500Z",
          "start_time": "2021-12-17T06:32:19.055692Z"
        },
        "id": "5xTEfN1YYP4K"
      },
      "outputs": [],
      "source": [
        "def get_token_length_per_doc(docs: List[List[str]])-> int:\n",
        "    return list(map(lambda x: len(x.split()), docs))\n",
        "\n",
        "length = get_token_length_per_doc(data['text'])"
      ]
    },
    {
      "cell_type": "markdown",
      "metadata": {
        "id": "GfBit5vrYP4K"
      },
      "source": [
        "- There are about 40000 different tokens in the text column and the maximum length for text is about 5000.\n",
        "- On this graph, we can see most text are shorter than 1000 words. Therefore, we decided to first try max_sequence = 1000 in modeling."
      ]
    },
    {
      "cell_type": "code",
      "execution_count": null,
      "metadata": {
        "ExecuteTime": {
          "end_time": "2021-12-17T06:32:28.032880Z",
          "start_time": "2021-12-17T06:32:27.117092Z"
        },
        "id": "-r_irSx1EMVe",
        "outputId": "7bc86714-5a7c-40be-e5f2-eacb58897710"
      },
      "outputs": [
        {
          "data": {
            "image/png": "[encoded data removed]",
            "text/plain": [
              "<Figure size 1080x432 with 1 Axes>"
            ]
          },
          "metadata": {
            "needs_background": "light"
          },
          "output_type": "display_data"
        }
      ],
      "source": [
        "plt.hist(length, bins=500)\n",
        "plt.show()"
      ]
    },
    {
      "cell_type": "markdown",
      "metadata": {
        "id": "QfxCH8oAYP4K"
      },
      "source": [
        "##### Attempt 1: num_words = 10000, max_sequence_length = 1000\n",
        "- Best model is LSTM(epoch=7). \n",
        "- We get test accuracy rate = 0.968, cross validation accuracy rate = 0.973."
      ]
    },
    {
      "cell_type": "code",
      "execution_count": null,
      "metadata": {
        "ExecuteTime": {
          "end_time": "2021-12-17T06:37:05.045058Z",
          "start_time": "2021-12-17T06:37:03.243638Z"
        },
        "id": "pVlUWmh_EMXj"
      },
      "outputs": [],
      "source": [
        "from keras.preprocessing.text import Tokenizer\n",
        "tokenizer = Tokenizer(num_words=10000, oov_token=\"UNKNOWN_TOKEN\")\n",
        "tokenizer.fit_on_texts(data['text'])\n",
        "\n",
        "VOCAB_SIZE = int(len(tokenizer.word_index) * 1.1)\n",
        "MAX_SEQUENCE_LENGTH = 1000"
      ]
    },
    {
      "cell_type": "code",
      "execution_count": null,
      "metadata": {
        "ExecuteTime": {
          "end_time": "2021-12-17T06:37:07.545629Z",
          "start_time": "2021-12-17T06:37:06.115208Z"
        },
        "id": "A7wqZ4lWEMZ5"
      },
      "outputs": [],
      "source": [
        "# integer encode the documents\n",
        "encoded_docs = integer_encode_documents(data['text'], tokenizer)\n",
        "\n",
        "padded_docs = pad_sequences(encoded_docs, maxlen=MAX_SEQUENCE_LENGTH, padding='post')"
      ]
    },
    {
      "cell_type": "code",
      "execution_count": null,
      "metadata": {
        "ExecuteTime": {
          "end_time": "2021-12-17T06:37:07.625409Z",
          "start_time": "2021-12-17T06:37:07.548544Z"
        },
        "id": "0qzG0iZuYP4K"
      },
      "outputs": [],
      "source": [
        "# create a weight matrix for words in training docs\n",
        "embedding_matrix = zeros((VOCAB_SIZE, 100))\n",
        "for word, i in tokenizer.word_index.items():\n",
        "    embedding_vector = embeddings_index.get(word)\n",
        "    if embedding_vector is not None: # check that it is an actual word that we have embeddings for\n",
        "        embedding_matrix[i] = embedding_vector"
      ]
    },
    {
      "cell_type": "code",
      "execution_count": null,
      "metadata": {
        "ExecuteTime": {
          "end_time": "2021-12-17T06:37:08.019019Z",
          "start_time": "2021-12-17T06:37:07.992060Z"
        },
        "id": "41N4z6ohYP4K"
      },
      "outputs": [],
      "source": [
        "# define model\n",
        "\n",
        "def make_binary_classification_rnn_model(plot=False):\n",
        "    model = Sequential()\n",
        "    model.add(Embedding(VOCAB_SIZE, 100, weights=[embedding_matrix], input_length=MAX_SEQUENCE_LENGTH, trainable=False))\n",
        "    model.add(Masking(mask_value=0.0)) # masking layer, masks any words that don't have an embedding as 0s.\n",
        "    model.add(SimpleRNN(units=128, input_shape=(1, MAX_SEQUENCE_LENGTH)))\n",
        "    model.add(Dense(32))\n",
        "    model.add(Dense(2, activation='softmax'))\n",
        "    \n",
        "    # Compile the model\n",
        "    model.compile(\n",
        "    optimizer='adam', loss='sparse_categorical_crossentropy', metrics=['accuracy'])\n",
        "    # summarize the model\n",
        "    model.summary()\n",
        "    \n",
        "    if plot:\n",
        "        plot_model(model, to_file='model.png', show_shapes=True)\n",
        "    return model\n",
        "\n",
        "def make_lstm_classification_model(plot=False):\n",
        "    model = Sequential()\n",
        "    model.add(Embedding(VOCAB_SIZE, 100, weights=[embedding_matrix], input_length=MAX_SEQUENCE_LENGTH, trainable=False))\n",
        "    model.add(Masking(mask_value=0.0)) # masking layer, masks any words that don't have an embedding as 0s.\n",
        "    model.add(LSTM(units=64, input_shape=(1, MAX_SEQUENCE_LENGTH)))\n",
        "    model.add(Dense(16))\n",
        "    model.add(Dense(2, activation='softmax'))\n",
        "    \n",
        "    # Compile the model\n",
        "    model.compile(\n",
        "    optimizer='adam', loss='sparse_categorical_crossentropy', metrics=['accuracy'])\n",
        "    # summarize the model\n",
        "    model.summary()\n",
        "    \n",
        "    if plot:\n",
        "        plot_model(model, to_file='model.png', show_shapes=True)\n",
        "    return model"
      ]
    },
    {
      "cell_type": "code",
      "execution_count": null,
      "metadata": {
        "ExecuteTime": {
          "end_time": "2021-12-17T06:37:11.174617Z",
          "start_time": "2021-12-17T06:37:10.975153Z"
        },
        "id": "tOIKVhCoYP4L",
        "outputId": "da862d3c-310f-4155-8a59-86334161c17d"
      },
      "outputs": [
        {
          "name": "stdout",
          "output_type": "stream",
          "text": [
            "Model: \"sequential_3\"\n",
            "_________________________________________________________________\n",
            " Layer (type)                Output Shape              Param #   \n",
            "=================================================================\n",
            " embedding_3 (Embedding)     (None, 1000, 100)         4461900   \n",
            "                                                                 \n",
            " masking_3 (Masking)         (None, 1000, 100)         0         \n",
            "                                                                 \n",
            " simple_rnn_1 (SimpleRNN)    (None, 128)               29312     \n",
            "                                                                 \n",
            " dense_6 (Dense)             (None, 32)                4128      \n",
            "                                                                 \n",
            " dense_7 (Dense)             (None, 2)                 66        \n",
            "                                                                 \n",
            "=================================================================\n",
            "Total params: 4,495,406\n",
            "Trainable params: 33,506\n",
            "Non-trainable params: 4,461,900\n",
            "_________________________________________________________________\n"
          ]
        }
      ],
      "source": [
        "text_rnn_model = make_binary_classification_rnn_model()"
      ]
    },
    {
      "cell_type": "code",
      "execution_count": null,
      "metadata": {
        "ExecuteTime": {
          "end_time": "2021-12-17T06:37:14.471396Z",
          "start_time": "2021-12-17T06:37:14.448458Z"
        },
        "id": "EHfAX_XZYP4L"
      },
      "outputs": [],
      "source": [
        "X_train, X_test, y_train, y_test = train_test_split(padded_docs, labels, test_size=0.3, random_state=0)"
      ]
    },
    {
      "cell_type": "code",
      "execution_count": null,
      "metadata": {
        "ExecuteTime": {
          "end_time": "2021-12-17T06:47:55.666840Z",
          "start_time": "2021-12-17T06:37:19.754771Z"
        },
        "id": "ieVjbDLZYP4L",
        "outputId": "8d3ced66-8270-4330-9a34-268408cebc67"
      },
      "outputs": [
        {
          "name": "stdout",
          "output_type": "stream",
          "text": [
            "Epoch 1/10\n",
            "138/138 [==============================] - 65s 462ms/step - loss: 0.3608 - accuracy: 0.8491 - val_loss: 0.3831 - val_accuracy: 0.8431\n",
            "Epoch 2/10\n",
            "138/138 [==============================] - 62s 453ms/step - loss: 0.2521 - accuracy: 0.9054 - val_loss: 0.2093 - val_accuracy: 0.9210\n",
            "Epoch 3/10\n",
            "138/138 [==============================] - 64s 461ms/step - loss: 0.1737 - accuracy: 0.9384 - val_loss: 0.2401 - val_accuracy: 0.9024\n",
            "Epoch 4/10\n",
            "138/138 [==============================] - 65s 469ms/step - loss: 0.1738 - accuracy: 0.9379 - val_loss: 0.2195 - val_accuracy: 0.9130\n",
            "Epoch 5/10\n",
            "138/138 [==============================] - 64s 467ms/step - loss: 0.1554 - accuracy: 0.9418 - val_loss: 0.2721 - val_accuracy: 0.9019\n",
            "Epoch 6/10\n",
            "138/138 [==============================] - 63s 458ms/step - loss: 0.1642 - accuracy: 0.9350 - val_loss: 0.4936 - val_accuracy: 0.8372\n",
            "Epoch 7/10\n",
            "138/138 [==============================] - 63s 454ms/step - loss: 0.3330 - accuracy: 0.8588 - val_loss: 0.3613 - val_accuracy: 0.8478\n",
            "Epoch 8/10\n",
            "138/138 [==============================] - 66s 480ms/step - loss: 0.2709 - accuracy: 0.8891 - val_loss: 0.3070 - val_accuracy: 0.8733\n",
            "Epoch 9/10\n",
            "138/138 [==============================] - 61s 445ms/step - loss: 0.2309 - accuracy: 0.9116 - val_loss: 0.2937 - val_accuracy: 0.8881\n",
            "Epoch 10/10\n",
            "138/138 [==============================] - 63s 457ms/step - loss: 0.1979 - accuracy: 0.9225 - val_loss: 0.2732 - val_accuracy: 0.8871\n"
          ]
        },
        {
          "data": {
            "text/plain": [
              "<keras.callbacks.History at 0x2af3e6cefd0>"
            ]
          },
          "execution_count": 94,
          "metadata": {},
          "output_type": "execute_result"
        }
      ],
      "source": [
        "text_rnn_model.fit(X_train, y_train, validation_split=0.3, epochs=10)"
      ]
    },
    {
      "cell_type": "code",
      "execution_count": null,
      "metadata": {
        "ExecuteTime": {
          "end_time": "2021-12-17T07:18:01.328450Z",
          "start_time": "2021-12-17T06:48:43.792407Z"
        },
        "id": "ESYICMayYP4M",
        "outputId": "c00f45dc-4737-40da-ad9b-5d4021e5677b"
      },
      "outputs": [
        {
          "name": "stdout",
          "output_type": "stream",
          "text": [
            "Model: \"sequential_6\"\n",
            "_________________________________________________________________\n",
            " Layer (type)                Output Shape              Param #   \n",
            "=================================================================\n",
            " embedding_6 (Embedding)     (None, 1000, 100)         4461900   \n",
            "                                                                 \n",
            " masking_6 (Masking)         (None, 1000, 100)         0         \n",
            "                                                                 \n",
            " lstm_4 (LSTM)               (None, 64)                42240     \n",
            "                                                                 \n",
            " dense_12 (Dense)            (None, 16)                1040      \n",
            "                                                                 \n",
            " dense_13 (Dense)            (None, 2)                 34        \n",
            "                                                                 \n",
            "=================================================================\n",
            "Total params: 4,505,214\n",
            "Trainable params: 43,314\n",
            "Non-trainable params: 4,461,900\n",
            "_________________________________________________________________\n",
            "Epoch 1/7\n",
            "138/138 [==============================] - 248s 2s/step - loss: 0.2945 - accuracy: 0.8788 - val_loss: 0.1962 - val_accuracy: 0.9305\n",
            "Epoch 2/7\n",
            "138/138 [==============================] - 272s 2s/step - loss: 0.2073 - accuracy: 0.9200 - val_loss: 0.1784 - val_accuracy: 0.9258\n",
            "Epoch 3/7\n",
            "138/138 [==============================] - 247s 2s/step - loss: 0.1847 - accuracy: 0.9268 - val_loss: 0.1940 - val_accuracy: 0.9268\n",
            "Epoch 4/7\n",
            "138/138 [==============================] - 249s 2s/step - loss: 0.1952 - accuracy: 0.9304 - val_loss: 0.1496 - val_accuracy: 0.9464\n",
            "Epoch 5/7\n",
            "138/138 [==============================] - 246s 2s/step - loss: 0.1754 - accuracy: 0.9323 - val_loss: 0.1767 - val_accuracy: 0.9385\n",
            "Epoch 6/7\n",
            "138/138 [==============================] - 247s 2s/step - loss: 0.1348 - accuracy: 0.9500 - val_loss: 0.1363 - val_accuracy: 0.9438\n",
            "Epoch 7/7\n",
            "138/138 [==============================] - 249s 2s/step - loss: 0.0799 - accuracy: 0.9752 - val_loss: 0.0949 - val_accuracy: 0.9730\n"
          ]
        },
        {
          "data": {
            "text/plain": [
              "<keras.callbacks.History at 0x2af487e33a0>"
            ]
          },
          "execution_count": 97,
          "metadata": {},
          "output_type": "execute_result"
        }
      ],
      "source": [
        "# we first run the cell by setting epoch = 10, but we saw overfitting issue.\n",
        "# we now set epoch = 7 because when epoch = 7 it gives us the highest cross validation accuracy.\n",
        "text_lstm_model = make_lstm_classification_model()\n",
        "text_lstm_model.fit(X_train, y_train, validation_split=0.3, epochs=7)"
      ]
    },
    {
      "cell_type": "code",
      "execution_count": null,
      "metadata": {
        "ExecuteTime": {
          "end_time": "2021-12-17T07:18:28.452705Z",
          "start_time": "2021-12-17T07:18:08.059224Z"
        },
        "id": "WLRQHy8eYP4M",
        "outputId": "0e3b24ed-93d1-4225-93c3-687b926c9688"
      },
      "outputs": [
        {
          "name": "stdout",
          "output_type": "stream",
          "text": [
            "85/85 [==============================] - 20s 240ms/step - loss: 0.0973 - accuracy: 0.9681\n",
            "Accuracy: 96.807718\n"
          ]
        }
      ],
      "source": [
        "# evaluate the model\n",
        "loss, accuracy = text_lstm_model.evaluate(X_test, y_test, verbose=1)\n",
        "print('Accuracy: %f' % (accuracy*100))"
      ]
    },
    {
      "cell_type": "markdown",
      "metadata": {
        "id": "w40PQODrYP4M"
      },
      "source": [
        "##### Attempt 2: num_words = 10000, max_sequence_length = 300\n",
        "- Best model is LSTM(epoch=10). \n",
        "- We get test accuracy rate = 0.972, cross validation accuracy rate = 0.969."
      ]
    },
    {
      "cell_type": "code",
      "execution_count": null,
      "metadata": {
        "ExecuteTime": {
          "end_time": "2021-12-17T07:18:37.279156Z",
          "start_time": "2021-12-17T07:18:33.636407Z"
        },
        "id": "Q5LMY321YP4M"
      },
      "outputs": [],
      "source": [
        "from keras.preprocessing.text import Tokenizer\n",
        "tokenizer = Tokenizer(num_words=10000, oov_token=\"UNKNOWN_TOKEN\")\n",
        "tokenizer.fit_on_texts(data['text'])\n",
        "\n",
        "VOCAB_SIZE = int(len(tokenizer.word_index) * 1.1)\n",
        "MAX_SEQUENCE_LENGTH = 300\n",
        "\n",
        "# integer encode the documents\n",
        "encoded_docs = integer_encode_documents(data['text'], tokenizer)\n",
        "\n",
        "padded_docs = pad_sequences(encoded_docs, maxlen=MAX_SEQUENCE_LENGTH, padding='post')\n",
        "\n",
        "# create a weight matrix for words in training docs\n",
        "embedding_matrix = zeros((VOCAB_SIZE, 100))\n",
        "for word, i in tokenizer.word_index.items():\n",
        "    embedding_vector = embeddings_index.get(word)\n",
        "    if embedding_vector is not None: # check that it is an actual word that we have embeddings for\n",
        "        embedding_matrix[i] = embedding_vector\n",
        "        \n",
        "X_train, X_test, y_train, y_test = train_test_split(padded_docs, labels, test_size=0.3, random_state=0)"
      ]
    },
    {
      "cell_type": "code",
      "execution_count": null,
      "metadata": {
        "ExecuteTime": {
          "end_time": "2021-12-17T07:26:56.494278Z",
          "start_time": "2021-12-17T07:18:37.281146Z"
        },
        "id": "BDoueEG-YP4M",
        "outputId": "1fa38138-3476-48fe-8210-46e99c7c0a97"
      },
      "outputs": [
        {
          "name": "stdout",
          "output_type": "stream",
          "text": [
            "Model: \"sequential_7\"\n",
            "_________________________________________________________________\n",
            " Layer (type)                Output Shape              Param #   \n",
            "=================================================================\n",
            " embedding_7 (Embedding)     (None, 300, 100)          4461900   \n",
            "                                                                 \n",
            " masking_7 (Masking)         (None, 300, 100)          0         \n",
            "                                                                 \n",
            " lstm_5 (LSTM)               (None, 64)                42240     \n",
            "                                                                 \n",
            " dense_14 (Dense)            (None, 16)                1040      \n",
            "                                                                 \n",
            " dense_15 (Dense)            (None, 2)                 34        \n",
            "                                                                 \n",
            "=================================================================\n",
            "Total params: 4,505,214\n",
            "Trainable params: 43,314\n",
            "Non-trainable params: 4,461,900\n",
            "_________________________________________________________________\n",
            "Epoch 1/10\n",
            "138/138 [==============================] - 58s 399ms/step - loss: 0.2763 - accuracy: 0.8982 - val_loss: 0.1881 - val_accuracy: 0.9369\n",
            "Epoch 2/10\n",
            "138/138 [==============================] - 50s 362ms/step - loss: 0.2358 - accuracy: 0.9068 - val_loss: 0.2774 - val_accuracy: 0.8849\n",
            "Epoch 3/10\n",
            "138/138 [==============================] - 52s 378ms/step - loss: 0.1956 - accuracy: 0.9284 - val_loss: 0.1689 - val_accuracy: 0.9332\n",
            "Epoch 4/10\n",
            "138/138 [==============================] - 52s 379ms/step - loss: 0.1907 - accuracy: 0.9309 - val_loss: 0.1874 - val_accuracy: 0.9279\n",
            "Epoch 5/10\n",
            "138/138 [==============================] - 48s 345ms/step - loss: 0.1517 - accuracy: 0.9450 - val_loss: 0.1954 - val_accuracy: 0.9321\n",
            "Epoch 6/10\n",
            "138/138 [==============================] - 48s 347ms/step - loss: 0.1317 - accuracy: 0.9559 - val_loss: 0.1459 - val_accuracy: 0.9470\n",
            "Epoch 7/10\n",
            "138/138 [==============================] - 48s 346ms/step - loss: 0.1124 - accuracy: 0.9614 - val_loss: 0.1608 - val_accuracy: 0.9390\n",
            "Epoch 8/10\n",
            "138/138 [==============================] - 48s 345ms/step - loss: 0.0903 - accuracy: 0.9684 - val_loss: 0.1150 - val_accuracy: 0.9581\n",
            "Epoch 9/10\n",
            "138/138 [==============================] - 47s 344ms/step - loss: 0.0740 - accuracy: 0.9752 - val_loss: 0.1371 - val_accuracy: 0.9576\n",
            "Epoch 10/10\n",
            "138/138 [==============================] - 48s 346ms/step - loss: 0.0576 - accuracy: 0.9839 - val_loss: 0.0947 - val_accuracy: 0.9692\n"
          ]
        },
        {
          "data": {
            "text/plain": [
              "<keras.callbacks.History at 0x2af3ae36a60>"
            ]
          },
          "execution_count": 100,
          "metadata": {},
          "output_type": "execute_result"
        }
      ],
      "source": [
        "text_lstm_model2 = make_lstm_classification_model()\n",
        "text_lstm_model2.fit(X_train, y_train, validation_split=0.3, epochs=10)"
      ]
    },
    {
      "cell_type": "code",
      "execution_count": null,
      "metadata": {
        "ExecuteTime": {
          "end_time": "2021-12-17T07:27:06.056179Z",
          "start_time": "2021-12-17T07:27:00.281618Z"
        },
        "id": "HwKPN40bYP4N",
        "outputId": "1a4d91a5-b897-4a2a-ef9c-ad573d0e0722"
      },
      "outputs": [
        {
          "name": "stdout",
          "output_type": "stream",
          "text": [
            "85/85 [==============================] - 6s 67ms/step - loss: 0.0893 - accuracy: 0.9722\n",
            "Accuracy: 97.216034\n"
          ]
        }
      ],
      "source": [
        "# evaluate the model\n",
        "loss, accuracy = text_lstm_model2.evaluate(X_test, y_test, verbose=1)\n",
        "print('Accuracy: %f' % (accuracy*100))"
      ]
    },
    {
      "cell_type": "markdown",
      "metadata": {
        "id": "LfrLLANEYP4N"
      },
      "source": [
        "##### Attempt 3: num_words = 20000, max_sequence_length = 300\n",
        "- Best model is LSTM(epoch=10).\n",
        "- We get test accuracy rate = 0.974, cross validation accuracy rate = 0.971."
      ]
    },
    {
      "cell_type": "code",
      "execution_count": null,
      "metadata": {
        "ExecuteTime": {
          "end_time": "2021-12-17T07:36:31.655152Z",
          "start_time": "2021-12-17T07:27:31.161050Z"
        },
        "id": "xNS_wtJ7YP4N",
        "outputId": "2845f1a0-d79c-4b83-aec0-9b3fb4e5419c"
      },
      "outputs": [
        {
          "name": "stdout",
          "output_type": "stream",
          "text": [
            "Model: \"sequential_8\"\n",
            "_________________________________________________________________\n",
            " Layer (type)                Output Shape              Param #   \n",
            "=================================================================\n",
            " embedding_8 (Embedding)     (None, 300, 100)          4461900   \n",
            "                                                                 \n",
            " masking_8 (Masking)         (None, 300, 100)          0         \n",
            "                                                                 \n",
            " lstm_6 (LSTM)               (None, 64)                42240     \n",
            "                                                                 \n",
            " dense_16 (Dense)            (None, 16)                1040      \n",
            "                                                                 \n",
            " dense_17 (Dense)            (None, 2)                 34        \n",
            "                                                                 \n",
            "=================================================================\n",
            "Total params: 4,505,214\n",
            "Trainable params: 43,314\n",
            "Non-trainable params: 4,461,900\n",
            "_________________________________________________________________\n",
            "Epoch 1/10\n",
            "138/138 [==============================] - 59s 407ms/step - loss: 0.2922 - accuracy: 0.8807 - val_loss: 0.2179 - val_accuracy: 0.9178\n",
            "Epoch 2/10\n",
            "138/138 [==============================] - 53s 381ms/step - loss: 0.2023 - accuracy: 0.9286 - val_loss: 0.1845 - val_accuracy: 0.9337\n",
            "Epoch 3/10\n",
            "138/138 [==============================] - 53s 381ms/step - loss: 0.1573 - accuracy: 0.9427 - val_loss: 0.1535 - val_accuracy: 0.9507\n",
            "Epoch 4/10\n",
            "138/138 [==============================] - 53s 382ms/step - loss: 0.1307 - accuracy: 0.9520 - val_loss: 0.1656 - val_accuracy: 0.9380\n",
            "Epoch 5/10\n",
            "138/138 [==============================] - 53s 381ms/step - loss: 0.2574 - accuracy: 0.8957 - val_loss: 0.2099 - val_accuracy: 0.9083\n",
            "Epoch 6/10\n",
            "138/138 [==============================] - 54s 391ms/step - loss: 0.1528 - accuracy: 0.9450 - val_loss: 0.1224 - val_accuracy: 0.9602\n",
            "Epoch 7/10\n",
            "138/138 [==============================] - 54s 394ms/step - loss: 0.1149 - accuracy: 0.9614 - val_loss: 0.1116 - val_accuracy: 0.9639\n",
            "Epoch 8/10\n",
            "138/138 [==============================] - 53s 382ms/step - loss: 0.0756 - accuracy: 0.9752 - val_loss: 0.0818 - val_accuracy: 0.9692\n",
            "Epoch 9/10\n",
            "138/138 [==============================] - 53s 384ms/step - loss: 0.0557 - accuracy: 0.9825 - val_loss: 0.0794 - val_accuracy: 0.9751\n",
            "Epoch 10/10\n",
            "138/138 [==============================] - 53s 385ms/step - loss: 0.0434 - accuracy: 0.9873 - val_loss: 0.0811 - val_accuracy: 0.9740\n"
          ]
        },
        {
          "data": {
            "text/plain": [
              "<keras.callbacks.History at 0x2af3e8688e0>"
            ]
          },
          "execution_count": 102,
          "metadata": {},
          "output_type": "execute_result"
        }
      ],
      "source": [
        "tokenizer = Tokenizer(num_words=20000, oov_token=\"UNKNOWN_TOKEN\")\n",
        "tokenizer.fit_on_texts(data['text'])\n",
        "\n",
        "VOCAB_SIZE = int(len(tokenizer.word_index) * 1.1)\n",
        "MAX_SEQUENCE_LENGTH = 300\n",
        "\n",
        "# integer encode the documents\n",
        "encoded_docs = integer_encode_documents(data['text'], tokenizer)\n",
        "\n",
        "padded_docs = pad_sequences(encoded_docs, maxlen=MAX_SEQUENCE_LENGTH, padding='post')\n",
        "\n",
        "# create a weight matrix for words in training docs\n",
        "embedding_matrix = zeros((VOCAB_SIZE, 100))\n",
        "for word, i in tokenizer.word_index.items():\n",
        "    embedding_vector = embeddings_index.get(word)\n",
        "    if embedding_vector is not None: # check that it is an actual word that we have embeddings for\n",
        "        embedding_matrix[i] = embedding_vector\n",
        "        \n",
        "X_train, X_test, y_train, y_test = train_test_split(padded_docs, labels, test_size=0.3, random_state=0)\n",
        "\n",
        "text_lstm_model3 = make_lstm_classification_model()\n",
        "text_lstm_model3.fit(X_train, y_train, validation_split=0.3, epochs=10)"
      ]
    },
    {
      "cell_type": "code",
      "execution_count": null,
      "metadata": {
        "ExecuteTime": {
          "end_time": "2021-12-17T07:44:35.722277Z",
          "start_time": "2021-12-17T07:44:35.697297Z"
        },
        "id": "oY-_NSoPYP4O"
      },
      "outputs": [],
      "source": [
        "history = pd.DataFrame()\n",
        "history['loss'] = [0.2922, 0.2023, 0.1573, 0.1307, 0.2574, 0.1528, 0.1149, 0.0756, 0.0557, 0.0434]\n",
        "history['accuracy'] = [0.8807, 0.9286, 0.9427, 0.9520, 0.8957, 0.9450, 0.9614, 0.9752, 0.9825, 0.9873]\n",
        "history['val_loss'] = [0.2179, 0.1845, 0.1535, 0.1656, 0.2099, 0.1224, 0.1116, 0.0818, 0.0794, 0.0811]\n",
        "history['val_accuracy'] = [0.9178, 0.9337, 0.9507, 0.9380, 0.9083, 0.9602, 0.9639, 0.9692, 0.9751, 0.9740]"
      ]
    },
    {
      "cell_type": "code",
      "execution_count": null,
      "metadata": {
        "ExecuteTime": {
          "end_time": "2021-12-17T07:44:43.308930Z",
          "start_time": "2021-12-17T07:44:38.952612Z"
        },
        "id": "NmQXlXj1YP4O",
        "outputId": "39ea0006-e178-41dd-f928-a4f455a09f76"
      },
      "outputs": [
        {
          "name": "stdout",
          "output_type": "stream",
          "text": [
            "85/85 [==============================] - 4s 50ms/step - loss: 0.0870 - accuracy: 0.9714\n",
            "Accuracy: 97.141796\n"
          ]
        }
      ],
      "source": [
        "# evaluate the model\n",
        "loss, accuracy = text_lstm_model3.evaluate(X_test, y_test, verbose=1)\n",
        "print('Accuracy: %f' % (accuracy*100))"
      ]
    },
    {
      "cell_type": "markdown",
      "metadata": {
        "id": "uHps12oNYP4O"
      },
      "source": [
        "- This model with num_words = 20000, max_sequence_length = 300, epoch = 10 gives us the best result.\n",
        "- We decided pick this one as our final model."
      ]
    },
    {
      "cell_type": "code",
      "execution_count": null,
      "metadata": {
        "ExecuteTime": {
          "end_time": "2021-12-17T07:44:56.145910Z",
          "start_time": "2021-12-17T07:44:55.777901Z"
        },
        "id": "qCE8XWBuYP4O",
        "outputId": "38bc654f-cd1e-4ad0-aee1-055407eb6d8a"
      },
      "outputs": [
        {
          "data": {
            "image/png": "[encoded data removed]",
            "text/plain": [
              "<Figure size 1440x720 with 2 Axes>"
            ]
          },
          "metadata": {
            "needs_background": "light"
          },
          "output_type": "display_data"
        }
      ],
      "source": [
        "epochs = [i for i in range(10)]\n",
        "fig , ax = plt.subplots(1,2)\n",
        "train_acc = history['accuracy']\n",
        "train_loss = history['loss']\n",
        "val_acc = history['val_accuracy']\n",
        "val_loss = history['val_loss']\n",
        "fig.set_size_inches(20,10)\n",
        "\n",
        "ax[0].plot(epochs , train_acc , 'go-' , label = 'Training Accuracy')\n",
        "ax[0].plot(epochs , val_acc , 'ro-' , label = 'Testing Accuracy')\n",
        "ax[0].set_title('Training & Testing Accuracy')\n",
        "ax[0].legend()\n",
        "ax[0].set_xlabel(\"Epochs\")\n",
        "ax[0].set_ylabel(\"Accuracy\")\n",
        "\n",
        "ax[1].plot(epochs , train_loss , 'go-' , label = 'Training Loss')\n",
        "ax[1].plot(epochs , val_loss , 'ro-' , label = 'Testing Loss')\n",
        "ax[1].set_title('Training & Testing Loss')\n",
        "ax[1].legend()\n",
        "ax[1].set_xlabel(\"Epochs\")\n",
        "ax[1].set_ylabel(\"Loss\")\n",
        "plt.show()"
      ]
    },
    {
      "cell_type": "markdown",
      "metadata": {
        "id": "RlzI1FPzEN4_"
      },
      "source": [
        "## Topic Modelling:"
      ]
    },
    {
      "cell_type": "markdown",
      "source": [
        "#### We first calculated the topics of all the fake and true news. Then, we got the topics of fake news and true news respectively. We finally compared the difference between topics of fake and true news."
      ],
      "metadata": {
        "id": "SZodpysHfQJk"
      }
    },
    {
      "cell_type": "markdown",
      "source": [
        "### Topics of all news:\n",
        "#### Step 1: Vectorize The Corpus"
      ],
      "metadata": {
        "id": "2y2CMlkVfT7c"
      }
    },
    {
      "cell_type": "code",
      "execution_count": 60,
      "metadata": {
        "id": "v1G5-4naEMb_",
        "colab": {
          "base_uri": "https://localhost:8080/",
          "height": 334
        },
        "outputId": "a702141c-4de8-40f4-de20-3e6a35060aab"
      },
      "outputs": [
        {
          "output_type": "stream",
          "name": "stdout",
          "text": [
            "TF-IDF: (8979, 1000)\n"
          ]
        },
        {
          "output_type": "execute_result",
          "data": {
            "text/html": [
              "\n",
              "  <div id=\"df-96869311-be0a-4bb2-ac10-e56e2e0c0383\">\n",
              "    <div class=\"colab-df-container\">\n",
              "      <div>\n",
              "<style scoped>\n",
              "    .dataframe tbody tr th:only-of-type {\n",
              "        vertical-align: middle;\n",
              "    }\n",
              "\n",
              "    .dataframe tbody tr th {\n",
              "        vertical-align: top;\n",
              "    }\n",
              "\n",
              "    .dataframe thead th {\n",
              "        text-align: right;\n",
              "    }\n",
              "</style>\n",
              "<table border=\"1\" class=\"dataframe\">\n",
              "  <thead>\n",
              "    <tr style=\"text-align: right;\">\n",
              "      <th></th>\n",
              "      <th>abc news</th>\n",
              "      <th>according new</th>\n",
              "      <th>according report</th>\n",
              "      <th>according reuters</th>\n",
              "      <th>according united</th>\n",
              "      <th>administration official</th>\n",
              "      <th>advocacy group</th>\n",
              "      <th>affordable care</th>\n",
              "      <th>african american</th>\n",
              "      <th>agency said</th>\n",
              "      <th>aide said</th>\n",
              "      <th>air force</th>\n",
              "      <th>air strike</th>\n",
              "      <th>alex wong</th>\n",
              "      <th>alleged russian</th>\n",
              "      <th>alt right</th>\n",
              "      <th>alternate current</th>\n",
              "      <th>ambassador united</th>\n",
              "      <th>america great</th>\n",
              "      <th>american citizen</th>\n",
              "      <th>american flag</th>\n",
              "      <th>american free</th>\n",
              "      <th>american history</th>\n",
              "      <th>american people</th>\n",
              "      <th>american voter</th>\n",
              "      <th>angela merkel</th>\n",
              "      <th>answer question</th>\n",
              "      <th>anti corruption</th>\n",
              "      <th>anti trump</th>\n",
              "      <th>antonin scalia</th>\n",
              "      <th>appeal court</th>\n",
              "      <th>approval rating</th>\n",
              "      <th>arab emirate</th>\n",
              "      <th>armed force</th>\n",
              "      <th>armed service</th>\n",
              "      <th>asia pacific</th>\n",
              "      <th>asked trump</th>\n",
              "      <th>associated press</th>\n",
              "      <th>asylum seeker</th>\n",
              "      <th>attack united</th>\n",
              "      <th>...</th>\n",
              "      <th>washington post</th>\n",
              "      <th>washington reuters</th>\n",
              "      <th>washington state</th>\n",
              "      <th>wasserman schultz</th>\n",
              "      <th>watch video</th>\n",
              "      <th>wednesday night</th>\n",
              "      <th>week ago</th>\n",
              "      <th>week trump</th>\n",
              "      <th>went say</th>\n",
              "      <th>west bank</th>\n",
              "      <th>white house</th>\n",
              "      <th>white nationalist</th>\n",
              "      <th>white people</th>\n",
              "      <th>white supremacist</th>\n",
              "      <th>win election</th>\n",
              "      <th>wire say</th>\n",
              "      <th>witch hunt</th>\n",
              "      <th>woman child</th>\n",
              "      <th>woman march</th>\n",
              "      <th>woman right</th>\n",
              "      <th>won election</th>\n",
              "      <th>wong getty</th>\n",
              "      <th>working class</th>\n",
              "      <th>world leader</th>\n",
              "      <th>world power</th>\n",
              "      <th>world war</th>\n",
              "      <th>year according</th>\n",
              "      <th>year ago</th>\n",
              "      <th>year later</th>\n",
              "      <th>year old</th>\n",
              "      <th>year prison</th>\n",
              "      <th>year said</th>\n",
              "      <th>year trump</th>\n",
              "      <th>year united</th>\n",
              "      <th>year year</th>\n",
              "      <th>york businessman</th>\n",
              "      <th>york city</th>\n",
              "      <th>york reuters</th>\n",
              "      <th>york time</th>\n",
              "      <th>young people</th>\n",
              "    </tr>\n",
              "  </thead>\n",
              "  <tbody>\n",
              "    <tr>\n",
              "      <th>0</th>\n",
              "      <td>0.0</td>\n",
              "      <td>0.0</td>\n",
              "      <td>0.0</td>\n",
              "      <td>0.0</td>\n",
              "      <td>0.0</td>\n",
              "      <td>0.000000</td>\n",
              "      <td>0.0</td>\n",
              "      <td>0.0</td>\n",
              "      <td>0.0</td>\n",
              "      <td>0.0</td>\n",
              "      <td>0.0</td>\n",
              "      <td>0.0</td>\n",
              "      <td>0.0</td>\n",
              "      <td>0.0</td>\n",
              "      <td>0.0</td>\n",
              "      <td>0.0</td>\n",
              "      <td>0.0</td>\n",
              "      <td>0.0</td>\n",
              "      <td>0.0</td>\n",
              "      <td>0.0</td>\n",
              "      <td>0.0</td>\n",
              "      <td>0.0</td>\n",
              "      <td>0.0</td>\n",
              "      <td>0.0</td>\n",
              "      <td>0.0</td>\n",
              "      <td>0.000000</td>\n",
              "      <td>0.0</td>\n",
              "      <td>0.0</td>\n",
              "      <td>0.0</td>\n",
              "      <td>0.0</td>\n",
              "      <td>0.0</td>\n",
              "      <td>0.0</td>\n",
              "      <td>0.0</td>\n",
              "      <td>0.0</td>\n",
              "      <td>0.0</td>\n",
              "      <td>0.0</td>\n",
              "      <td>0.0</td>\n",
              "      <td>0.000000</td>\n",
              "      <td>0.0</td>\n",
              "      <td>0.0</td>\n",
              "      <td>...</td>\n",
              "      <td>0.0</td>\n",
              "      <td>0.000000</td>\n",
              "      <td>0.0</td>\n",
              "      <td>0.0</td>\n",
              "      <td>0.0</td>\n",
              "      <td>0.0</td>\n",
              "      <td>0.0</td>\n",
              "      <td>0.0</td>\n",
              "      <td>0.0</td>\n",
              "      <td>0.0</td>\n",
              "      <td>0.000000</td>\n",
              "      <td>0.0</td>\n",
              "      <td>0.0</td>\n",
              "      <td>0.0</td>\n",
              "      <td>0.0</td>\n",
              "      <td>0.0</td>\n",
              "      <td>0.0</td>\n",
              "      <td>0.0</td>\n",
              "      <td>0.0</td>\n",
              "      <td>0.0</td>\n",
              "      <td>0.0</td>\n",
              "      <td>0.0</td>\n",
              "      <td>0.0</td>\n",
              "      <td>0.0</td>\n",
              "      <td>0.0</td>\n",
              "      <td>0.0</td>\n",
              "      <td>0.0</td>\n",
              "      <td>0.0</td>\n",
              "      <td>0.0</td>\n",
              "      <td>0.0</td>\n",
              "      <td>0.0</td>\n",
              "      <td>0.000000</td>\n",
              "      <td>0.0</td>\n",
              "      <td>0.0</td>\n",
              "      <td>0.0</td>\n",
              "      <td>0.0</td>\n",
              "      <td>0.0</td>\n",
              "      <td>0.000000</td>\n",
              "      <td>0.0</td>\n",
              "      <td>0.0</td>\n",
              "    </tr>\n",
              "    <tr>\n",
              "      <th>1</th>\n",
              "      <td>0.0</td>\n",
              "      <td>0.0</td>\n",
              "      <td>0.0</td>\n",
              "      <td>0.0</td>\n",
              "      <td>0.0</td>\n",
              "      <td>0.000000</td>\n",
              "      <td>0.0</td>\n",
              "      <td>0.0</td>\n",
              "      <td>0.0</td>\n",
              "      <td>0.0</td>\n",
              "      <td>0.0</td>\n",
              "      <td>0.0</td>\n",
              "      <td>0.0</td>\n",
              "      <td>0.0</td>\n",
              "      <td>0.0</td>\n",
              "      <td>0.0</td>\n",
              "      <td>0.0</td>\n",
              "      <td>0.0</td>\n",
              "      <td>0.0</td>\n",
              "      <td>0.0</td>\n",
              "      <td>0.0</td>\n",
              "      <td>0.0</td>\n",
              "      <td>0.0</td>\n",
              "      <td>0.0</td>\n",
              "      <td>0.0</td>\n",
              "      <td>0.154475</td>\n",
              "      <td>0.0</td>\n",
              "      <td>0.0</td>\n",
              "      <td>0.0</td>\n",
              "      <td>0.0</td>\n",
              "      <td>0.0</td>\n",
              "      <td>0.0</td>\n",
              "      <td>0.0</td>\n",
              "      <td>0.0</td>\n",
              "      <td>0.0</td>\n",
              "      <td>0.0</td>\n",
              "      <td>0.0</td>\n",
              "      <td>0.000000</td>\n",
              "      <td>0.0</td>\n",
              "      <td>0.0</td>\n",
              "      <td>...</td>\n",
              "      <td>0.0</td>\n",
              "      <td>0.000000</td>\n",
              "      <td>0.0</td>\n",
              "      <td>0.0</td>\n",
              "      <td>0.0</td>\n",
              "      <td>0.0</td>\n",
              "      <td>0.0</td>\n",
              "      <td>0.0</td>\n",
              "      <td>0.0</td>\n",
              "      <td>0.0</td>\n",
              "      <td>0.000000</td>\n",
              "      <td>0.0</td>\n",
              "      <td>0.0</td>\n",
              "      <td>0.0</td>\n",
              "      <td>0.0</td>\n",
              "      <td>0.0</td>\n",
              "      <td>0.0</td>\n",
              "      <td>0.0</td>\n",
              "      <td>0.0</td>\n",
              "      <td>0.0</td>\n",
              "      <td>0.0</td>\n",
              "      <td>0.0</td>\n",
              "      <td>0.0</td>\n",
              "      <td>0.0</td>\n",
              "      <td>0.0</td>\n",
              "      <td>0.0</td>\n",
              "      <td>0.0</td>\n",
              "      <td>0.0</td>\n",
              "      <td>0.0</td>\n",
              "      <td>0.0</td>\n",
              "      <td>0.0</td>\n",
              "      <td>0.178991</td>\n",
              "      <td>0.0</td>\n",
              "      <td>0.0</td>\n",
              "      <td>0.0</td>\n",
              "      <td>0.0</td>\n",
              "      <td>0.0</td>\n",
              "      <td>0.000000</td>\n",
              "      <td>0.0</td>\n",
              "      <td>0.0</td>\n",
              "    </tr>\n",
              "    <tr>\n",
              "      <th>2</th>\n",
              "      <td>0.0</td>\n",
              "      <td>0.0</td>\n",
              "      <td>0.0</td>\n",
              "      <td>0.0</td>\n",
              "      <td>0.0</td>\n",
              "      <td>0.358049</td>\n",
              "      <td>0.0</td>\n",
              "      <td>0.0</td>\n",
              "      <td>0.0</td>\n",
              "      <td>0.0</td>\n",
              "      <td>0.0</td>\n",
              "      <td>0.0</td>\n",
              "      <td>0.0</td>\n",
              "      <td>0.0</td>\n",
              "      <td>0.0</td>\n",
              "      <td>0.0</td>\n",
              "      <td>0.0</td>\n",
              "      <td>0.0</td>\n",
              "      <td>0.0</td>\n",
              "      <td>0.0</td>\n",
              "      <td>0.0</td>\n",
              "      <td>0.0</td>\n",
              "      <td>0.0</td>\n",
              "      <td>0.0</td>\n",
              "      <td>0.0</td>\n",
              "      <td>0.000000</td>\n",
              "      <td>0.0</td>\n",
              "      <td>0.0</td>\n",
              "      <td>0.0</td>\n",
              "      <td>0.0</td>\n",
              "      <td>0.0</td>\n",
              "      <td>0.0</td>\n",
              "      <td>0.0</td>\n",
              "      <td>0.0</td>\n",
              "      <td>0.0</td>\n",
              "      <td>0.0</td>\n",
              "      <td>0.0</td>\n",
              "      <td>0.206014</td>\n",
              "      <td>0.0</td>\n",
              "      <td>0.0</td>\n",
              "      <td>...</td>\n",
              "      <td>0.0</td>\n",
              "      <td>0.099884</td>\n",
              "      <td>0.0</td>\n",
              "      <td>0.0</td>\n",
              "      <td>0.0</td>\n",
              "      <td>0.0</td>\n",
              "      <td>0.0</td>\n",
              "      <td>0.0</td>\n",
              "      <td>0.0</td>\n",
              "      <td>0.0</td>\n",
              "      <td>0.185056</td>\n",
              "      <td>0.0</td>\n",
              "      <td>0.0</td>\n",
              "      <td>0.0</td>\n",
              "      <td>0.0</td>\n",
              "      <td>0.0</td>\n",
              "      <td>0.0</td>\n",
              "      <td>0.0</td>\n",
              "      <td>0.0</td>\n",
              "      <td>0.0</td>\n",
              "      <td>0.0</td>\n",
              "      <td>0.0</td>\n",
              "      <td>0.0</td>\n",
              "      <td>0.0</td>\n",
              "      <td>0.0</td>\n",
              "      <td>0.0</td>\n",
              "      <td>0.0</td>\n",
              "      <td>0.0</td>\n",
              "      <td>0.0</td>\n",
              "      <td>0.0</td>\n",
              "      <td>0.0</td>\n",
              "      <td>0.000000</td>\n",
              "      <td>0.0</td>\n",
              "      <td>0.0</td>\n",
              "      <td>0.0</td>\n",
              "      <td>0.0</td>\n",
              "      <td>0.0</td>\n",
              "      <td>0.000000</td>\n",
              "      <td>0.0</td>\n",
              "      <td>0.0</td>\n",
              "    </tr>\n",
              "    <tr>\n",
              "      <th>3</th>\n",
              "      <td>0.0</td>\n",
              "      <td>0.0</td>\n",
              "      <td>0.0</td>\n",
              "      <td>0.0</td>\n",
              "      <td>0.0</td>\n",
              "      <td>0.000000</td>\n",
              "      <td>0.0</td>\n",
              "      <td>0.0</td>\n",
              "      <td>0.0</td>\n",
              "      <td>0.0</td>\n",
              "      <td>0.0</td>\n",
              "      <td>0.0</td>\n",
              "      <td>0.0</td>\n",
              "      <td>0.0</td>\n",
              "      <td>0.0</td>\n",
              "      <td>0.0</td>\n",
              "      <td>0.0</td>\n",
              "      <td>0.0</td>\n",
              "      <td>0.0</td>\n",
              "      <td>0.0</td>\n",
              "      <td>0.0</td>\n",
              "      <td>0.0</td>\n",
              "      <td>0.0</td>\n",
              "      <td>0.0</td>\n",
              "      <td>0.0</td>\n",
              "      <td>0.000000</td>\n",
              "      <td>0.0</td>\n",
              "      <td>0.0</td>\n",
              "      <td>0.0</td>\n",
              "      <td>0.0</td>\n",
              "      <td>0.0</td>\n",
              "      <td>0.0</td>\n",
              "      <td>0.0</td>\n",
              "      <td>0.0</td>\n",
              "      <td>0.0</td>\n",
              "      <td>0.0</td>\n",
              "      <td>0.0</td>\n",
              "      <td>0.000000</td>\n",
              "      <td>0.0</td>\n",
              "      <td>0.0</td>\n",
              "      <td>...</td>\n",
              "      <td>0.0</td>\n",
              "      <td>0.225748</td>\n",
              "      <td>0.0</td>\n",
              "      <td>0.0</td>\n",
              "      <td>0.0</td>\n",
              "      <td>0.0</td>\n",
              "      <td>0.0</td>\n",
              "      <td>0.0</td>\n",
              "      <td>0.0</td>\n",
              "      <td>0.0</td>\n",
              "      <td>0.000000</td>\n",
              "      <td>0.0</td>\n",
              "      <td>0.0</td>\n",
              "      <td>0.0</td>\n",
              "      <td>0.0</td>\n",
              "      <td>0.0</td>\n",
              "      <td>0.0</td>\n",
              "      <td>0.0</td>\n",
              "      <td>0.0</td>\n",
              "      <td>0.0</td>\n",
              "      <td>0.0</td>\n",
              "      <td>0.0</td>\n",
              "      <td>0.0</td>\n",
              "      <td>0.0</td>\n",
              "      <td>0.0</td>\n",
              "      <td>0.0</td>\n",
              "      <td>0.0</td>\n",
              "      <td>0.0</td>\n",
              "      <td>0.0</td>\n",
              "      <td>0.0</td>\n",
              "      <td>0.0</td>\n",
              "      <td>0.000000</td>\n",
              "      <td>0.0</td>\n",
              "      <td>0.0</td>\n",
              "      <td>0.0</td>\n",
              "      <td>0.0</td>\n",
              "      <td>0.0</td>\n",
              "      <td>0.000000</td>\n",
              "      <td>0.0</td>\n",
              "      <td>0.0</td>\n",
              "    </tr>\n",
              "    <tr>\n",
              "      <th>4</th>\n",
              "      <td>0.0</td>\n",
              "      <td>0.0</td>\n",
              "      <td>0.0</td>\n",
              "      <td>0.0</td>\n",
              "      <td>0.0</td>\n",
              "      <td>0.000000</td>\n",
              "      <td>0.0</td>\n",
              "      <td>0.0</td>\n",
              "      <td>0.0</td>\n",
              "      <td>0.0</td>\n",
              "      <td>0.0</td>\n",
              "      <td>0.0</td>\n",
              "      <td>0.0</td>\n",
              "      <td>0.0</td>\n",
              "      <td>0.0</td>\n",
              "      <td>0.0</td>\n",
              "      <td>0.0</td>\n",
              "      <td>0.0</td>\n",
              "      <td>0.0</td>\n",
              "      <td>0.0</td>\n",
              "      <td>0.0</td>\n",
              "      <td>0.0</td>\n",
              "      <td>0.0</td>\n",
              "      <td>0.0</td>\n",
              "      <td>0.0</td>\n",
              "      <td>0.000000</td>\n",
              "      <td>0.0</td>\n",
              "      <td>0.0</td>\n",
              "      <td>0.0</td>\n",
              "      <td>0.0</td>\n",
              "      <td>0.0</td>\n",
              "      <td>0.0</td>\n",
              "      <td>0.0</td>\n",
              "      <td>0.0</td>\n",
              "      <td>0.0</td>\n",
              "      <td>0.0</td>\n",
              "      <td>0.0</td>\n",
              "      <td>0.000000</td>\n",
              "      <td>0.0</td>\n",
              "      <td>0.0</td>\n",
              "      <td>...</td>\n",
              "      <td>0.0</td>\n",
              "      <td>0.000000</td>\n",
              "      <td>0.0</td>\n",
              "      <td>0.0</td>\n",
              "      <td>0.0</td>\n",
              "      <td>0.0</td>\n",
              "      <td>0.0</td>\n",
              "      <td>0.0</td>\n",
              "      <td>0.0</td>\n",
              "      <td>0.0</td>\n",
              "      <td>0.000000</td>\n",
              "      <td>0.0</td>\n",
              "      <td>0.0</td>\n",
              "      <td>0.0</td>\n",
              "      <td>0.0</td>\n",
              "      <td>0.0</td>\n",
              "      <td>0.0</td>\n",
              "      <td>0.0</td>\n",
              "      <td>0.0</td>\n",
              "      <td>0.0</td>\n",
              "      <td>0.0</td>\n",
              "      <td>0.0</td>\n",
              "      <td>0.0</td>\n",
              "      <td>0.0</td>\n",
              "      <td>0.0</td>\n",
              "      <td>0.0</td>\n",
              "      <td>0.0</td>\n",
              "      <td>0.0</td>\n",
              "      <td>0.0</td>\n",
              "      <td>0.0</td>\n",
              "      <td>0.0</td>\n",
              "      <td>0.000000</td>\n",
              "      <td>0.0</td>\n",
              "      <td>0.0</td>\n",
              "      <td>0.0</td>\n",
              "      <td>0.0</td>\n",
              "      <td>0.0</td>\n",
              "      <td>0.485193</td>\n",
              "      <td>0.0</td>\n",
              "      <td>0.0</td>\n",
              "    </tr>\n",
              "  </tbody>\n",
              "</table>\n",
              "<p>5 rows × 1000 columns</p>\n",
              "</div>\n",
              "      <button class=\"colab-df-convert\" onclick=\"convertToInteractive('df-96869311-be0a-4bb2-ac10-e56e2e0c0383')\"\n",
              "              title=\"Convert this dataframe to an interactive table.\"\n",
              "              style=\"display:none;\">\n",
              "        \n",
              "  <svg xmlns=\"http://www.w3.org/2000/svg\" height=\"24px\"viewBox=\"0 0 24 24\"\n",
              "       width=\"24px\">\n",
              "    <path d=\"M0 0h24v24H0V0z\" fill=\"none\"/>\n",
              "    <path d=\"M18.56 5.44l.94 2.06.94-2.06 2.06-.94-2.06-.94-.94-2.06-.94 2.06-2.06.94zm-11 1L8.5 8.5l.94-2.06 2.06-.94-2.06-.94L8.5 2.5l-.94 2.06-2.06.94zm10 10l.94 2.06.94-2.06 2.06-.94-2.06-.94-.94-2.06-.94 2.06-2.06.94z\"/><path d=\"M17.41 7.96l-1.37-1.37c-.4-.4-.92-.59-1.43-.59-.52 0-1.04.2-1.43.59L10.3 9.45l-7.72 7.72c-.78.78-.78 2.05 0 2.83L4 21.41c.39.39.9.59 1.41.59.51 0 1.02-.2 1.41-.59l7.78-7.78 2.81-2.81c.8-.78.8-2.07 0-2.86zM5.41 20L4 18.59l7.72-7.72 1.47 1.35L5.41 20z\"/>\n",
              "  </svg>\n",
              "      </button>\n",
              "      \n",
              "  <style>\n",
              "    .colab-df-container {\n",
              "      display:flex;\n",
              "      flex-wrap:wrap;\n",
              "      gap: 12px;\n",
              "    }\n",
              "\n",
              "    .colab-df-convert {\n",
              "      background-color: #E8F0FE;\n",
              "      border: none;\n",
              "      border-radius: 50%;\n",
              "      cursor: pointer;\n",
              "      display: none;\n",
              "      fill: #1967D2;\n",
              "      height: 32px;\n",
              "      padding: 0 0 0 0;\n",
              "      width: 32px;\n",
              "    }\n",
              "\n",
              "    .colab-df-convert:hover {\n",
              "      background-color: #E2EBFA;\n",
              "      box-shadow: 0px 1px 2px rgba(60, 64, 67, 0.3), 0px 1px 3px 1px rgba(60, 64, 67, 0.15);\n",
              "      fill: #174EA6;\n",
              "    }\n",
              "\n",
              "    [theme=dark] .colab-df-convert {\n",
              "      background-color: #3B4455;\n",
              "      fill: #D2E3FC;\n",
              "    }\n",
              "\n",
              "    [theme=dark] .colab-df-convert:hover {\n",
              "      background-color: #434B5C;\n",
              "      box-shadow: 0px 1px 3px 1px rgba(0, 0, 0, 0.15);\n",
              "      filter: drop-shadow(0px 1px 2px rgba(0, 0, 0, 0.3));\n",
              "      fill: #FFFFFF;\n",
              "    }\n",
              "  </style>\n",
              "\n",
              "      <script>\n",
              "        const buttonEl =\n",
              "          document.querySelector('#df-96869311-be0a-4bb2-ac10-e56e2e0c0383 button.colab-df-convert');\n",
              "        buttonEl.style.display =\n",
              "          google.colab.kernel.accessAllowed ? 'block' : 'none';\n",
              "\n",
              "        async function convertToInteractive(key) {\n",
              "          const element = document.querySelector('#df-96869311-be0a-4bb2-ac10-e56e2e0c0383');\n",
              "          const dataTable =\n",
              "            await google.colab.kernel.invokeFunction('convertToInteractive',\n",
              "                                                     [key], {});\n",
              "          if (!dataTable) return;\n",
              "\n",
              "          const docLinkHtml = 'Like what you see? Visit the ' +\n",
              "            '<a target=\"_blank\" href=https://colab.research.google.com/notebooks/data_table.ipynb>data table notebook</a>'\n",
              "            + ' to learn more about interactive tables.';\n",
              "          element.innerHTML = '';\n",
              "          dataTable['output_type'] = 'display_data';\n",
              "          await google.colab.output.renderOutput(dataTable, element);\n",
              "          const docLink = document.createElement('div');\n",
              "          docLink.innerHTML = docLinkHtml;\n",
              "          element.appendChild(docLink);\n",
              "        }\n",
              "      </script>\n",
              "    </div>\n",
              "  </div>\n",
              "  "
            ],
            "text/plain": [
              "   abc news  according new  ...  york time  young people\n",
              "0       0.0            0.0  ...        0.0           0.0\n",
              "1       0.0            0.0  ...        0.0           0.0\n",
              "2       0.0            0.0  ...        0.0           0.0\n",
              "3       0.0            0.0  ...        0.0           0.0\n",
              "4       0.0            0.0  ...        0.0           0.0\n",
              "\n",
              "[5 rows x 1000 columns]"
            ]
          },
          "metadata": {},
          "execution_count": 60
        }
      ],
      "source": [
        "from sklearn.decomposition import NMF\n",
        "from sklearn.feature_extraction.text import TfidfVectorizer\n",
        "\n",
        "vectorizer = TfidfVectorizer(ngram_range=(2,2),\n",
        "                             token_pattern=r'\\b[a-zA-Z]{3,}\\b', max_df=0.4, max_features = 1000, stop_words=\"english\")\n",
        "\n",
        "X, terms = vectorizer.fit_transform(data.text), vectorizer.get_feature_names_out()\n",
        "\n",
        "df_tf_idf = pd.DataFrame(X.toarray(), columns=terms)\n",
        "\n",
        "print(f\"TF-IDF: {df_tf_idf.shape}\")\n",
        "df_tf_idf.head(5)"
      ]
    },
    {
      "cell_type": "markdown",
      "source": [
        "#### Step 2: Fit NMF Model"
      ],
      "metadata": {
        "id": "rspaekpMfZWo"
      }
    },
    {
      "cell_type": "code",
      "execution_count": 61,
      "metadata": {
        "id": "gnMYozEFESYA",
        "colab": {
          "base_uri": "https://localhost:8080/"
        },
        "outputId": "ecfbd5d6-1172-48c3-caac-6c31b536c118"
      },
      "outputs": [
        {
          "output_type": "stream",
          "name": "stderr",
          "text": [
            "/usr/local/lib/python3.7/dist-packages/sklearn/decomposition/_nmf.py:294: FutureWarning: The 'init' value, when 'init=None' and n_components is less than n_samples and n_features, will be changed from 'nndsvd' to 'nndsvda' in 1.1 (renaming of 0.26).\n",
            "  FutureWarning,\n"
          ]
        },
        {
          "output_type": "stream",
          "name": "stdout",
          "text": [
            "Original shape of X is (8979, 1000)\n",
            "Decomposed W matrix is (8979, 5)\n",
            "Decomposed H matrix is (5, 1000)\n"
          ]
        }
      ],
      "source": [
        "nmf = NMF(n_components=5)\n",
        "df_W = nmf.fit_transform(X)\n",
        "df_H = nmf.components_\n",
        "print(f\"Original shape of X is {X.shape}\")\n",
        "print(f\"Decomposed W matrix is {df_W.shape}\")\n",
        "print(f\"Decomposed H matrix is {df_H.shape}\")"
      ]
    },
    {
      "cell_type": "markdown",
      "source": [
        "#### Step 3: Report Results For Each Topic"
      ],
      "metadata": {
        "id": "xvIvKLY7fdJP"
      }
    },
    {
      "cell_type": "code",
      "execution_count": 62,
      "metadata": {
        "id": "fxkcSjrBESaC",
        "colab": {
          "base_uri": "https://localhost:8080/"
        },
        "outputId": "55178239-bd91-4d3f-9dea-973c4092952c"
      },
      "outputs": [
        {
          "output_type": "stream",
          "name": "stdout",
          "text": [
            "TOPIC 0\n",
            "\n",
            "\bwhite house (5.2%)\n",
            "\n",
            "\bwashington reuters (2.2%)\n",
            "\n",
            "\bpresident donald (1.8%)\n",
            "\n",
            "\breuters united (1.4%)\n",
            "\n",
            "\bbarack obama (1.4%)\n",
            "\n",
            "\bstate president (1.2%)\n",
            "\n",
            "\bpresident barack (1.2%)\n",
            "\n",
            "\bhouse said (1.1%)\n",
            "\n",
            "\btrump said (1.0%)\n",
            "\n",
            "\btrump administration (0.9%)\n",
            "\n",
            "\bnational security (0.8%)\n",
            "\n",
            "\bhouse representative (0.8%)\n",
            "\n",
            "\bsaid statement (0.7%)\n",
            "\n",
            "\bobama administration (0.7%)\n",
            "\n",
            "\bpresident trump (0.7%)\n",
            "\n",
            "==================================================\n",
            "TOPIC 1\n",
            "\n",
            "\bprime minister (5.5%)\n",
            "\n",
            "\beuropean union (2.7%)\n",
            "\n",
            "\bsaudi arabia (2.0%)\n",
            "\n",
            "\bislamic state (1.9%)\n",
            "\n",
            "\btold reuters (1.5%)\n",
            "\n",
            "\blondon reuters (1.4%)\n",
            "\n",
            "\bminister theresa (1.3%)\n",
            "\n",
            "\bhuman right (1.2%)\n",
            "\n",
            "\bofficial said (1.2%)\n",
            "\n",
            "\bsaid statement (1.1%)\n",
            "\n",
            "\bforeign minister (1.0%)\n",
            "\n",
            "\bsaid thursday (1.0%)\n",
            "\n",
            "\bunited nation (1.0%)\n",
            "\n",
            "\bsaid wednesday (0.9%)\n",
            "\n",
            "\btold reporter (0.9%)\n",
            "\n",
            "==================================================\n",
            "TOPIC 2\n",
            "\n",
            "\bhillary clinton (8.6%)\n",
            "\n",
            "\bnew york (2.2%)\n",
            "\n",
            "\bsecretary state (1.9%)\n",
            "\n",
            "\bbernie sander (1.5%)\n",
            "\n",
            "\bpresidential candidate (1.4%)\n",
            "\n",
            "\bcentury wire (1.4%)\n",
            "\n",
            "\bclinton campaign (1.4%)\n",
            "\n",
            "\bstate department (1.3%)\n",
            "\n",
            "\bdemocratic presidential (1.0%)\n",
            "\n",
            "\bclinton foundation (1.0%)\n",
            "\n",
            "\bclinton said (0.9%)\n",
            "\n",
            "\bpresidential election (0.8%)\n",
            "\n",
            "\btrump campaign (0.8%)\n",
            "\n",
            "\brepublican presidential (0.8%)\n",
            "\n",
            "\bdemocratic party (0.8%)\n",
            "\n",
            "==================================================\n",
            "TOPIC 3\n",
            "\n",
            "\bnorth korea (15.3%)\n",
            "\n",
            "\bnorth korean (4.0%)\n",
            "\n",
            "\bsouth korea (3.3%)\n",
            "\n",
            "\bunited nation (2.3%)\n",
            "\n",
            "\bkim jong (2.2%)\n",
            "\n",
            "\bsouth korean (2.0%)\n",
            "\n",
            "\bnuclear weapon (1.8%)\n",
            "\n",
            "\bballistic missile (1.7%)\n",
            "\n",
            "\bnuclear test (1.6%)\n",
            "\n",
            "\bstate president (1.5%)\n",
            "\n",
            "\bsecurity council (1.4%)\n",
            "\n",
            "\bpresident donald (1.3%)\n",
            "\n",
            "\bkorea nuclear (1.3%)\n",
            "\n",
            "\bforeign minister (1.3%)\n",
            "\n",
            "\bleader kim (1.1%)\n",
            "\n",
            "==================================================\n",
            "TOPIC 4\n",
            "\n",
            "\bfeatured image (3.4%)\n",
            "\n",
            "\byear old (3.4%)\n",
            "\n",
            "\bpresident obama (1.7%)\n",
            "\n",
            "\bgetty image (1.7%)\n",
            "\n",
            "\bfox news (1.6%)\n",
            "\n",
            "\bscreen capture (1.2%)\n",
            "\n",
            "\bsocial medium (1.2%)\n",
            "\n",
            "\bpolice officer (1.1%)\n",
            "\n",
            "\bpresident trump (1.1%)\n",
            "\n",
            "\bted cruz (1.1%)\n",
            "\n",
            "\bimage video (1.0%)\n",
            "\n",
            "\btrump supporter (1.0%)\n",
            "\n",
            "\bnew york (0.9%)\n",
            "\n",
            "\bsupreme court (0.9%)\n",
            "\n",
            "\bright wing (0.9%)\n",
            "\n",
            "==================================================\n"
          ]
        }
      ],
      "source": [
        "from typing import List\n",
        "import numpy as np\n",
        "\n",
        "def get_top_tf_idf_tokens_for_topic(H: np.array, feature_names: List[str], num_top_tokens: int = 5):\n",
        "  \"\"\"\n",
        "  Uses the H matrix (K components x M original features) to identify for each\n",
        "  topic the most frequent tokens.\n",
        "  \"\"\"\n",
        "  for topic, vector in enumerate(H):\n",
        "    print(f\"TOPIC {topic}\\n\")\n",
        "    total = vector.sum()\n",
        "    top_scores = vector.argsort()[::-1][:num_top_tokens]\n",
        "    token_names = list(map(lambda idx: feature_names[idx], top_scores))\n",
        "    strengths = list(map(lambda idx: vector[idx] / total, top_scores))\n",
        "    \n",
        "    for strength, token_name in zip(strengths, token_names):\n",
        "      print(f\"\\b{token_name} ({round(strength * 100, 1)}%)\\n\")\n",
        "    print(f\"=\" * 50)\n",
        "\n",
        "get_top_tf_idf_tokens_for_topic(df_H, df_tf_idf.columns.tolist(), 15)"
      ]
    },
    {
      "cell_type": "markdown",
      "source": [
        "#### Topic summary:\n",
        "##### topic 1: News related to important people of American Presidential Election.\n",
        "##### topic 2: News from social media, and many are related to Trump.\n",
        "##### topic 3: News related to military events between North Koera, South Koera and United States.\n",
        "##### topic 4: News related to American government announcement.\n",
        "##### topic 5: News related to the political rivalry between Occiendt and middle east countries."
      ],
      "metadata": {
        "id": "7RiJqAtTfkWd"
      }
    },
    {
      "cell_type": "markdown",
      "source": [
        "### Topic modelling for fake news:"
      ],
      "metadata": {
        "id": "_VHgCRbWfnMg"
      }
    },
    {
      "cell_type": "code",
      "execution_count": 63,
      "metadata": {
        "id": "d25gjXeGEScc",
        "colab": {
          "base_uri": "https://localhost:8080/",
          "height": 334
        },
        "outputId": "e0f4ff42-8ee8-4324-8e90-94b95b122a0a"
      },
      "outputs": [
        {
          "output_type": "stream",
          "name": "stdout",
          "text": [
            "TF-IDF: (4696, 1000)\n"
          ]
        },
        {
          "output_type": "execute_result",
          "data": {
            "text/html": [
              "\n",
              "  <div id=\"df-efe60fed-3103-4c2f-857e-6549644e98b2\">\n",
              "    <div class=\"colab-df-container\">\n",
              "      <div>\n",
              "<style scoped>\n",
              "    .dataframe tbody tr th:only-of-type {\n",
              "        vertical-align: middle;\n",
              "    }\n",
              "\n",
              "    .dataframe tbody tr th {\n",
              "        vertical-align: top;\n",
              "    }\n",
              "\n",
              "    .dataframe thead th {\n",
              "        text-align: right;\n",
              "    }\n",
              "</style>\n",
              "<table border=\"1\" class=\"dataframe\">\n",
              "  <thead>\n",
              "    <tr style=\"text-align: right;\">\n",
              "      <th></th>\n",
              "      <th>abc news</th>\n",
              "      <th>according new</th>\n",
              "      <th>according report</th>\n",
              "      <th>according washington</th>\n",
              "      <th>acr brain</th>\n",
              "      <th>acr host</th>\n",
              "      <th>acr live</th>\n",
              "      <th>active shooter</th>\n",
              "      <th>administration official</th>\n",
              "      <th>affordable care</th>\n",
              "      <th>african american</th>\n",
              "      <th>air force</th>\n",
              "      <th>alex wong</th>\n",
              "      <th>alt right</th>\n",
              "      <th>alternate current</th>\n",
              "      <th>amendment right</th>\n",
              "      <th>america great</th>\n",
              "      <th>american citizen</th>\n",
              "      <th>american flag</th>\n",
              "      <th>american history</th>\n",
              "      <th>american people</th>\n",
              "      <th>american public</th>\n",
              "      <th>american taxpayer</th>\n",
              "      <th>american voter</th>\n",
              "      <th>anderson cooper</th>\n",
              "      <th>andy nowicki</th>\n",
              "      <th>angela merkel</th>\n",
              "      <th>angeles time</th>\n",
              "      <th>angerer getty</th>\n",
              "      <th>animal lovable</th>\n",
              "      <th>ann coulter</th>\n",
              "      <th>answer question</th>\n",
              "      <th>anti american</th>\n",
              "      <th>anti gay</th>\n",
              "      <th>anti semitic</th>\n",
              "      <th>anti trump</th>\n",
              "      <th>antonin scalia</th>\n",
              "      <th>approval rating</th>\n",
              "      <th>art deal</th>\n",
              "      <th>ask question</th>\n",
              "      <th>...</th>\n",
              "      <th>wednesday night</th>\n",
              "      <th>week ago</th>\n",
              "      <th>week trump</th>\n",
              "      <th>went say</th>\n",
              "      <th>west virginia</th>\n",
              "      <th>white helmet</th>\n",
              "      <th>white house</th>\n",
              "      <th>white men</th>\n",
              "      <th>white nationalist</th>\n",
              "      <th>white people</th>\n",
              "      <th>white supremacist</th>\n",
              "      <th>white supremacy</th>\n",
              "      <th>wildlife refuge</th>\n",
              "      <th>wilson getty</th>\n",
              "      <th>win election</th>\n",
              "      <th>win mcnamee</th>\n",
              "      <th>wire say</th>\n",
              "      <th>witch hunt</th>\n",
              "      <th>woman child</th>\n",
              "      <th>woman march</th>\n",
              "      <th>woman right</th>\n",
              "      <th>won election</th>\n",
              "      <th>wong getty</th>\n",
              "      <th>word trump</th>\n",
              "      <th>work sunited</th>\n",
              "      <th>working class</th>\n",
              "      <th>world leader</th>\n",
              "      <th>world war</th>\n",
              "      <th>year ago</th>\n",
              "      <th>year later</th>\n",
              "      <th>year old</th>\n",
              "      <th>year prison</th>\n",
              "      <th>year trump</th>\n",
              "      <th>year year</th>\n",
              "      <th>york city</th>\n",
              "      <th>york post</th>\n",
              "      <th>york time</th>\n",
              "      <th>young man</th>\n",
              "      <th>young people</th>\n",
              "      <th>young woman</th>\n",
              "    </tr>\n",
              "  </thead>\n",
              "  <tbody>\n",
              "    <tr>\n",
              "      <th>0</th>\n",
              "      <td>0.0</td>\n",
              "      <td>0.0</td>\n",
              "      <td>0.0</td>\n",
              "      <td>0.0</td>\n",
              "      <td>0.0</td>\n",
              "      <td>0.0</td>\n",
              "      <td>0.0</td>\n",
              "      <td>0.0</td>\n",
              "      <td>0.0</td>\n",
              "      <td>0.0</td>\n",
              "      <td>0.0</td>\n",
              "      <td>0.0</td>\n",
              "      <td>0.0</td>\n",
              "      <td>0.0</td>\n",
              "      <td>0.0</td>\n",
              "      <td>0.0</td>\n",
              "      <td>0.0</td>\n",
              "      <td>0.0</td>\n",
              "      <td>0.0</td>\n",
              "      <td>0.0</td>\n",
              "      <td>0.000000</td>\n",
              "      <td>0.0</td>\n",
              "      <td>0.0</td>\n",
              "      <td>0.0</td>\n",
              "      <td>0.0</td>\n",
              "      <td>0.0</td>\n",
              "      <td>0.0</td>\n",
              "      <td>0.0</td>\n",
              "      <td>0.0</td>\n",
              "      <td>0.0</td>\n",
              "      <td>0.0</td>\n",
              "      <td>0.0</td>\n",
              "      <td>0.0</td>\n",
              "      <td>0.0</td>\n",
              "      <td>0.0</td>\n",
              "      <td>0.0</td>\n",
              "      <td>0.0</td>\n",
              "      <td>0.0</td>\n",
              "      <td>0.0</td>\n",
              "      <td>0.0</td>\n",
              "      <td>...</td>\n",
              "      <td>0.0</td>\n",
              "      <td>0.0</td>\n",
              "      <td>0.0</td>\n",
              "      <td>0.0</td>\n",
              "      <td>0.0</td>\n",
              "      <td>0.0</td>\n",
              "      <td>0.270151</td>\n",
              "      <td>0.0</td>\n",
              "      <td>0.0</td>\n",
              "      <td>0.0</td>\n",
              "      <td>0.0</td>\n",
              "      <td>0.0</td>\n",
              "      <td>0.0</td>\n",
              "      <td>0.0</td>\n",
              "      <td>0.0</td>\n",
              "      <td>0.0</td>\n",
              "      <td>0.0</td>\n",
              "      <td>0.0</td>\n",
              "      <td>0.0</td>\n",
              "      <td>0.0</td>\n",
              "      <td>0.0</td>\n",
              "      <td>0.0</td>\n",
              "      <td>0.0</td>\n",
              "      <td>0.0</td>\n",
              "      <td>0.0</td>\n",
              "      <td>0.0</td>\n",
              "      <td>0.0</td>\n",
              "      <td>0.521396</td>\n",
              "      <td>0.000000</td>\n",
              "      <td>0.0</td>\n",
              "      <td>0.0</td>\n",
              "      <td>0.0</td>\n",
              "      <td>0.0</td>\n",
              "      <td>0.0</td>\n",
              "      <td>0.0</td>\n",
              "      <td>0.0</td>\n",
              "      <td>0.000000</td>\n",
              "      <td>0.0</td>\n",
              "      <td>0.0</td>\n",
              "      <td>0.0</td>\n",
              "    </tr>\n",
              "    <tr>\n",
              "      <th>1</th>\n",
              "      <td>0.0</td>\n",
              "      <td>0.0</td>\n",
              "      <td>0.0</td>\n",
              "      <td>0.0</td>\n",
              "      <td>0.0</td>\n",
              "      <td>0.0</td>\n",
              "      <td>0.0</td>\n",
              "      <td>0.0</td>\n",
              "      <td>0.0</td>\n",
              "      <td>0.0</td>\n",
              "      <td>0.0</td>\n",
              "      <td>0.0</td>\n",
              "      <td>0.0</td>\n",
              "      <td>0.0</td>\n",
              "      <td>0.0</td>\n",
              "      <td>0.0</td>\n",
              "      <td>0.0</td>\n",
              "      <td>0.0</td>\n",
              "      <td>0.0</td>\n",
              "      <td>0.0</td>\n",
              "      <td>0.000000</td>\n",
              "      <td>0.0</td>\n",
              "      <td>0.0</td>\n",
              "      <td>0.0</td>\n",
              "      <td>0.0</td>\n",
              "      <td>0.0</td>\n",
              "      <td>0.0</td>\n",
              "      <td>0.0</td>\n",
              "      <td>0.0</td>\n",
              "      <td>0.0</td>\n",
              "      <td>0.0</td>\n",
              "      <td>0.0</td>\n",
              "      <td>0.0</td>\n",
              "      <td>0.0</td>\n",
              "      <td>0.0</td>\n",
              "      <td>0.0</td>\n",
              "      <td>0.0</td>\n",
              "      <td>0.0</td>\n",
              "      <td>0.0</td>\n",
              "      <td>0.0</td>\n",
              "      <td>...</td>\n",
              "      <td>0.0</td>\n",
              "      <td>0.0</td>\n",
              "      <td>0.0</td>\n",
              "      <td>0.0</td>\n",
              "      <td>0.0</td>\n",
              "      <td>0.0</td>\n",
              "      <td>0.000000</td>\n",
              "      <td>0.0</td>\n",
              "      <td>0.0</td>\n",
              "      <td>0.0</td>\n",
              "      <td>0.0</td>\n",
              "      <td>0.0</td>\n",
              "      <td>0.0</td>\n",
              "      <td>0.0</td>\n",
              "      <td>0.0</td>\n",
              "      <td>0.0</td>\n",
              "      <td>0.0</td>\n",
              "      <td>0.0</td>\n",
              "      <td>0.0</td>\n",
              "      <td>0.0</td>\n",
              "      <td>0.0</td>\n",
              "      <td>0.0</td>\n",
              "      <td>0.0</td>\n",
              "      <td>0.0</td>\n",
              "      <td>0.0</td>\n",
              "      <td>0.0</td>\n",
              "      <td>0.0</td>\n",
              "      <td>0.000000</td>\n",
              "      <td>0.000000</td>\n",
              "      <td>0.0</td>\n",
              "      <td>0.0</td>\n",
              "      <td>0.0</td>\n",
              "      <td>0.0</td>\n",
              "      <td>0.0</td>\n",
              "      <td>0.0</td>\n",
              "      <td>0.0</td>\n",
              "      <td>0.000000</td>\n",
              "      <td>0.0</td>\n",
              "      <td>0.0</td>\n",
              "      <td>0.0</td>\n",
              "    </tr>\n",
              "    <tr>\n",
              "      <th>2</th>\n",
              "      <td>0.0</td>\n",
              "      <td>0.0</td>\n",
              "      <td>0.0</td>\n",
              "      <td>0.0</td>\n",
              "      <td>0.0</td>\n",
              "      <td>0.0</td>\n",
              "      <td>0.0</td>\n",
              "      <td>0.0</td>\n",
              "      <td>0.0</td>\n",
              "      <td>0.0</td>\n",
              "      <td>0.0</td>\n",
              "      <td>0.0</td>\n",
              "      <td>0.0</td>\n",
              "      <td>0.0</td>\n",
              "      <td>0.0</td>\n",
              "      <td>0.0</td>\n",
              "      <td>0.0</td>\n",
              "      <td>0.0</td>\n",
              "      <td>0.0</td>\n",
              "      <td>0.0</td>\n",
              "      <td>0.000000</td>\n",
              "      <td>0.0</td>\n",
              "      <td>0.0</td>\n",
              "      <td>0.0</td>\n",
              "      <td>0.0</td>\n",
              "      <td>0.0</td>\n",
              "      <td>0.0</td>\n",
              "      <td>0.0</td>\n",
              "      <td>0.0</td>\n",
              "      <td>0.0</td>\n",
              "      <td>0.0</td>\n",
              "      <td>0.0</td>\n",
              "      <td>0.0</td>\n",
              "      <td>0.0</td>\n",
              "      <td>0.0</td>\n",
              "      <td>0.0</td>\n",
              "      <td>0.0</td>\n",
              "      <td>0.0</td>\n",
              "      <td>0.0</td>\n",
              "      <td>0.0</td>\n",
              "      <td>...</td>\n",
              "      <td>0.0</td>\n",
              "      <td>0.0</td>\n",
              "      <td>0.0</td>\n",
              "      <td>0.0</td>\n",
              "      <td>0.0</td>\n",
              "      <td>0.0</td>\n",
              "      <td>0.000000</td>\n",
              "      <td>0.0</td>\n",
              "      <td>0.0</td>\n",
              "      <td>0.0</td>\n",
              "      <td>0.0</td>\n",
              "      <td>0.0</td>\n",
              "      <td>0.0</td>\n",
              "      <td>0.0</td>\n",
              "      <td>0.0</td>\n",
              "      <td>0.0</td>\n",
              "      <td>0.0</td>\n",
              "      <td>0.0</td>\n",
              "      <td>0.0</td>\n",
              "      <td>0.0</td>\n",
              "      <td>0.0</td>\n",
              "      <td>0.0</td>\n",
              "      <td>0.0</td>\n",
              "      <td>0.0</td>\n",
              "      <td>0.0</td>\n",
              "      <td>0.0</td>\n",
              "      <td>0.0</td>\n",
              "      <td>0.000000</td>\n",
              "      <td>0.465942</td>\n",
              "      <td>0.0</td>\n",
              "      <td>0.0</td>\n",
              "      <td>0.0</td>\n",
              "      <td>0.0</td>\n",
              "      <td>0.0</td>\n",
              "      <td>0.0</td>\n",
              "      <td>0.0</td>\n",
              "      <td>0.000000</td>\n",
              "      <td>0.0</td>\n",
              "      <td>0.0</td>\n",
              "      <td>0.0</td>\n",
              "    </tr>\n",
              "    <tr>\n",
              "      <th>3</th>\n",
              "      <td>0.0</td>\n",
              "      <td>0.0</td>\n",
              "      <td>0.0</td>\n",
              "      <td>0.0</td>\n",
              "      <td>0.0</td>\n",
              "      <td>0.0</td>\n",
              "      <td>0.0</td>\n",
              "      <td>0.0</td>\n",
              "      <td>0.0</td>\n",
              "      <td>0.0</td>\n",
              "      <td>0.0</td>\n",
              "      <td>0.0</td>\n",
              "      <td>0.0</td>\n",
              "      <td>0.0</td>\n",
              "      <td>0.0</td>\n",
              "      <td>0.0</td>\n",
              "      <td>0.0</td>\n",
              "      <td>0.0</td>\n",
              "      <td>0.0</td>\n",
              "      <td>0.0</td>\n",
              "      <td>0.287794</td>\n",
              "      <td>0.0</td>\n",
              "      <td>0.0</td>\n",
              "      <td>0.0</td>\n",
              "      <td>0.0</td>\n",
              "      <td>0.0</td>\n",
              "      <td>0.0</td>\n",
              "      <td>0.0</td>\n",
              "      <td>0.0</td>\n",
              "      <td>0.0</td>\n",
              "      <td>0.0</td>\n",
              "      <td>0.0</td>\n",
              "      <td>0.0</td>\n",
              "      <td>0.0</td>\n",
              "      <td>0.0</td>\n",
              "      <td>0.0</td>\n",
              "      <td>0.0</td>\n",
              "      <td>0.0</td>\n",
              "      <td>0.0</td>\n",
              "      <td>0.0</td>\n",
              "      <td>...</td>\n",
              "      <td>0.0</td>\n",
              "      <td>0.0</td>\n",
              "      <td>0.0</td>\n",
              "      <td>0.0</td>\n",
              "      <td>0.0</td>\n",
              "      <td>0.0</td>\n",
              "      <td>0.000000</td>\n",
              "      <td>0.0</td>\n",
              "      <td>0.0</td>\n",
              "      <td>0.0</td>\n",
              "      <td>0.0</td>\n",
              "      <td>0.0</td>\n",
              "      <td>0.0</td>\n",
              "      <td>0.0</td>\n",
              "      <td>0.0</td>\n",
              "      <td>0.0</td>\n",
              "      <td>0.0</td>\n",
              "      <td>0.0</td>\n",
              "      <td>0.0</td>\n",
              "      <td>0.0</td>\n",
              "      <td>0.0</td>\n",
              "      <td>0.0</td>\n",
              "      <td>0.0</td>\n",
              "      <td>0.0</td>\n",
              "      <td>0.0</td>\n",
              "      <td>0.0</td>\n",
              "      <td>0.0</td>\n",
              "      <td>0.000000</td>\n",
              "      <td>0.000000</td>\n",
              "      <td>0.0</td>\n",
              "      <td>0.0</td>\n",
              "      <td>0.0</td>\n",
              "      <td>0.0</td>\n",
              "      <td>0.0</td>\n",
              "      <td>0.0</td>\n",
              "      <td>0.0</td>\n",
              "      <td>0.293673</td>\n",
              "      <td>0.0</td>\n",
              "      <td>0.0</td>\n",
              "      <td>0.0</td>\n",
              "    </tr>\n",
              "    <tr>\n",
              "      <th>4</th>\n",
              "      <td>0.0</td>\n",
              "      <td>0.0</td>\n",
              "      <td>0.0</td>\n",
              "      <td>0.0</td>\n",
              "      <td>0.0</td>\n",
              "      <td>0.0</td>\n",
              "      <td>0.0</td>\n",
              "      <td>0.0</td>\n",
              "      <td>0.0</td>\n",
              "      <td>0.0</td>\n",
              "      <td>0.0</td>\n",
              "      <td>0.0</td>\n",
              "      <td>0.0</td>\n",
              "      <td>0.0</td>\n",
              "      <td>0.0</td>\n",
              "      <td>0.0</td>\n",
              "      <td>0.0</td>\n",
              "      <td>0.0</td>\n",
              "      <td>0.0</td>\n",
              "      <td>0.0</td>\n",
              "      <td>0.000000</td>\n",
              "      <td>0.0</td>\n",
              "      <td>0.0</td>\n",
              "      <td>0.0</td>\n",
              "      <td>0.0</td>\n",
              "      <td>0.0</td>\n",
              "      <td>0.0</td>\n",
              "      <td>0.0</td>\n",
              "      <td>0.0</td>\n",
              "      <td>0.0</td>\n",
              "      <td>0.0</td>\n",
              "      <td>0.0</td>\n",
              "      <td>0.0</td>\n",
              "      <td>0.0</td>\n",
              "      <td>0.0</td>\n",
              "      <td>0.0</td>\n",
              "      <td>0.0</td>\n",
              "      <td>0.0</td>\n",
              "      <td>0.0</td>\n",
              "      <td>0.0</td>\n",
              "      <td>...</td>\n",
              "      <td>0.0</td>\n",
              "      <td>0.0</td>\n",
              "      <td>0.0</td>\n",
              "      <td>0.0</td>\n",
              "      <td>0.0</td>\n",
              "      <td>0.0</td>\n",
              "      <td>0.000000</td>\n",
              "      <td>0.0</td>\n",
              "      <td>0.0</td>\n",
              "      <td>0.0</td>\n",
              "      <td>0.0</td>\n",
              "      <td>0.0</td>\n",
              "      <td>0.0</td>\n",
              "      <td>0.0</td>\n",
              "      <td>0.0</td>\n",
              "      <td>0.0</td>\n",
              "      <td>0.0</td>\n",
              "      <td>0.0</td>\n",
              "      <td>0.0</td>\n",
              "      <td>0.0</td>\n",
              "      <td>0.0</td>\n",
              "      <td>0.0</td>\n",
              "      <td>0.0</td>\n",
              "      <td>0.0</td>\n",
              "      <td>0.0</td>\n",
              "      <td>0.0</td>\n",
              "      <td>0.0</td>\n",
              "      <td>0.000000</td>\n",
              "      <td>0.000000</td>\n",
              "      <td>0.0</td>\n",
              "      <td>0.0</td>\n",
              "      <td>0.0</td>\n",
              "      <td>0.0</td>\n",
              "      <td>0.0</td>\n",
              "      <td>0.0</td>\n",
              "      <td>0.0</td>\n",
              "      <td>0.000000</td>\n",
              "      <td>0.0</td>\n",
              "      <td>0.0</td>\n",
              "      <td>0.0</td>\n",
              "    </tr>\n",
              "  </tbody>\n",
              "</table>\n",
              "<p>5 rows × 1000 columns</p>\n",
              "</div>\n",
              "      <button class=\"colab-df-convert\" onclick=\"convertToInteractive('df-efe60fed-3103-4c2f-857e-6549644e98b2')\"\n",
              "              title=\"Convert this dataframe to an interactive table.\"\n",
              "              style=\"display:none;\">\n",
              "        \n",
              "  <svg xmlns=\"http://www.w3.org/2000/svg\" height=\"24px\"viewBox=\"0 0 24 24\"\n",
              "       width=\"24px\">\n",
              "    <path d=\"M0 0h24v24H0V0z\" fill=\"none\"/>\n",
              "    <path d=\"M18.56 5.44l.94 2.06.94-2.06 2.06-.94-2.06-.94-.94-2.06-.94 2.06-2.06.94zm-11 1L8.5 8.5l.94-2.06 2.06-.94-2.06-.94L8.5 2.5l-.94 2.06-2.06.94zm10 10l.94 2.06.94-2.06 2.06-.94-2.06-.94-.94-2.06-.94 2.06-2.06.94z\"/><path d=\"M17.41 7.96l-1.37-1.37c-.4-.4-.92-.59-1.43-.59-.52 0-1.04.2-1.43.59L10.3 9.45l-7.72 7.72c-.78.78-.78 2.05 0 2.83L4 21.41c.39.39.9.59 1.41.59.51 0 1.02-.2 1.41-.59l7.78-7.78 2.81-2.81c.8-.78.8-2.07 0-2.86zM5.41 20L4 18.59l7.72-7.72 1.47 1.35L5.41 20z\"/>\n",
              "  </svg>\n",
              "      </button>\n",
              "      \n",
              "  <style>\n",
              "    .colab-df-container {\n",
              "      display:flex;\n",
              "      flex-wrap:wrap;\n",
              "      gap: 12px;\n",
              "    }\n",
              "\n",
              "    .colab-df-convert {\n",
              "      background-color: #E8F0FE;\n",
              "      border: none;\n",
              "      border-radius: 50%;\n",
              "      cursor: pointer;\n",
              "      display: none;\n",
              "      fill: #1967D2;\n",
              "      height: 32px;\n",
              "      padding: 0 0 0 0;\n",
              "      width: 32px;\n",
              "    }\n",
              "\n",
              "    .colab-df-convert:hover {\n",
              "      background-color: #E2EBFA;\n",
              "      box-shadow: 0px 1px 2px rgba(60, 64, 67, 0.3), 0px 1px 3px 1px rgba(60, 64, 67, 0.15);\n",
              "      fill: #174EA6;\n",
              "    }\n",
              "\n",
              "    [theme=dark] .colab-df-convert {\n",
              "      background-color: #3B4455;\n",
              "      fill: #D2E3FC;\n",
              "    }\n",
              "\n",
              "    [theme=dark] .colab-df-convert:hover {\n",
              "      background-color: #434B5C;\n",
              "      box-shadow: 0px 1px 3px 1px rgba(0, 0, 0, 0.15);\n",
              "      filter: drop-shadow(0px 1px 2px rgba(0, 0, 0, 0.3));\n",
              "      fill: #FFFFFF;\n",
              "    }\n",
              "  </style>\n",
              "\n",
              "      <script>\n",
              "        const buttonEl =\n",
              "          document.querySelector('#df-efe60fed-3103-4c2f-857e-6549644e98b2 button.colab-df-convert');\n",
              "        buttonEl.style.display =\n",
              "          google.colab.kernel.accessAllowed ? 'block' : 'none';\n",
              "\n",
              "        async function convertToInteractive(key) {\n",
              "          const element = document.querySelector('#df-efe60fed-3103-4c2f-857e-6549644e98b2');\n",
              "          const dataTable =\n",
              "            await google.colab.kernel.invokeFunction('convertToInteractive',\n",
              "                                                     [key], {});\n",
              "          if (!dataTable) return;\n",
              "\n",
              "          const docLinkHtml = 'Like what you see? Visit the ' +\n",
              "            '<a target=\"_blank\" href=https://colab.research.google.com/notebooks/data_table.ipynb>data table notebook</a>'\n",
              "            + ' to learn more about interactive tables.';\n",
              "          element.innerHTML = '';\n",
              "          dataTable['output_type'] = 'display_data';\n",
              "          await google.colab.output.renderOutput(dataTable, element);\n",
              "          const docLink = document.createElement('div');\n",
              "          docLink.innerHTML = docLinkHtml;\n",
              "          element.appendChild(docLink);\n",
              "        }\n",
              "      </script>\n",
              "    </div>\n",
              "  </div>\n",
              "  "
            ],
            "text/plain": [
              "   abc news  according new  ...  young people  young woman\n",
              "0       0.0            0.0  ...           0.0          0.0\n",
              "1       0.0            0.0  ...           0.0          0.0\n",
              "2       0.0            0.0  ...           0.0          0.0\n",
              "3       0.0            0.0  ...           0.0          0.0\n",
              "4       0.0            0.0  ...           0.0          0.0\n",
              "\n",
              "[5 rows x 1000 columns]"
            ]
          },
          "metadata": {},
          "execution_count": 63
        }
      ],
      "source": [
        "vectorizer = TfidfVectorizer(ngram_range=(2,2),\n",
        "                             token_pattern=r'\\b[a-zA-Z]{3,}\\b', max_df=0.4, max_features = 1000, stop_words=\"english\")\n",
        "\n",
        "X, terms = vectorizer.fit_transform(data.loc[data['authentic']==0,'text']), vectorizer.get_feature_names_out()\n",
        "\n",
        "df_tf_idf = pd.DataFrame(X.toarray(), columns=terms)\n",
        "\n",
        "print(f\"TF-IDF: {df_tf_idf.shape}\")\n",
        "df_tf_idf.head(5)"
      ]
    },
    {
      "cell_type": "code",
      "execution_count": 64,
      "metadata": {
        "id": "NZE34wdOESe_",
        "colab": {
          "base_uri": "https://localhost:8080/"
        },
        "outputId": "1abc2a91-40ba-45ed-a2ff-2b5318f4db1a"
      },
      "outputs": [
        {
          "output_type": "stream",
          "name": "stdout",
          "text": [
            "Original shape of X is (4696, 1000)\n",
            "Decomposed W matrix is (4696, 5)\n",
            "Decomposed H matrix is (5, 1000)\n"
          ]
        },
        {
          "output_type": "stream",
          "name": "stderr",
          "text": [
            "/usr/local/lib/python3.7/dist-packages/sklearn/decomposition/_nmf.py:294: FutureWarning: The 'init' value, when 'init=None' and n_components is less than n_samples and n_features, will be changed from 'nndsvd' to 'nndsvda' in 1.1 (renaming of 0.26).\n",
            "  FutureWarning,\n"
          ]
        }
      ],
      "source": [
        "nmf = NMF(n_components=5)\n",
        "df_W = nmf.fit_transform(X)\n",
        "df_H = nmf.components_\n",
        "print(f\"Original shape of X is {X.shape}\")\n",
        "print(f\"Decomposed W matrix is {df_W.shape}\")\n",
        "print(f\"Decomposed H matrix is {df_H.shape}\")"
      ]
    },
    {
      "cell_type": "code",
      "execution_count": 65,
      "metadata": {
        "id": "LDekbNZ7EShG",
        "colab": {
          "base_uri": "https://localhost:8080/"
        },
        "outputId": "2ba4d76a-8c1f-4716-cbca-58c86fe76410"
      },
      "outputs": [
        {
          "output_type": "stream",
          "name": "stdout",
          "text": [
            "TOPIC 0\n",
            "\n",
            "\bdonald trump (6.6%)\n",
            "\n",
            "\bfeatured image (2.2%)\n",
            "\n",
            "\bgetty image (1.4%)\n",
            "\n",
            "\btrump supporter (1.1%)\n",
            "\n",
            "\bted cruz (1.0%)\n",
            "\n",
            "\bfox news (1.0%)\n",
            "\n",
            "\btrump realdonaldtrump (1.0%)\n",
            "\n",
            "\bscreen capture (0.9%)\n",
            "\n",
            "\btrump campaign (0.9%)\n",
            "\n",
            "\btrump said (0.9%)\n",
            "\n",
            "\bimage video (0.8%)\n",
            "\n",
            "\brepublican party (0.8%)\n",
            "\n",
            "\byear old (0.7%)\n",
            "\n",
            "\bvideo screen (0.7%)\n",
            "\n",
            "\bpresident donald (0.6%)\n",
            "\n",
            "==================================================\n",
            "TOPIC 1\n",
            "\n",
            "\bunited state (11.6%)\n",
            "\n",
            "\bobama administration (1.3%)\n",
            "\n",
            "\bstate department (1.1%)\n",
            "\n",
            "\byear old (1.1%)\n",
            "\n",
            "\bpresident united (1.0%)\n",
            "\n",
            "\billegal alien (0.9%)\n",
            "\n",
            "\bstate government (0.9%)\n",
            "\n",
            "\bbarack obama (0.8%)\n",
            "\n",
            "\bnational security (0.8%)\n",
            "\n",
            "\bpresident obama (0.7%)\n",
            "\n",
            "\bbreitbart news (0.7%)\n",
            "\n",
            "\billegal immigrant (0.7%)\n",
            "\n",
            "\bnew york (0.7%)\n",
            "\n",
            "\byear ago (0.6%)\n",
            "\n",
            "\bmiddle east (0.6%)\n",
            "\n",
            "==================================================\n",
            "TOPIC 2\n",
            "\n",
            "\bhillary clinton (14.4%)\n",
            "\n",
            "\bsecretary state (2.7%)\n",
            "\n",
            "\bbernie sander (2.3%)\n",
            "\n",
            "\bstate department (2.1%)\n",
            "\n",
            "\bclinton foundation (2.0%)\n",
            "\n",
            "\bclinton campaign (1.8%)\n",
            "\n",
            "\bemail server (1.2%)\n",
            "\n",
            "\bnew york (1.2%)\n",
            "\n",
            "\bprivate email (1.1%)\n",
            "\n",
            "\bjames comey (1.0%)\n",
            "\n",
            "\bfbi director (1.0%)\n",
            "\n",
            "\bclinton said (1.0%)\n",
            "\n",
            "\bdemocratic presidential (0.9%)\n",
            "\n",
            "\bclinton email (0.9%)\n",
            "\n",
            "\bpresidential candidate (0.8%)\n",
            "\n",
            "==================================================\n",
            "TOPIC 3\n",
            "\n",
            "\bwhite house (9.9%)\n",
            "\n",
            "\bpresident trump (3.6%)\n",
            "\n",
            "\bpresident obama (2.4%)\n",
            "\n",
            "\bbarack obama (1.5%)\n",
            "\n",
            "\bpress secretary (1.0%)\n",
            "\n",
            "\bpresident barack (0.9%)\n",
            "\n",
            "\bhouse press (0.9%)\n",
            "\n",
            "\bgetty image (0.9%)\n",
            "\n",
            "\bsupreme court (0.8%)\n",
            "\n",
            "\btrump administration (0.8%)\n",
            "\n",
            "\bnational security (0.8%)\n",
            "\n",
            "\bnew york (0.7%)\n",
            "\n",
            "\btrump white (0.7%)\n",
            "\n",
            "\bsean spicer (0.7%)\n",
            "\n",
            "\bfbi director (0.7%)\n",
            "\n",
            "==================================================\n",
            "TOPIC 4\n",
            "\n",
            "\bcentury wire (12.1%)\n",
            "\n",
            "\bwire say (6.7%)\n",
            "\n",
            "\bnews century (5.0%)\n",
            "\n",
            "\bsunited statesribe (3.4%)\n",
            "\n",
            "\bstatesribe member (3.4%)\n",
            "\n",
            "\bfilessupport sunited (2.3%)\n",
            "\n",
            "\bpatrick henningsen (2.0%)\n",
            "\n",
            "\bmainstream medium (1.5%)\n",
            "\n",
            "\bcontinue story (1.5%)\n",
            "\n",
            "\bforeign policy (1.4%)\n",
            "\n",
            "\belection news (1.1%)\n",
            "\n",
            "\bwork sunited (1.0%)\n",
            "\n",
            "\bsunday wire (1.0%)\n",
            "\n",
            "\bstatesribing member (0.9%)\n",
            "\n",
            "\bsunited statesribing (0.9%)\n",
            "\n",
            "==================================================\n"
          ]
        }
      ],
      "source": [
        "get_top_tf_idf_tokens_for_topic(df_H, df_tf_idf.columns.tolist(), 15)"
      ]
    },
    {
      "cell_type": "markdown",
      "source": [
        "#### Topic summary:\n",
        "##### topic 1: News related to American Presidential Election, especially those related to Trump.\n",
        "##### topic 2: News from social media, and many are related to Trump.\n",
        "##### topic 3: News related to American Presidential Election, especially those related to Hillary Clinton .\n",
        "##### topic 4: News related to American government announcements especially those of Obama.\n",
        "##### topic 5: News related to \"subscribing\".(?????????)"
      ],
      "metadata": {
        "id": "TOkoraJSfwEl"
      }
    },
    {
      "cell_type": "markdown",
      "source": [
        "### Topic modelling for True news:"
      ],
      "metadata": {
        "id": "oqK65QEHfzYb"
      }
    },
    {
      "cell_type": "code",
      "execution_count": 66,
      "metadata": {
        "id": "528qGpptESjT",
        "colab": {
          "base_uri": "https://localhost:8080/",
          "height": 334
        },
        "outputId": "7f89dd2b-6927-460e-b74f-4318f8f873c0"
      },
      "outputs": [
        {
          "output_type": "stream",
          "name": "stdout",
          "text": [
            "TF-IDF: (4283, 1000)\n"
          ]
        },
        {
          "output_type": "execute_result",
          "data": {
            "text/html": [
              "\n",
              "  <div id=\"df-94cd7e3d-0906-4080-a863-c940c9ce8ec5\">\n",
              "    <div class=\"colab-df-container\">\n",
              "      <div>\n",
              "<style scoped>\n",
              "    .dataframe tbody tr th:only-of-type {\n",
              "        vertical-align: middle;\n",
              "    }\n",
              "\n",
              "    .dataframe tbody tr th {\n",
              "        vertical-align: top;\n",
              "    }\n",
              "\n",
              "    .dataframe thead th {\n",
              "        text-align: right;\n",
              "    }\n",
              "</style>\n",
              "<table border=\"1\" class=\"dataframe\">\n",
              "  <thead>\n",
              "    <tr style=\"text-align: right;\">\n",
              "      <th></th>\n",
              "      <th>according reuters</th>\n",
              "      <th>according united</th>\n",
              "      <th>adam schiff</th>\n",
              "      <th>administration official</th>\n",
              "      <th>administration said</th>\n",
              "      <th>adviser michael</th>\n",
              "      <th>advocacy group</th>\n",
              "      <th>affordable care</th>\n",
              "      <th>african american</th>\n",
              "      <th>agency reported</th>\n",
              "      <th>agency said</th>\n",
              "      <th>aid worker</th>\n",
              "      <th>aide said</th>\n",
              "      <th>air base</th>\n",
              "      <th>air force</th>\n",
              "      <th>air strike</th>\n",
              "      <th>alleged russian</th>\n",
              "      <th>ambassador united</th>\n",
              "      <th>american civil</th>\n",
              "      <th>american free</th>\n",
              "      <th>american people</th>\n",
              "      <th>analyst said</th>\n",
              "      <th>analyst say</th>\n",
              "      <th>angela merkel</th>\n",
              "      <th>ankara reuters</th>\n",
              "      <th>anti corruption</th>\n",
              "      <th>anti immigrant</th>\n",
              "      <th>antonin scalia</th>\n",
              "      <th>appeal court</th>\n",
              "      <th>arab emirate</th>\n",
              "      <th>armed force</th>\n",
              "      <th>armed service</th>\n",
              "      <th>asia pacific</th>\n",
              "      <th>asian nation</th>\n",
              "      <th>asylum seeker</th>\n",
              "      <th>attack united</th>\n",
              "      <th>attorney general</th>\n",
              "      <th>aung san</th>\n",
              "      <th>authority said</th>\n",
              "      <th>available comment</th>\n",
              "      <th>...</th>\n",
              "      <th>undocumented immigrant</th>\n",
              "      <th>united arab</th>\n",
              "      <th>united kingdom</th>\n",
              "      <th>united nation</th>\n",
              "      <th>use private</th>\n",
              "      <th>version story</th>\n",
              "      <th>vice president</th>\n",
              "      <th>vice presidential</th>\n",
              "      <th>vladimir putin</th>\n",
              "      <th>vote needed</th>\n",
              "      <th>vote trump</th>\n",
              "      <th>wall street</th>\n",
              "      <th>wall united</th>\n",
              "      <th>washington post</th>\n",
              "      <th>washington reuters</th>\n",
              "      <th>washington state</th>\n",
              "      <th>wednesday said</th>\n",
              "      <th>week ago</th>\n",
              "      <th>week said</th>\n",
              "      <th>week trump</th>\n",
              "      <th>west bank</th>\n",
              "      <th>white house</th>\n",
              "      <th>world largest</th>\n",
              "      <th>world power</th>\n",
              "      <th>world war</th>\n",
              "      <th>worth billion</th>\n",
              "      <th>wrote twitter</th>\n",
              "      <th>year ago</th>\n",
              "      <th>year election</th>\n",
              "      <th>year old</th>\n",
              "      <th>year prison</th>\n",
              "      <th>year said</th>\n",
              "      <th>year term</th>\n",
              "      <th>year trump</th>\n",
              "      <th>year united</th>\n",
              "      <th>york businessman</th>\n",
              "      <th>york city</th>\n",
              "      <th>york reuters</th>\n",
              "      <th>york time</th>\n",
              "      <th>young people</th>\n",
              "    </tr>\n",
              "  </thead>\n",
              "  <tbody>\n",
              "    <tr>\n",
              "      <th>0</th>\n",
              "      <td>0.0</td>\n",
              "      <td>0.0</td>\n",
              "      <td>0.0</td>\n",
              "      <td>0.000000</td>\n",
              "      <td>0.0</td>\n",
              "      <td>0.0</td>\n",
              "      <td>0.0</td>\n",
              "      <td>0.0</td>\n",
              "      <td>0.0</td>\n",
              "      <td>0.0</td>\n",
              "      <td>0.0</td>\n",
              "      <td>0.0</td>\n",
              "      <td>0.0</td>\n",
              "      <td>0.0</td>\n",
              "      <td>0.0</td>\n",
              "      <td>0.0</td>\n",
              "      <td>0.0</td>\n",
              "      <td>0.0</td>\n",
              "      <td>0.0</td>\n",
              "      <td>0.0</td>\n",
              "      <td>0.0</td>\n",
              "      <td>0.0</td>\n",
              "      <td>0.0</td>\n",
              "      <td>0.000000</td>\n",
              "      <td>0.0</td>\n",
              "      <td>0.0</td>\n",
              "      <td>0.0</td>\n",
              "      <td>0.0</td>\n",
              "      <td>0.0</td>\n",
              "      <td>0.0</td>\n",
              "      <td>0.0</td>\n",
              "      <td>0.0</td>\n",
              "      <td>0.0</td>\n",
              "      <td>0.0</td>\n",
              "      <td>0.0</td>\n",
              "      <td>0.0</td>\n",
              "      <td>0.0</td>\n",
              "      <td>0.0</td>\n",
              "      <td>0.0</td>\n",
              "      <td>0.274356</td>\n",
              "      <td>...</td>\n",
              "      <td>0.0</td>\n",
              "      <td>0.0</td>\n",
              "      <td>0.0</td>\n",
              "      <td>0.0</td>\n",
              "      <td>0.0</td>\n",
              "      <td>0.0</td>\n",
              "      <td>0.000000</td>\n",
              "      <td>0.0</td>\n",
              "      <td>0.0</td>\n",
              "      <td>0.0</td>\n",
              "      <td>0.0</td>\n",
              "      <td>0.0</td>\n",
              "      <td>0.0</td>\n",
              "      <td>0.0</td>\n",
              "      <td>0.000000</td>\n",
              "      <td>0.0</td>\n",
              "      <td>0.0</td>\n",
              "      <td>0.0</td>\n",
              "      <td>0.0</td>\n",
              "      <td>0.0</td>\n",
              "      <td>0.0</td>\n",
              "      <td>0.000000</td>\n",
              "      <td>0.0</td>\n",
              "      <td>0.0</td>\n",
              "      <td>0.0</td>\n",
              "      <td>0.0</td>\n",
              "      <td>0.0</td>\n",
              "      <td>0.0</td>\n",
              "      <td>0.0</td>\n",
              "      <td>0.0</td>\n",
              "      <td>0.0</td>\n",
              "      <td>0.000000</td>\n",
              "      <td>0.0</td>\n",
              "      <td>0.0</td>\n",
              "      <td>0.0</td>\n",
              "      <td>0.0</td>\n",
              "      <td>0.0</td>\n",
              "      <td>0.000000</td>\n",
              "      <td>0.0</td>\n",
              "      <td>0.0</td>\n",
              "    </tr>\n",
              "    <tr>\n",
              "      <th>1</th>\n",
              "      <td>0.0</td>\n",
              "      <td>0.0</td>\n",
              "      <td>0.0</td>\n",
              "      <td>0.000000</td>\n",
              "      <td>0.0</td>\n",
              "      <td>0.0</td>\n",
              "      <td>0.0</td>\n",
              "      <td>0.0</td>\n",
              "      <td>0.0</td>\n",
              "      <td>0.0</td>\n",
              "      <td>0.0</td>\n",
              "      <td>0.0</td>\n",
              "      <td>0.0</td>\n",
              "      <td>0.0</td>\n",
              "      <td>0.0</td>\n",
              "      <td>0.0</td>\n",
              "      <td>0.0</td>\n",
              "      <td>0.0</td>\n",
              "      <td>0.0</td>\n",
              "      <td>0.0</td>\n",
              "      <td>0.0</td>\n",
              "      <td>0.0</td>\n",
              "      <td>0.0</td>\n",
              "      <td>0.129227</td>\n",
              "      <td>0.0</td>\n",
              "      <td>0.0</td>\n",
              "      <td>0.0</td>\n",
              "      <td>0.0</td>\n",
              "      <td>0.0</td>\n",
              "      <td>0.0</td>\n",
              "      <td>0.0</td>\n",
              "      <td>0.0</td>\n",
              "      <td>0.0</td>\n",
              "      <td>0.0</td>\n",
              "      <td>0.0</td>\n",
              "      <td>0.0</td>\n",
              "      <td>0.0</td>\n",
              "      <td>0.0</td>\n",
              "      <td>0.0</td>\n",
              "      <td>0.000000</td>\n",
              "      <td>...</td>\n",
              "      <td>0.0</td>\n",
              "      <td>0.0</td>\n",
              "      <td>0.0</td>\n",
              "      <td>0.0</td>\n",
              "      <td>0.0</td>\n",
              "      <td>0.0</td>\n",
              "      <td>0.000000</td>\n",
              "      <td>0.0</td>\n",
              "      <td>0.0</td>\n",
              "      <td>0.0</td>\n",
              "      <td>0.0</td>\n",
              "      <td>0.0</td>\n",
              "      <td>0.0</td>\n",
              "      <td>0.0</td>\n",
              "      <td>0.000000</td>\n",
              "      <td>0.0</td>\n",
              "      <td>0.0</td>\n",
              "      <td>0.0</td>\n",
              "      <td>0.0</td>\n",
              "      <td>0.0</td>\n",
              "      <td>0.0</td>\n",
              "      <td>0.000000</td>\n",
              "      <td>0.0</td>\n",
              "      <td>0.0</td>\n",
              "      <td>0.0</td>\n",
              "      <td>0.0</td>\n",
              "      <td>0.0</td>\n",
              "      <td>0.0</td>\n",
              "      <td>0.0</td>\n",
              "      <td>0.0</td>\n",
              "      <td>0.0</td>\n",
              "      <td>0.153721</td>\n",
              "      <td>0.0</td>\n",
              "      <td>0.0</td>\n",
              "      <td>0.0</td>\n",
              "      <td>0.0</td>\n",
              "      <td>0.0</td>\n",
              "      <td>0.000000</td>\n",
              "      <td>0.0</td>\n",
              "      <td>0.0</td>\n",
              "    </tr>\n",
              "    <tr>\n",
              "      <th>2</th>\n",
              "      <td>0.0</td>\n",
              "      <td>0.0</td>\n",
              "      <td>0.0</td>\n",
              "      <td>0.354156</td>\n",
              "      <td>0.0</td>\n",
              "      <td>0.0</td>\n",
              "      <td>0.0</td>\n",
              "      <td>0.0</td>\n",
              "      <td>0.0</td>\n",
              "      <td>0.0</td>\n",
              "      <td>0.0</td>\n",
              "      <td>0.0</td>\n",
              "      <td>0.0</td>\n",
              "      <td>0.0</td>\n",
              "      <td>0.0</td>\n",
              "      <td>0.0</td>\n",
              "      <td>0.0</td>\n",
              "      <td>0.0</td>\n",
              "      <td>0.0</td>\n",
              "      <td>0.0</td>\n",
              "      <td>0.0</td>\n",
              "      <td>0.0</td>\n",
              "      <td>0.0</td>\n",
              "      <td>0.000000</td>\n",
              "      <td>0.0</td>\n",
              "      <td>0.0</td>\n",
              "      <td>0.0</td>\n",
              "      <td>0.0</td>\n",
              "      <td>0.0</td>\n",
              "      <td>0.0</td>\n",
              "      <td>0.0</td>\n",
              "      <td>0.0</td>\n",
              "      <td>0.0</td>\n",
              "      <td>0.0</td>\n",
              "      <td>0.0</td>\n",
              "      <td>0.0</td>\n",
              "      <td>0.0</td>\n",
              "      <td>0.0</td>\n",
              "      <td>0.0</td>\n",
              "      <td>0.000000</td>\n",
              "      <td>...</td>\n",
              "      <td>0.0</td>\n",
              "      <td>0.0</td>\n",
              "      <td>0.0</td>\n",
              "      <td>0.0</td>\n",
              "      <td>0.0</td>\n",
              "      <td>0.0</td>\n",
              "      <td>0.000000</td>\n",
              "      <td>0.0</td>\n",
              "      <td>0.0</td>\n",
              "      <td>0.0</td>\n",
              "      <td>0.0</td>\n",
              "      <td>0.0</td>\n",
              "      <td>0.0</td>\n",
              "      <td>0.0</td>\n",
              "      <td>0.081149</td>\n",
              "      <td>0.0</td>\n",
              "      <td>0.0</td>\n",
              "      <td>0.0</td>\n",
              "      <td>0.0</td>\n",
              "      <td>0.0</td>\n",
              "      <td>0.0</td>\n",
              "      <td>0.192553</td>\n",
              "      <td>0.0</td>\n",
              "      <td>0.0</td>\n",
              "      <td>0.0</td>\n",
              "      <td>0.0</td>\n",
              "      <td>0.0</td>\n",
              "      <td>0.0</td>\n",
              "      <td>0.0</td>\n",
              "      <td>0.0</td>\n",
              "      <td>0.0</td>\n",
              "      <td>0.000000</td>\n",
              "      <td>0.0</td>\n",
              "      <td>0.0</td>\n",
              "      <td>0.0</td>\n",
              "      <td>0.0</td>\n",
              "      <td>0.0</td>\n",
              "      <td>0.000000</td>\n",
              "      <td>0.0</td>\n",
              "      <td>0.0</td>\n",
              "    </tr>\n",
              "    <tr>\n",
              "      <th>3</th>\n",
              "      <td>0.0</td>\n",
              "      <td>0.0</td>\n",
              "      <td>0.0</td>\n",
              "      <td>0.000000</td>\n",
              "      <td>0.0</td>\n",
              "      <td>0.0</td>\n",
              "      <td>0.0</td>\n",
              "      <td>0.0</td>\n",
              "      <td>0.0</td>\n",
              "      <td>0.0</td>\n",
              "      <td>0.0</td>\n",
              "      <td>0.0</td>\n",
              "      <td>0.0</td>\n",
              "      <td>0.0</td>\n",
              "      <td>0.0</td>\n",
              "      <td>0.0</td>\n",
              "      <td>0.0</td>\n",
              "      <td>0.0</td>\n",
              "      <td>0.0</td>\n",
              "      <td>0.0</td>\n",
              "      <td>0.0</td>\n",
              "      <td>0.0</td>\n",
              "      <td>0.0</td>\n",
              "      <td>0.000000</td>\n",
              "      <td>0.0</td>\n",
              "      <td>0.0</td>\n",
              "      <td>0.0</td>\n",
              "      <td>0.0</td>\n",
              "      <td>0.0</td>\n",
              "      <td>0.0</td>\n",
              "      <td>0.0</td>\n",
              "      <td>0.0</td>\n",
              "      <td>0.0</td>\n",
              "      <td>0.0</td>\n",
              "      <td>0.0</td>\n",
              "      <td>0.0</td>\n",
              "      <td>0.0</td>\n",
              "      <td>0.0</td>\n",
              "      <td>0.0</td>\n",
              "      <td>0.000000</td>\n",
              "      <td>...</td>\n",
              "      <td>0.0</td>\n",
              "      <td>0.0</td>\n",
              "      <td>0.0</td>\n",
              "      <td>0.0</td>\n",
              "      <td>0.0</td>\n",
              "      <td>0.0</td>\n",
              "      <td>0.000000</td>\n",
              "      <td>0.0</td>\n",
              "      <td>0.0</td>\n",
              "      <td>0.0</td>\n",
              "      <td>0.0</td>\n",
              "      <td>0.0</td>\n",
              "      <td>0.0</td>\n",
              "      <td>0.0</td>\n",
              "      <td>0.188024</td>\n",
              "      <td>0.0</td>\n",
              "      <td>0.0</td>\n",
              "      <td>0.0</td>\n",
              "      <td>0.0</td>\n",
              "      <td>0.0</td>\n",
              "      <td>0.0</td>\n",
              "      <td>0.000000</td>\n",
              "      <td>0.0</td>\n",
              "      <td>0.0</td>\n",
              "      <td>0.0</td>\n",
              "      <td>0.0</td>\n",
              "      <td>0.0</td>\n",
              "      <td>0.0</td>\n",
              "      <td>0.0</td>\n",
              "      <td>0.0</td>\n",
              "      <td>0.0</td>\n",
              "      <td>0.000000</td>\n",
              "      <td>0.0</td>\n",
              "      <td>0.0</td>\n",
              "      <td>0.0</td>\n",
              "      <td>0.0</td>\n",
              "      <td>0.0</td>\n",
              "      <td>0.000000</td>\n",
              "      <td>0.0</td>\n",
              "      <td>0.0</td>\n",
              "    </tr>\n",
              "    <tr>\n",
              "      <th>4</th>\n",
              "      <td>0.0</td>\n",
              "      <td>0.0</td>\n",
              "      <td>0.0</td>\n",
              "      <td>0.000000</td>\n",
              "      <td>0.0</td>\n",
              "      <td>0.0</td>\n",
              "      <td>0.0</td>\n",
              "      <td>0.0</td>\n",
              "      <td>0.0</td>\n",
              "      <td>0.0</td>\n",
              "      <td>0.0</td>\n",
              "      <td>0.0</td>\n",
              "      <td>0.0</td>\n",
              "      <td>0.0</td>\n",
              "      <td>0.0</td>\n",
              "      <td>0.0</td>\n",
              "      <td>0.0</td>\n",
              "      <td>0.0</td>\n",
              "      <td>0.0</td>\n",
              "      <td>0.0</td>\n",
              "      <td>0.0</td>\n",
              "      <td>0.0</td>\n",
              "      <td>0.0</td>\n",
              "      <td>0.000000</td>\n",
              "      <td>0.0</td>\n",
              "      <td>0.0</td>\n",
              "      <td>0.0</td>\n",
              "      <td>0.0</td>\n",
              "      <td>0.0</td>\n",
              "      <td>0.0</td>\n",
              "      <td>0.0</td>\n",
              "      <td>0.0</td>\n",
              "      <td>0.0</td>\n",
              "      <td>0.0</td>\n",
              "      <td>0.0</td>\n",
              "      <td>0.0</td>\n",
              "      <td>0.0</td>\n",
              "      <td>0.0</td>\n",
              "      <td>0.0</td>\n",
              "      <td>0.000000</td>\n",
              "      <td>...</td>\n",
              "      <td>0.0</td>\n",
              "      <td>0.0</td>\n",
              "      <td>0.0</td>\n",
              "      <td>0.0</td>\n",
              "      <td>0.0</td>\n",
              "      <td>0.0</td>\n",
              "      <td>0.456373</td>\n",
              "      <td>0.0</td>\n",
              "      <td>0.0</td>\n",
              "      <td>0.0</td>\n",
              "      <td>0.0</td>\n",
              "      <td>0.0</td>\n",
              "      <td>0.0</td>\n",
              "      <td>0.0</td>\n",
              "      <td>0.000000</td>\n",
              "      <td>0.0</td>\n",
              "      <td>0.0</td>\n",
              "      <td>0.0</td>\n",
              "      <td>0.0</td>\n",
              "      <td>0.0</td>\n",
              "      <td>0.0</td>\n",
              "      <td>0.000000</td>\n",
              "      <td>0.0</td>\n",
              "      <td>0.0</td>\n",
              "      <td>0.0</td>\n",
              "      <td>0.0</td>\n",
              "      <td>0.0</td>\n",
              "      <td>0.0</td>\n",
              "      <td>0.0</td>\n",
              "      <td>0.0</td>\n",
              "      <td>0.0</td>\n",
              "      <td>0.000000</td>\n",
              "      <td>0.0</td>\n",
              "      <td>0.0</td>\n",
              "      <td>0.0</td>\n",
              "      <td>0.0</td>\n",
              "      <td>0.0</td>\n",
              "      <td>0.454707</td>\n",
              "      <td>0.0</td>\n",
              "      <td>0.0</td>\n",
              "    </tr>\n",
              "  </tbody>\n",
              "</table>\n",
              "<p>5 rows × 1000 columns</p>\n",
              "</div>\n",
              "      <button class=\"colab-df-convert\" onclick=\"convertToInteractive('df-94cd7e3d-0906-4080-a863-c940c9ce8ec5')\"\n",
              "              title=\"Convert this dataframe to an interactive table.\"\n",
              "              style=\"display:none;\">\n",
              "        \n",
              "  <svg xmlns=\"http://www.w3.org/2000/svg\" height=\"24px\"viewBox=\"0 0 24 24\"\n",
              "       width=\"24px\">\n",
              "    <path d=\"M0 0h24v24H0V0z\" fill=\"none\"/>\n",
              "    <path d=\"M18.56 5.44l.94 2.06.94-2.06 2.06-.94-2.06-.94-.94-2.06-.94 2.06-2.06.94zm-11 1L8.5 8.5l.94-2.06 2.06-.94-2.06-.94L8.5 2.5l-.94 2.06-2.06.94zm10 10l.94 2.06.94-2.06 2.06-.94-2.06-.94-.94-2.06-.94 2.06-2.06.94z\"/><path d=\"M17.41 7.96l-1.37-1.37c-.4-.4-.92-.59-1.43-.59-.52 0-1.04.2-1.43.59L10.3 9.45l-7.72 7.72c-.78.78-.78 2.05 0 2.83L4 21.41c.39.39.9.59 1.41.59.51 0 1.02-.2 1.41-.59l7.78-7.78 2.81-2.81c.8-.78.8-2.07 0-2.86zM5.41 20L4 18.59l7.72-7.72 1.47 1.35L5.41 20z\"/>\n",
              "  </svg>\n",
              "      </button>\n",
              "      \n",
              "  <style>\n",
              "    .colab-df-container {\n",
              "      display:flex;\n",
              "      flex-wrap:wrap;\n",
              "      gap: 12px;\n",
              "    }\n",
              "\n",
              "    .colab-df-convert {\n",
              "      background-color: #E8F0FE;\n",
              "      border: none;\n",
              "      border-radius: 50%;\n",
              "      cursor: pointer;\n",
              "      display: none;\n",
              "      fill: #1967D2;\n",
              "      height: 32px;\n",
              "      padding: 0 0 0 0;\n",
              "      width: 32px;\n",
              "    }\n",
              "\n",
              "    .colab-df-convert:hover {\n",
              "      background-color: #E2EBFA;\n",
              "      box-shadow: 0px 1px 2px rgba(60, 64, 67, 0.3), 0px 1px 3px 1px rgba(60, 64, 67, 0.15);\n",
              "      fill: #174EA6;\n",
              "    }\n",
              "\n",
              "    [theme=dark] .colab-df-convert {\n",
              "      background-color: #3B4455;\n",
              "      fill: #D2E3FC;\n",
              "    }\n",
              "\n",
              "    [theme=dark] .colab-df-convert:hover {\n",
              "      background-color: #434B5C;\n",
              "      box-shadow: 0px 1px 3px 1px rgba(0, 0, 0, 0.15);\n",
              "      filter: drop-shadow(0px 1px 2px rgba(0, 0, 0, 0.3));\n",
              "      fill: #FFFFFF;\n",
              "    }\n",
              "  </style>\n",
              "\n",
              "      <script>\n",
              "        const buttonEl =\n",
              "          document.querySelector('#df-94cd7e3d-0906-4080-a863-c940c9ce8ec5 button.colab-df-convert');\n",
              "        buttonEl.style.display =\n",
              "          google.colab.kernel.accessAllowed ? 'block' : 'none';\n",
              "\n",
              "        async function convertToInteractive(key) {\n",
              "          const element = document.querySelector('#df-94cd7e3d-0906-4080-a863-c940c9ce8ec5');\n",
              "          const dataTable =\n",
              "            await google.colab.kernel.invokeFunction('convertToInteractive',\n",
              "                                                     [key], {});\n",
              "          if (!dataTable) return;\n",
              "\n",
              "          const docLinkHtml = 'Like what you see? Visit the ' +\n",
              "            '<a target=\"_blank\" href=https://colab.research.google.com/notebooks/data_table.ipynb>data table notebook</a>'\n",
              "            + ' to learn more about interactive tables.';\n",
              "          element.innerHTML = '';\n",
              "          dataTable['output_type'] = 'display_data';\n",
              "          await google.colab.output.renderOutput(dataTable, element);\n",
              "          const docLink = document.createElement('div');\n",
              "          docLink.innerHTML = docLinkHtml;\n",
              "          element.appendChild(docLink);\n",
              "        }\n",
              "      </script>\n",
              "    </div>\n",
              "  </div>\n",
              "  "
            ],
            "text/plain": [
              "   according reuters  according united  ...  york time  young people\n",
              "0                0.0               0.0  ...        0.0           0.0\n",
              "1                0.0               0.0  ...        0.0           0.0\n",
              "2                0.0               0.0  ...        0.0           0.0\n",
              "3                0.0               0.0  ...        0.0           0.0\n",
              "4                0.0               0.0  ...        0.0           0.0\n",
              "\n",
              "[5 rows x 1000 columns]"
            ]
          },
          "metadata": {},
          "execution_count": 66
        }
      ],
      "source": [
        "vectorizer = TfidfVectorizer(ngram_range=(2,2),\n",
        "                             token_pattern=r'\\b[a-zA-Z]{3,}\\b', max_df=0.4, max_features = 1000, stop_words=\"english\")\n",
        "\n",
        "X, terms = vectorizer.fit_transform(data.loc[data['authentic']==1,'text']), vectorizer.get_feature_names_out()\n",
        "\n",
        "df_tf_idf = pd.DataFrame(X.toarray(), columns=terms)\n",
        "\n",
        "print(f\"TF-IDF: {df_tf_idf.shape}\")\n",
        "df_tf_idf.head(5)"
      ]
    },
    {
      "cell_type": "code",
      "execution_count": 67,
      "metadata": {
        "id": "g90CbIaFESl4",
        "colab": {
          "base_uri": "https://localhost:8080/"
        },
        "outputId": "cb1a660b-b2ea-4178-d714-7d1c4f73c207"
      },
      "outputs": [
        {
          "output_type": "stream",
          "name": "stdout",
          "text": [
            "Original shape of X is (4283, 1000)\n",
            "Decomposed W matrix is (4283, 5)\n",
            "Decomposed H matrix is (5, 1000)\n"
          ]
        },
        {
          "output_type": "stream",
          "name": "stderr",
          "text": [
            "/usr/local/lib/python3.7/dist-packages/sklearn/decomposition/_nmf.py:294: FutureWarning: The 'init' value, when 'init=None' and n_components is less than n_samples and n_features, will be changed from 'nndsvd' to 'nndsvda' in 1.1 (renaming of 0.26).\n",
            "  FutureWarning,\n"
          ]
        }
      ],
      "source": [
        "nmf = NMF(n_components=5)\n",
        "df_W = nmf.fit_transform(X)\n",
        "df_H = nmf.components_\n",
        "print(f\"Original shape of X is {X.shape}\")\n",
        "print(f\"Decomposed W matrix is {df_W.shape}\")\n",
        "print(f\"Decomposed H matrix is {df_H.shape}\")"
      ]
    },
    {
      "cell_type": "code",
      "execution_count": 68,
      "metadata": {
        "id": "gv-cWotXESoR",
        "colab": {
          "base_uri": "https://localhost:8080/"
        },
        "outputId": "d542c748-5082-4714-8698-3cec03bfc2e7"
      },
      "outputs": [
        {
          "output_type": "stream",
          "name": "stdout",
          "text": [
            "TOPIC 0\n",
            "\n",
            "\bwhite house (4.7%)\n",
            "\n",
            "\bwashington reuters (2.6%)\n",
            "\n",
            "\bpresident donald (2.1%)\n",
            "\n",
            "\breuters united (1.8%)\n",
            "\n",
            "\bhouse said (1.6%)\n",
            "\n",
            "\bstate president (1.6%)\n",
            "\n",
            "\bbarack obama (1.3%)\n",
            "\n",
            "\bpresident barack (1.2%)\n",
            "\n",
            "\bhouse representative (1.0%)\n",
            "\n",
            "\breuters president (0.9%)\n",
            "\n",
            "\btrump administration (0.9%)\n",
            "\n",
            "\btold reporter (0.8%)\n",
            "\n",
            "\bstate senate (0.8%)\n",
            "\n",
            "\bsaid statement (0.8%)\n",
            "\n",
            "\bhouse spokesman (0.7%)\n",
            "\n",
            "==================================================\n",
            "TOPIC 1\n",
            "\n",
            "\bnorth korea (13.4%)\n",
            "\n",
            "\bnorth korean (3.6%)\n",
            "\n",
            "\bsouth korea (3.1%)\n",
            "\n",
            "\bsouth korean (1.9%)\n",
            "\n",
            "\bunited nation (1.8%)\n",
            "\n",
            "\bkim jong (1.7%)\n",
            "\n",
            "\bnuclear test (1.6%)\n",
            "\n",
            "\bballistic missile (1.6%)\n",
            "\n",
            "\bnuclear weapon (1.5%)\n",
            "\n",
            "\bsecurity council (1.4%)\n",
            "\n",
            "\bstate president (1.3%)\n",
            "\n",
            "\bkorea nuclear (1.3%)\n",
            "\n",
            "\bforeign minister (1.2%)\n",
            "\n",
            "\bleader kim (1.1%)\n",
            "\n",
            "\bkorean peninsula (1.0%)\n",
            "\n",
            "==================================================\n",
            "TOPIC 2\n",
            "\n",
            "\bprime minister (7.3%)\n",
            "\n",
            "\beuropean union (4.4%)\n",
            "\n",
            "\blondon reuters (2.5%)\n",
            "\n",
            "\bminister theresa (2.4%)\n",
            "\n",
            "\bbritish prime (1.5%)\n",
            "\n",
            "\breuters british (1.3%)\n",
            "\n",
            "\bnorthern ireland (1.1%)\n",
            "\n",
            "\bconservative party (0.9%)\n",
            "\n",
            "\breuters britain (0.9%)\n",
            "\n",
            "\bangela merkel (0.9%)\n",
            "\n",
            "\btold reporter (0.9%)\n",
            "\n",
            "\bchancellor angela (0.9%)\n",
            "\n",
            "\bspokesman said (0.9%)\n",
            "\n",
            "\bfinance minister (0.9%)\n",
            "\n",
            "\bbrunited statesls (0.9%)\n",
            "\n",
            "==================================================\n",
            "TOPIC 3\n",
            "\n",
            "\bislamic state (4.9%)\n",
            "\n",
            "\bsaudi arabia (2.5%)\n",
            "\n",
            "\bhuman right (2.0%)\n",
            "\n",
            "\btold reuters (1.7%)\n",
            "\n",
            "\bunited nation (1.7%)\n",
            "\n",
            "\bsecurity force (1.6%)\n",
            "\n",
            "\bofficial said (1.2%)\n",
            "\n",
            "\bshi ite (1.1%)\n",
            "\n",
            "\bair strike (1.1%)\n",
            "\n",
            "\bstate militant (1.0%)\n",
            "\n",
            "\bkilled people (1.0%)\n",
            "\n",
            "\bsaid statement (1.0%)\n",
            "\n",
            "\byear old (0.9%)\n",
            "\n",
            "\bpolice said (0.9%)\n",
            "\n",
            "\bsource said (0.9%)\n",
            "\n",
            "==================================================\n",
            "TOPIC 4\n",
            "\n",
            "\bnew york (2.7%)\n",
            "\n",
            "\bhillary clinton (1.6%)\n",
            "\n",
            "\btrump said (1.6%)\n",
            "\n",
            "\bpresidential candidate (1.1%)\n",
            "\n",
            "\brepublican presidential (1.1%)\n",
            "\n",
            "\btrump campaign (0.9%)\n",
            "\n",
            "\bpresidential election (0.9%)\n",
            "\n",
            "\bstate senator (0.9%)\n",
            "\n",
            "\bsecretary state (0.8%)\n",
            "\n",
            "\bsaid trump (0.8%)\n",
            "\n",
            "\byork reuters (0.8%)\n",
            "\n",
            "\bpresident elect (0.7%)\n",
            "\n",
            "\battorney general (0.6%)\n",
            "\n",
            "\bnov election (0.6%)\n",
            "\n",
            "\bpresidential nominee (0.6%)\n",
            "\n",
            "==================================================\n"
          ]
        }
      ],
      "source": [
        "get_top_tf_idf_tokens_for_topic(df_H, df_tf_idf.columns.tolist(), 15)"
      ]
    },
    {
      "cell_type": "markdown",
      "source": [
        "#### Topic summary:\n",
        "##### topic 1: News related to important people of American Presidential Election.\n",
        "##### topic 2: News related to military events between North Koera, South Koera and United States.\n",
        "##### topic 3: News related to international events.\n",
        "##### topic 4: British and European news.\n",
        "##### topic 5: News related to the political rivalry between Occiendt and middle east countries."
      ],
      "metadata": {
        "id": "GhEwsfp9f7pp"
      }
    },
    {
      "cell_type": "markdown",
      "source": [
        "### Conclusion for topic modelling\n",
        "*   We got topics of all news, fake news and true news respectively.\n",
        "*   After comparing the topics of fake and true news, we found that fake news are more likely to mention information about \"subscribing\"(Maybe to elicit more people to subscribe the news of certain media). And, in news related to American Presidential Election, they tended to mention more information about Hillary Clinton. When there are news about American governemnt, they were more likely to mention information about Obama. \n",
        "*  However, there are less information about British and Europe. And these fake news did also not tend to mention information of political and militery rivalry between South Koera, United States and North Koear, Middle East countries."
      ],
      "metadata": {
        "id": "JNKGRABwf9vz"
      }
    }
  ],
  "metadata": {
    "colab": {
      "name": "Project.ipynb",
      "provenance": []
    },
    "kernelspec": {
      "display_name": "Python 3",
      "language": "python",
      "name": "python3"
    },
    "language_info": {
      "codemirror_mode": {
        "name": "ipython",
        "version": 3
      },
      "file_extension": ".py",
      "mimetype": "text/x-python",
      "name": "python",
      "nbconvert_exporter": "python",
      "pygments_lexer": "ipython3",
      "version": "3.8.3"
    },
    "toc": {
      "base_numbering": 1,
      "nav_menu": {},
      "number_sections": true,
      "sideBar": true,
      "skip_h1_title": false,
      "title_cell": "Table of Contents",
      "title_sidebar": "Contents",
      "toc_cell": false,
      "toc_position": {},
      "toc_section_display": true,
      "toc_window_display": false
    }
  },
  "nbformat": 4,
  "nbformat_minor": 0
}